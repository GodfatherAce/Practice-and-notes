{
 "cells": [
  {
   "cell_type": "markdown",
   "metadata": {},
   "source": [
    "# Clustering\n",
    "\n",
    "**Unsupervised learning** - not predicting, but finding patterns in data"
   ]
  },
  {
   "cell_type": "code",
   "execution_count": 1,
   "metadata": {
    "collapsed": true
   },
   "outputs": [],
   "source": [
    "import pandas as pd\n",
    "import numpy as np"
   ]
  },
  {
   "cell_type": "code",
   "execution_count": 2,
   "metadata": {
    "collapsed": false
   },
   "outputs": [
    {
     "name": "stdout",
     "output_type": "stream",
     "text": [
      "   person state       party                      name vote1 vote2 vote3\n",
      "0  300002    TN  Republican  Sen. Lamar Alexander [R]   Nay   Yea   Yea\n",
      "1  300011    CA    Democrat    Sen. Barbara Boxer [D]   Yea   Nay   Nay\n",
      "2  300018    WA    Democrat   Sen. Maria Cantwell [D]   Yea   Yea   Nay\n",
      "3  300019    DE    Democrat    Sen. Thomas Carper [D]   Yea   Yea   Nay\n",
      "4  300023    MS  Republican     Sen. Thad Cochran [R]   Nay   Yea   Yea\n"
     ]
    }
   ],
   "source": [
    "# load raw data\n",
    "votes = pd.read_csv('114-congress.csv', header=1)\n",
    "votes2= pd.read_csv('114-congress2.csv', header=1)\n",
    "votes3= pd.read_csv('114-congress3.csv', header=1)\n",
    "# add the raw data so we can have several vote results (while cleaning up column name/order)\n",
    "votes.rename(columns={'vote':'vote1'}, inplace=True)\n",
    "votes['vote2']=votes2['vote']\n",
    "votes['vote3']=votes3['vote']\n",
    "votes=votes[['person','state','party','name','vote1','vote2','vote3']]\n",
    "print votes.head(5)"
   ]
  },
  {
   "cell_type": "code",
   "execution_count": 3,
   "metadata": {
    "collapsed": false
   },
   "outputs": [
    {
     "name": "stdout",
     "output_type": "stream",
     "text": [
      "   person state       party                      name  vote1  vote2  vote3\n",
      "0  300002    TN  Republican  Sen. Lamar Alexander [R]    0.0    1.0    1.0\n",
      "1  300011    CA    Democrat    Sen. Barbara Boxer [D]    1.0    0.0    0.0\n",
      "2  300018    WA    Democrat   Sen. Maria Cantwell [D]    1.0    1.0    0.0\n",
      "3  300019    DE    Democrat    Sen. Thomas Carper [D]    1.0    1.0    0.0\n",
      "4  300023    MS  Republican     Sen. Thad Cochran [R]    0.0    1.0    1.0\n"
     ]
    }
   ],
   "source": [
    "# convert the vote column into integers for analysis\n",
    "replace_dict={'Nay':0, 'Yea':1, 'Not Voting':0.5}\n",
    "votes['vote1']=votes['vote1'].map(replace_dict)\n",
    "votes['vote2']=votes['vote2'].map(replace_dict)\n",
    "votes['vote3']=votes['vote3'].map(replace_dict)\n",
    "print votes.head(5)"
   ]
  },
  {
   "cell_type": "code",
   "execution_count": 4,
   "metadata": {
    "collapsed": false
   },
   "outputs": [
    {
     "name": "stdout",
     "output_type": "stream",
     "text": [
      "Republican     54\n",
      "Democrat       44\n",
      "Independent     2\n",
      "Name: party, dtype: int64\n",
      "vote1    0.450\n",
      "vote2    0.865\n",
      "vote3    0.565\n",
      "dtype: float64\n"
     ]
    }
   ],
   "source": [
    "# Examine the distribution of party members\n",
    "print votes['party'].value_counts()\n",
    "\n",
    "# Look at the mean votes where <0.5 is against the bill and >0.5 is for bill\n",
    "print np.mean(votes.iloc[:,4:])"
   ]
  },
  {
   "cell_type": "markdown",
   "metadata": {},
   "source": [
    "## Euclidean distance : computing \"closeness\""
   ]
  },
  {
   "cell_type": "code",
   "execution_count": 5,
   "metadata": {
    "collapsed": false
   },
   "outputs": [
    {
     "name": "stdout",
     "output_type": "stream",
     "text": [
      "vote1    0\n",
      "vote2    1\n",
      "vote3    1\n",
      "Name: 0, dtype: object\n",
      "[[0.0 1.0 1.0]]\n",
      "[[0.0]\n",
      " [1.0]\n",
      " [1.0]]\n",
      "[[ 1.73205081]]\n"
     ]
    }
   ],
   "source": [
    "# import library\n",
    "from sklearn.metrics.pairwise import euclidean_distances\n",
    "\n",
    "# print the euclidean distance between the 1st and 2nd voter\n",
    "print votes.iloc[0,4:]\n",
    "print votes.iloc[0,4:].reshape(1,-1)\n",
    "print votes.iloc[0,4:].reshape(-1,1)\n",
    "\n",
    "print euclidean_distances(votes.iloc[0,4:].reshape(1,-1), votes.iloc[1,4:].reshape(1,-1))"
   ]
  },
  {
   "cell_type": "markdown",
   "metadata": {},
   "source": [
    "## Clustering"
   ]
  },
  {
   "cell_type": "code",
   "execution_count": 10,
   "metadata": {
    "collapsed": false
   },
   "outputs": [
    {
     "name": "stdout",
     "output_type": "stream",
     "text": [
      "[[ 1.38041862  0.04165978]\n",
      " [ 0.72648316  1.69542408]\n",
      " [ 0.28867513  1.38232646]\n",
      " [ 0.28867513  1.38232646]\n",
      " [ 1.38041862  0.04165978]]\n"
     ]
    }
   ],
   "source": [
    "# import and instantiate to cluster into two groups (R or D)\n",
    "from sklearn.cluster import KMeans\n",
    "kmeans_model = KMeans(n_clusters=2, random_state=1)\n",
    "\n",
    "\n",
    "#  This can be skipped because initially there was NaN in the columns that converted it to an object.\n",
    "#  Without error, automatically converted to float\n",
    "#\n",
    "# Since the votes columns are represented as objects, need to change datatype to int/float for analysis\n",
    "#print votes.dtypes\n",
    "#cols=['vote1','vote2','vote3']\n",
    "#votes[cols]=votes[cols].astype(float)\n",
    "\n",
    "# Calculate senator distances from the cluster\n",
    "senator_distances=kmeans_model.fit_transform(votes.iloc[:,4:])\n",
    "print senator_distances[:5]"
   ]
  },
  {
   "cell_type": "markdown",
   "metadata": {},
   "source": [
    "## Exploring the clusters using pandas.crosstab()"
   ]
  },
  {
   "cell_type": "code",
   "execution_count": 11,
   "metadata": {
    "collapsed": false
   },
   "outputs": [
    {
     "name": "stdout",
     "output_type": "stream",
     "text": [
      "[1 0 0 0 1 1 1 1 0 1 1 1 1 1 1 0 1 1 0 1 0 0 0 0 1 0 1 1 0 0 0 1 1 0 1 1 0\n",
      " 1 1 1 0 0 1 1 0 1 0 1 1 1 1 0 0 1 1 0 0 0 0 0 0 1 1 1 0 0 0 1 0 0 0 0 0 1\n",
      " 1 1 1 0 1 0 1 1 0 1 0 1 0 1 1 0 1 0 0 0 1 1 1 1 1 1]\n",
      "party  Democrat  Independent  Republican\n",
      "row_0                                   \n",
      "0            41            1           3\n",
      "1             3            1          51\n"
     ]
    }
   ],
   "source": [
    "labels = kmeans_model.labels_\n",
    "print labels\n",
    "\n",
    "print pd.crosstab(labels, votes['party'])"
   ]
  },
  {
   "cell_type": "markdown",
   "metadata": {},
   "source": [
    "### Exploring senators in the wrong cluster"
   ]
  },
  {
   "cell_type": "code",
   "execution_count": 15,
   "metadata": {
    "collapsed": false
   },
   "outputs": [
    {
     "name": "stdout",
     "output_type": "stream",
     "text": [
      "    person state     party                       name  vote1  vote2  vote3\n",
      "10  300043    CA  Democrat  Sen. Dianne Feinstein [D]    0.0    1.0    0.0\n",
      "53  412205    IN  Democrat      Sen. Joe Donnelly [D]    0.0    1.0    1.0\n",
      "73  412391    WV  Democrat   Sen. Joe Manchin III [D]    0.5    1.0    1.0\n",
      "    person state       party                name  vote1  vote2  vote3\n",
      "79  412492    KY  Republican  Sen. Rand Paul [R]    1.0    0.0    1.0\n",
      "82  412495    UT  Republican   Sen. Mike Lee [R]    1.0    0.5    0.5\n",
      "91  412573    TX  Republican   Sen. Ted Cruz [R]    1.0    1.0    1.0\n"
     ]
    }
   ],
   "source": [
    "democratic_outliers = votes[(labels == 1) & (votes['party']=='Democrat')]\n",
    "print democratic_outliers\n",
    "\n",
    "republican_outliers = votes[(labels == 0) & (votes['party'] == 'Republican')]\n",
    "print republican_outliers"
   ]
  },
  {
   "cell_type": "markdown",
   "metadata": {},
   "source": [
    "### Plotting the clusters"
   ]
  },
  {
   "cell_type": "code",
   "execution_count": 18,
   "metadata": {
    "collapsed": false
   },
   "outputs": [
    {
     "data": {
      "image/png": "[encoded data removed]",
      "text/plain": [
       "<matplotlib.figure.Figure at 0x11f464bd0>"
      ]
     },
     "metadata": {},
     "output_type": "display_data"
    }
   ],
   "source": [
    "import matplotlib.pyplot as plt\n",
    "import seaborn as sns\n",
    "%matplotlib inline\n",
    "\n",
    "plt.scatter(x=senator_distances[:,0],y=senator_distances[:,1],c=labels)\n",
    "plt.xlabel('distance to cluster 0')\n",
    "plt.ylabel('distance to cluster 1')\n",
    "sns.plt.show()"
   ]
  },
  {
   "cell_type": "markdown",
   "metadata": {},
   "source": [
    "### Finding the most extreme"
   ]
  },
  {
   "cell_type": "code",
   "execution_count": 22,
   "metadata": {
    "collapsed": false
   },
   "outputs": [
    {
     "name": "stdout",
     "output_type": "stream",
     "text": [
      "    person state        party                               name  vote1  \\\n",
      "44  400357    VT  Independent  Sen. Bernard “Bernie” Sanders [I]    1.0   \n",
      "51  412194    CT     Democrat        Sen. Christopher Murphy [D]    1.0   \n",
      "40  400253    MA     Democrat        Sen. Edward “Ed” Markey [D]    1.0   \n",
      "84  412507    HI     Democrat              Sen. Brian Schatz [D]    1.0   \n",
      "69  412325    OR     Democrat              Sen. Jeff Merkley [D]    1.0   \n",
      "86  412542    MA     Democrat          Sen. Elizabeth Warren [D]    1.0   \n",
      "15  300065    VT     Democrat             Sen. Patrick Leahy [D]    1.0   \n",
      "1   300011    CA     Democrat             Sen. Barbara Boxer [D]    1.0   \n",
      "29  300100    OR     Democrat                 Sen. Ron Wyden [D]    1.0   \n",
      "55  412223    NY     Democrat        Sen. Kirsten Gillibrand [D]    1.0   \n",
      "54  412218    NV   Republican               Sen. Dean Heller [R]    0.0   \n",
      "79  412492    KY   Republican                 Sen. Rand Paul [R]    1.0   \n",
      "52  412200    HI     Democrat              Sen. Mazie Hirono [D]    1.0   \n",
      "41  400272    NJ     Democrat     Sen. Robert “Bob” Menéndez [D]    1.0   \n",
      "33  400050    OH     Democrat             Sen. Sherrod Brown [D]    1.0   \n",
      "77  412490    CT     Democrat        Sen. Richard Blumenthal [D]    1.0   \n",
      "36  400064    MD     Democrat           Sen. Benjamin Cardin [D]    1.0   \n",
      "72  412390    DE     Democrat               Sen. Chris Coons [D]    1.0   \n",
      "59  412246    PA     Democrat    Sen. Robert “Bob” Casey Jr. [D]    1.0   \n",
      "70  412330    CO     Democrat            Sen. Michael Bennet [D]    1.0   \n",
      "\n",
      "    vote2  vote3  extremism  \n",
      "44    0.0    0.0   5.256855  \n",
      "51    0.0    0.0   5.256855  \n",
      "40    0.0    0.0   5.256855  \n",
      "84    0.0    0.0   5.256855  \n",
      "69    0.0    0.0   5.256855  \n",
      "86    0.0    0.0   5.256855  \n",
      "15    0.0    0.0   5.256855  \n",
      "1     0.0    0.0   5.256855  \n",
      "29    0.0    0.0   5.256855  \n",
      "55    0.0    0.0   5.256855  \n",
      "54    0.0    1.0   4.550992  \n",
      "79    0.0    1.0   4.324590  \n",
      "52    1.0    0.0   2.665442  \n",
      "41    1.0    0.0   2.665442  \n",
      "33    1.0    0.0   2.665442  \n",
      "77    1.0    0.0   2.665442  \n",
      "36    1.0    0.0   2.665442  \n",
      "72    1.0    0.0   2.665442  \n",
      "59    1.0    0.0   2.665442  \n",
      "70    1.0    0.0   2.665442  \n"
     ]
    }
   ],
   "source": [
    "extremism = np.sum(senator_distances**3, axis=1)\n",
    "votes['extremism']=extremism\n",
    "print votes.sort_values('extremism', ascending=False)[:20]"
   ]
  }
 ],
 "metadata": {
  "kernelspec": {
   "display_name": "Python 2",
   "language": "python",
   "name": "python2"
  },
  "language_info": {
   "codemirror_mode": {
    "name": "ipython",
    "version": 2
   },
   "file_extension": ".py",
   "mimetype": "text/x-python",
   "name": "python",
   "nbconvert_exporter": "python",
   "pygments_lexer": "ipython2",
   "version": "2.7.11"
  }
 },
 "nbformat": 4,
 "nbformat_minor": 0
}
