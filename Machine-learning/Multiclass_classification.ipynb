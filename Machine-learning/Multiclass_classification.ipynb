{
 "cells": [
  {
   "cell_type": "markdown",
   "metadata": {},
   "source": [
    "# Multiclass classification"
   ]
  },
  {
   "cell_type": "markdown",
   "metadata": {},
   "source": [
    "## Cleaning data"
   ]
  },
  {
   "cell_type": "code",
   "execution_count": 1,
   "metadata": {
    "collapsed": true
   },
   "outputs": [],
   "source": [
    "import pandas as pd\n",
    "import numpy as np"
   ]
  },
  {
   "cell_type": "code",
   "execution_count": 2,
   "metadata": {
    "collapsed": false
   },
   "outputs": [
    {
     "name": "stdout",
     "output_type": "stream",
     "text": [
      "    mpg  cylinders  displacement horsepower  weight  acceleration  year  \\\n",
      "0  18.0          8         307.0      130.0  3504.0          12.0    70   \n",
      "\n",
      "   origin                   car_name  \n",
      "0       1  chevrolet chevelle malibu  \n"
     ]
    }
   ],
   "source": [
    "column_name =['mpg','cylinders','displacement','horsepower','weight','acceleration','year','origin','car_name']\n",
    "cars = pd.read_table('auto-mpg.data', header=None,delim_whitespace=True)\n",
    "cars.columns=column_name\n",
    "print cars.head(1)"
   ]
  },
  {
   "cell_type": "markdown",
   "metadata": {},
   "source": [
    "### Convert categorical variable into indicator variables"
   ]
  },
  {
   "cell_type": "code",
   "execution_count": 3,
   "metadata": {
    "collapsed": false
   },
   "outputs": [
    {
     "name": "stdout",
     "output_type": "stream",
     "text": [
      "    mpg  displacement horsepower  weight  acceleration  origin  \\\n",
      "0  18.0         307.0      130.0  3504.0          12.0       1   \n",
      "1  15.0         350.0      165.0  3693.0          11.5       1   \n",
      "2  18.0         318.0      150.0  3436.0          11.0       1   \n",
      "3  16.0         304.0      150.0  3433.0          12.0       1   \n",
      "4  17.0         302.0      140.0  3449.0          10.5       1   \n",
      "\n",
      "                    car_name  cyl_3  cyl_4  cyl_5   ...     year_73  year_74  \\\n",
      "0  chevrolet chevelle malibu    0.0    0.0    0.0   ...         0.0      0.0   \n",
      "1          buick skylark 320    0.0    0.0    0.0   ...         0.0      0.0   \n",
      "2         plymouth satellite    0.0    0.0    0.0   ...         0.0      0.0   \n",
      "3              amc rebel sst    0.0    0.0    0.0   ...         0.0      0.0   \n",
      "4                ford torino    0.0    0.0    0.0   ...         0.0      0.0   \n",
      "\n",
      "   year_75  year_76  year_77  year_78  year_79  year_80  year_81  year_82  \n",
      "0      0.0      0.0      0.0      0.0      0.0      0.0      0.0      0.0  \n",
      "1      0.0      0.0      0.0      0.0      0.0      0.0      0.0      0.0  \n",
      "2      0.0      0.0      0.0      0.0      0.0      0.0      0.0      0.0  \n",
      "3      0.0      0.0      0.0      0.0      0.0      0.0      0.0      0.0  \n",
      "4      0.0      0.0      0.0      0.0      0.0      0.0      0.0      0.0  \n",
      "\n",
      "[5 rows x 25 columns]\n"
     ]
    },
    {
     "data": {
      "text/plain": [
       "mpg             float64\n",
       "displacement    float64\n",
       "horsepower       object\n",
       "weight          float64\n",
       "acceleration    float64\n",
       "origin            int64\n",
       "car_name         object\n",
       "cyl_3           float64\n",
       "cyl_4           float64\n",
       "cyl_5           float64\n",
       "cyl_6           float64\n",
       "cyl_8           float64\n",
       "year_70         float64\n",
       "year_71         float64\n",
       "year_72         float64\n",
       "year_73         float64\n",
       "year_74         float64\n",
       "year_75         float64\n",
       "year_76         float64\n",
       "year_77         float64\n",
       "year_78         float64\n",
       "year_79         float64\n",
       "year_80         float64\n",
       "year_81         float64\n",
       "year_82         float64\n",
       "dtype: object"
      ]
     },
     "execution_count": 3,
     "metadata": {},
     "output_type": "execute_result"
    }
   ],
   "source": [
    "dummy_cylinders = pd.get_dummies(cars[\"cylinders\"], prefix=\"cyl\")\n",
    "cars = pd.concat([cars, dummy_cylinders], axis=1)\n",
    "\n",
    "dummy_years = pd.get_dummies(cars['year'], prefix='year')\n",
    "cars = pd.concat([cars,dummy_years], axis=1)\n",
    "cars = cars.drop(\"year\", axis=1)\n",
    "cars = cars.drop(\"cylinders\", axis=1)\n",
    "print(cars.head(5))\n",
    "\n",
    "cars.dtypes"
   ]
  },
  {
   "cell_type": "code",
   "execution_count": 4,
   "metadata": {
    "collapsed": false
   },
   "outputs": [
    {
     "data": {
      "text/plain": [
       "mpg             float64\n",
       "displacement    float64\n",
       "horsepower      float64\n",
       "weight          float64\n",
       "acceleration    float64\n",
       "origin            int64\n",
       "car_name         object\n",
       "cyl_3           float64\n",
       "cyl_4           float64\n",
       "cyl_5           float64\n",
       "cyl_6           float64\n",
       "cyl_8           float64\n",
       "year_70         float64\n",
       "year_71         float64\n",
       "year_72         float64\n",
       "year_73         float64\n",
       "year_74         float64\n",
       "year_75         float64\n",
       "year_76         float64\n",
       "year_77         float64\n",
       "year_78         float64\n",
       "year_79         float64\n",
       "year_80         float64\n",
       "year_81         float64\n",
       "year_82         float64\n",
       "dtype: object"
      ]
     },
     "execution_count": 4,
     "metadata": {},
     "output_type": "execute_result"
    }
   ],
   "source": [
    "cars = cars[cars['horsepower'] != '?']\n",
    "cars['horsepower'] = cars['horsepower'].astype(float)\n",
    "cars.dtypes"
   ]
  },
  {
   "cell_type": "markdown",
   "metadata": {},
   "source": [
    "### Split data into test/train"
   ]
  },
  {
   "cell_type": "code",
   "execution_count": 5,
   "metadata": {
    "collapsed": false
   },
   "outputs": [
    {
     "data": {
      "text/html": [
       "<div>\n",
       "<table border=\"1\" class=\"dataframe\">\n",
       "  <thead>\n",
       "    <tr style=\"text-align: right;\">\n",
       "      <th></th>\n",
       "      <th>index</th>\n",
       "      <th>mpg</th>\n",
       "      <th>displacement</th>\n",
       "      <th>horsepower</th>\n",
       "      <th>weight</th>\n",
       "      <th>acceleration</th>\n",
       "      <th>origin</th>\n",
       "      <th>cyl_3</th>\n",
       "      <th>cyl_4</th>\n",
       "      <th>cyl_5</th>\n",
       "      <th>...</th>\n",
       "      <th>year_73</th>\n",
       "      <th>year_74</th>\n",
       "      <th>year_75</th>\n",
       "      <th>year_76</th>\n",
       "      <th>year_77</th>\n",
       "      <th>year_78</th>\n",
       "      <th>year_79</th>\n",
       "      <th>year_80</th>\n",
       "      <th>year_81</th>\n",
       "      <th>year_82</th>\n",
       "    </tr>\n",
       "  </thead>\n",
       "  <tbody>\n",
       "    <tr>\n",
       "      <th>139</th>\n",
       "      <td>141</td>\n",
       "      <td>29.0</td>\n",
       "      <td>98.0</td>\n",
       "      <td>83.0</td>\n",
       "      <td>2219.0</td>\n",
       "      <td>16.5</td>\n",
       "      <td>2</td>\n",
       "      <td>0.0</td>\n",
       "      <td>1.0</td>\n",
       "      <td>0.0</td>\n",
       "      <td>...</td>\n",
       "      <td>0.0</td>\n",
       "      <td>1.0</td>\n",
       "      <td>0.0</td>\n",
       "      <td>0.0</td>\n",
       "      <td>0.0</td>\n",
       "      <td>0.0</td>\n",
       "      <td>0.0</td>\n",
       "      <td>0.0</td>\n",
       "      <td>0.0</td>\n",
       "      <td>0.0</td>\n",
       "    </tr>\n",
       "    <tr>\n",
       "      <th>96</th>\n",
       "      <td>97</td>\n",
       "      <td>18.0</td>\n",
       "      <td>225.0</td>\n",
       "      <td>105.0</td>\n",
       "      <td>3121.0</td>\n",
       "      <td>16.5</td>\n",
       "      <td>1</td>\n",
       "      <td>0.0</td>\n",
       "      <td>0.0</td>\n",
       "      <td>0.0</td>\n",
       "      <td>...</td>\n",
       "      <td>1.0</td>\n",
       "      <td>0.0</td>\n",
       "      <td>0.0</td>\n",
       "      <td>0.0</td>\n",
       "      <td>0.0</td>\n",
       "      <td>0.0</td>\n",
       "      <td>0.0</td>\n",
       "      <td>0.0</td>\n",
       "      <td>0.0</td>\n",
       "      <td>0.0</td>\n",
       "    </tr>\n",
       "    <tr>\n",
       "      <th>324</th>\n",
       "      <td>326</td>\n",
       "      <td>43.4</td>\n",
       "      <td>90.0</td>\n",
       "      <td>48.0</td>\n",
       "      <td>2335.0</td>\n",
       "      <td>23.7</td>\n",
       "      <td>2</td>\n",
       "      <td>0.0</td>\n",
       "      <td>1.0</td>\n",
       "      <td>0.0</td>\n",
       "      <td>...</td>\n",
       "      <td>0.0</td>\n",
       "      <td>0.0</td>\n",
       "      <td>0.0</td>\n",
       "      <td>0.0</td>\n",
       "      <td>0.0</td>\n",
       "      <td>0.0</td>\n",
       "      <td>0.0</td>\n",
       "      <td>1.0</td>\n",
       "      <td>0.0</td>\n",
       "      <td>0.0</td>\n",
       "    </tr>\n",
       "  </tbody>\n",
       "</table>\n",
       "<p>3 rows × 25 columns</p>\n",
       "</div>"
      ],
      "text/plain": [
       "     index   mpg  displacement  horsepower  weight  acceleration  origin  \\\n",
       "139    141  29.0          98.0        83.0  2219.0          16.5       2   \n",
       "96      97  18.0         225.0       105.0  3121.0          16.5       1   \n",
       "324    326  43.4          90.0        48.0  2335.0          23.7       2   \n",
       "\n",
       "     cyl_3  cyl_4  cyl_5   ...     year_73  year_74  year_75  year_76  \\\n",
       "139    0.0    1.0    0.0   ...         0.0      1.0      0.0      0.0   \n",
       "96     0.0    0.0    0.0   ...         1.0      0.0      0.0      0.0   \n",
       "324    0.0    1.0    0.0   ...         0.0      0.0      0.0      0.0   \n",
       "\n",
       "     year_77  year_78  year_79  year_80  year_81  year_82  \n",
       "139      0.0      0.0      0.0      0.0      0.0      0.0  \n",
       "96       0.0      0.0      0.0      0.0      0.0      0.0  \n",
       "324      0.0      0.0      0.0      1.0      0.0      0.0  \n",
       "\n",
       "[3 rows x 25 columns]"
      ]
     },
     "execution_count": 5,
     "metadata": {},
     "output_type": "execute_result"
    }
   ],
   "source": [
    "# shuffle rows to randomly split into test/train\n",
    "cars = cars.reset_index()\n",
    "\n",
    "shuffled_rows = np.random.permutation(cars.index)\n",
    "shuffled_cars = cars.iloc[shuffled_rows]\n",
    "shuffled_cars = shuffled_cars.drop('car_name', axis=1)\n",
    "split=int(len(shuffled_rows)*.7)\n",
    "\n",
    "train = shuffled_cars.iloc[:split]\n",
    "test = shuffled_cars.iloc[split:]\n",
    "\n",
    "train.head(3)"
   ]
  },
  {
   "cell_type": "markdown",
   "metadata": {},
   "source": [
    "## Multiclass Logistic Regression\n",
    "### Training for each 'class'"
   ]
  },
  {
   "cell_type": "code",
   "execution_count": 9,
   "metadata": {
    "collapsed": false
   },
   "outputs": [
    {
     "name": "stdout",
     "output_type": "stream",
     "text": [
      "[1 2 3]\n"
     ]
    }
   ],
   "source": [
    "# import and instantiate\n",
    "from sklearn.linear_model import LogisticRegression\n",
    "\n",
    "# get the unique tokens for origin\n",
    "unique_origins = cars['origin'].unique()\n",
    "unique_origins.sort()\n",
    "print(unique_origins)\n",
    "\n",
    "models = {}\n",
    "cols = [c for c in train.columns if c.startswith(\"cyl\") or c.startswith(\"year\")]\n",
    "\n",
    "# for every unique values in origin, fit a logistic regression for multiclass classification\n",
    "for value in unique_origins:\n",
    "    lr = LogisticRegression()\n",
    "    lr.fit(train[cols],(train['origin']==value))\n",
    "    models[value] = lr"
   ]
  },
  {
   "cell_type": "markdown",
   "metadata": {},
   "source": [
    "<font color='red'>\n",
    "**it is very important to instantiate the model EACH time for EACH class, fit the model and STORE that model**"
   ]
  },
  {
   "cell_type": "markdown",
   "metadata": {},
   "source": [
    "### Testing for each class"
   ]
  },
  {
   "cell_type": "code",
   "execution_count": 10,
   "metadata": {
    "collapsed": false
   },
   "outputs": [
    {
     "name": "stdout",
     "output_type": "stream",
     "text": [
      "          1         2         3\n",
      "0  0.846078  0.118386  0.049195\n",
      "1  0.979858  0.020204  0.021376\n",
      "2  0.442736  0.309040  0.235080\n"
     ]
    }
   ],
   "source": [
    "# create empty dataframe\n",
    "testing_probs = pd.DataFrame(columns=unique_origins)  \n",
    "\n",
    "for origin in unique_origins:\n",
    "    X_test = test[cols]\n",
    "    # Compute probability of observation being in the origin.\n",
    "    testing_probs[origin] = models[origin].predict_proba(X_test)[:,1]\n",
    "\n",
    "print(testing_probs.head(3))"
   ]
  },
  {
   "cell_type": "markdown",
   "metadata": {},
   "source": [
    "### Predict origin"
   ]
  },
  {
   "cell_type": "code",
   "execution_count": 11,
   "metadata": {
    "collapsed": false
   },
   "outputs": [
    {
     "name": "stdout",
     "output_type": "stream",
     "text": [
      "0      1\n",
      "1      1\n",
      "2      1\n",
      "3      1\n",
      "4      2\n",
      "5      2\n",
      "6      1\n",
      "7      1\n",
      "8      1\n",
      "9      1\n",
      "10     2\n",
      "11     2\n",
      "12     1\n",
      "13     1\n",
      "14     1\n",
      "15     3\n",
      "16     1\n",
      "17     1\n",
      "18     1\n",
      "19     2\n",
      "20     2\n",
      "21     2\n",
      "22     1\n",
      "23     1\n",
      "24     1\n",
      "25     1\n",
      "26     1\n",
      "27     1\n",
      "28     1\n",
      "29     3\n",
      "      ..\n",
      "88     1\n",
      "89     3\n",
      "90     1\n",
      "91     1\n",
      "92     1\n",
      "93     3\n",
      "94     1\n",
      "95     2\n",
      "96     2\n",
      "97     1\n",
      "98     1\n",
      "99     1\n",
      "100    1\n",
      "101    2\n",
      "102    3\n",
      "103    2\n",
      "104    2\n",
      "105    1\n",
      "106    1\n",
      "107    1\n",
      "108    2\n",
      "109    1\n",
      "110    1\n",
      "111    3\n",
      "112    1\n",
      "113    3\n",
      "114    1\n",
      "115    1\n",
      "116    1\n",
      "117    2\n",
      "dtype: int64\n",
      "1    74\n",
      "2    35\n",
      "3     9\n",
      "dtype: int64\n"
     ]
    }
   ],
   "source": [
    "predicted_origins = testing_probs.idxmax(axis=1)\n",
    "\n",
    "print(predicted_origins)\n",
    "print(predicted_origins.value_counts())"
   ]
  }
 ],
 "metadata": {
  "kernelspec": {
   "display_name": "Python 2",
   "language": "python",
   "name": "python2"
  },
  "language_info": {
   "codemirror_mode": {
    "name": "ipython",
    "version": 2
   },
   "file_extension": ".py",
   "mimetype": "text/x-python",
   "name": "python",
   "nbconvert_exporter": "python",
   "pygments_lexer": "ipython2",
   "version": "2.7.11"
  }
 },
 "nbformat": 4,
 "nbformat_minor": 0
}
