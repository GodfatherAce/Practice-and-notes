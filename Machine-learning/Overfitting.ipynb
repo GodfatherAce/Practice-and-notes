{
 "cells": [
  {
   "cell_type": "markdown",
   "metadata": {},
   "source": [
    "# Overfitting"
   ]
  },
  {
   "cell_type": "code",
   "execution_count": 4,
   "metadata": {
    "collapsed": true
   },
   "outputs": [],
   "source": [
    "import pandas as pd"
   ]
  },
  {
   "cell_type": "code",
   "execution_count": 6,
   "metadata": {
    "collapsed": false
   },
   "outputs": [],
   "source": [
    "columns = [\"mpg\", \"cylinders\", \"displacement\", \"horsepower\", \"weight\", \"acceleration\", \"model year\", \"origin\", \"car name\"]\n",
    "cars = pd.read_table(\"auto-mpg.data\", delim_whitespace=True, names=columns)\n",
    "cars = cars[cars['horsepower'] != '?']\n",
    "cars['horsepower'] = cars['horsepower'].astype(float)"
   ]
  },
  {
   "cell_type": "markdown",
   "metadata": {},
   "source": [
    "## Bias and Variance\n",
    "\n",
    "**Bias**: Error in accuracy of prediction model  \n",
    "**Variance**: Error from variability of predicted value\n",
    "\n",
    "**Want low bias *and* low variance, but there is always a trade-off**\n",
    "\n",
    "![img](bias-var.png){float:left}"
   ]
  },
  {
   "cell_type": "code",
   "execution_count": 7,
   "metadata": {
    "collapsed": true
   },
   "outputs": [],
   "source": [
    "filtered_cars = cars"
   ]
  },
  {
   "cell_type": "code",
   "execution_count": 9,
   "metadata": {
    "collapsed": false
   },
   "outputs": [],
   "source": [
    "from sklearn.cross_validation import KFold\n",
    "from sklearn.metrics import mean_squared_error\n",
    "from sklearn.linear_model import LinearRegression\n",
    "import numpy as np\n",
    "\n",
    "def train_and_cross_val(cols):\n",
    "    kf = KFold(filtered_cars.shape[0],n_folds=10,shuffle=True,random_state=3)\n",
    "    X=filtered_cars[cols]\n",
    "    y=filtered_cars['mpg']\n",
    "    MSE=[]\n",
    "    VAR=[]\n",
    "    for train_index, test_index in kf:\n",
    "        #print(train_index, test_index, filtered_cars.shape[0])\n",
    "        X_train, y_train = X.iloc[train_index], y.iloc[train_index]\n",
    "        X_test, y_test = X.iloc[test_index], y.iloc[test_index]\n",
    "    \n",
    "        lr = LinearRegression()\n",
    "        lr.fit(X_train,y_train)\n",
    "        predict=lr.predict(X_test)\n",
    "        mse= np.mean((y_test-predict)**2)\n",
    "        var= np.var(predict)\n",
    "        MSE.append(mse)\n",
    "        VAR.append(var)\n",
    "    return (np.mean(MSE),np.mean(VAR))\n",
    "    \n",
    "two_mse, two_var = train_and_cross_val([\"cylinders\",'displacement'])\n",
    "three_mse, three_var = train_and_cross_val([\"cylinders\",'displacement','horsepower'])\n",
    "four_mse, four_var = train_and_cross_val([\"cylinders\",'displacement','horsepower','weight'])\n",
    "five_mse, five_var = train_and_cross_val([\"cylinders\",'displacement','horsepower','weight','acceleration'])\n",
    "six_mse, six_var = train_and_cross_val([\"cylinders\",'displacement','horsepower','weight','acceleration','model year'])\n",
    "seven_mse, seven_var = train_and_cross_val([\"cylinders\",'displacement','horsepower','weight','acceleration','model year','origin'])"
   ]
  },
  {
   "cell_type": "code",
   "execution_count": 21,
   "metadata": {
    "collapsed": false
   },
   "outputs": [
    {
     "data": {
      "image/png": "[encoded data removed]",
      "text/plain": [
       "<matplotlib.figure.Figure at 0x120435f10>"
      ]
     },
     "metadata": {},
     "output_type": "display_data"
    }
   ],
   "source": [
    "import matplotlib.pyplot as plt \n",
    "import seaborn as sns\n",
    "%matplotlib inline\n",
    "        \n",
    "two_mse, two_var = train_and_cross_val([\"cylinders\", \"displacement\"])\n",
    "three_mse, three_var = train_and_cross_val([\"cylinders\", \"displacement\", \"horsepower\"])\n",
    "four_mse, four_var = train_and_cross_val([\"cylinders\", \"displacement\", \"horsepower\", \"weight\"])\n",
    "five_mse, five_var = train_and_cross_val([\"cylinders\", \"displacement\", \"horsepower\", \"weight\", \"acceleration\"])\n",
    "six_mse, six_var = train_and_cross_val([\"cylinders\", \"displacement\", \"horsepower\", \"weight\", \"acceleration\", \"model year\"])\n",
    "seven_mse, seven_var = train_and_cross_val([\"cylinders\", \"displacement\", \"horsepower\", \"weight\", \"acceleration\",\"model year\", \"origin\"])\n",
    "\n",
    "sc1=plt.scatter(x=np.arange(2,8),y=[two_mse,three_mse,four_mse,five_mse,six_mse,seven_mse],color='red', marker='x',linewidth='2')\n",
    "\n",
    "sc2=plt.scatter(x=np.arange(2,8),y=[two_var,three_var,four_var,five_var,six_var,seven_var],color='blue', marker='o',linewidth='2')\n",
    "plt.xlabel('number of features')\n",
    "plt.ylabel('MSE and VAR')\n",
    "plt.legend((sc1, sc2),('MSE','VAR'),loc='lower left')\n",
    "sns.plt.show()"
   ]
  }
 ],
 "metadata": {
  "kernelspec": {
   "display_name": "Python 2",
   "language": "python",
   "name": "python2"
  },
  "language_info": {
   "codemirror_mode": {
    "name": "ipython",
    "version": 2
   },
   "file_extension": ".py",
   "mimetype": "text/x-python",
   "name": "python",
   "nbconvert_exporter": "python",
   "pygments_lexer": "ipython2",
   "version": "2.7.11"
  }
 },
 "nbformat": 4,
 "nbformat_minor": 0
}
