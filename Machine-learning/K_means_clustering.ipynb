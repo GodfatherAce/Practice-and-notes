{
 "cells": [
  {
   "cell_type": "markdown",
   "metadata": {},
   "source": [
    "# K-means Clustering\n",
    "**K**: number of clusters to segment data into\n",
    "\n",
    "**algorithm**: Iterative procedure\n",
    "- Assign K number of random \"centers\" -- *np.random.choice(X, size=K)*\n",
    "- Iteratively for every other sample calculate the closest distance to the centers and group together\n",
    "- Repeat until clusters no longer move and have converged\n",
    "\n",
    "\n",
    "\n",
    "**K-Means doesn't cause massive changes in the makeup of clusters between iterations, meaning that it will always converge and become stable**\n",
    "\n",
    "\n",
    "**Because K-Means is conservative between iterations, initial centroids and how we assign the players to clusters initially matters a lot**"
   ]
  },
  {
   "cell_type": "code",
   "execution_count": 2,
   "metadata": {
    "collapsed": false
   },
   "outputs": [
    {
     "data": {
      "text/html": [
       "<div>\n",
       "<table border=\"1\" class=\"dataframe\">\n",
       "  <thead>\n",
       "    <tr style=\"text-align: right;\">\n",
       "      <th></th>\n",
       "      <th>{\\rtf1\\ansi\\ansicpg1252\\cocoartf1348\\cocoasubrtf170</th>\n",
       "    </tr>\n",
       "  </thead>\n",
       "  <tbody>\n",
       "    <tr>\n",
       "      <th>0</th>\n",
       "      <td>{\\fonttbl\\f0\\fswiss\\fcharset0 ArialMT;}</td>\n",
       "    </tr>\n",
       "    <tr>\n",
       "      <th>1</th>\n",
       "      <td>{\\colortbl;\\red255\\green255\\blue255;\\red0\\gree...</td>\n",
       "    </tr>\n",
       "  </tbody>\n",
       "</table>\n",
       "</div>"
      ],
      "text/plain": [
       "  {\\rtf1\\ansi\\ansicpg1252\\cocoartf1348\\cocoasubrtf170\n",
       "0            {\\fonttbl\\f0\\fswiss\\fcharset0 ArialMT;} \n",
       "1  {\\colortbl;\\red255\\green255\\blue255;\\red0\\gree... "
      ]
     },
     "execution_count": 2,
     "metadata": {},
     "output_type": "execute_result"
    }
   ],
   "source": [
    "import pandas as pd\n",
    "\n",
    "nba = pd.read_table('nba.rtf')\n",
    "nba.head(2)"
   ]
  }
 ],
 "metadata": {
  "kernelspec": {
   "display_name": "Python 2",
   "language": "python",
   "name": "python2"
  },
  "language_info": {
   "codemirror_mode": {
    "name": "ipython",
    "version": 2
   },
   "file_extension": ".py",
   "mimetype": "text/x-python",
   "name": "python",
   "nbconvert_exporter": "python",
   "pygments_lexer": "ipython2",
   "version": "2.7.11"
  }
 },
 "nbformat": 4,
 "nbformat_minor": 0
}
