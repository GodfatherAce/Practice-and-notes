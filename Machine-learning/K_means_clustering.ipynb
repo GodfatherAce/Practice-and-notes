{
 "cells": [
  {
   "cell_type": "markdown",
   "metadata": {},
   "source": [
    "# K-means Clustering\n",
    "**K**: number of clusters to segment data into\n",
    "\n",
    "**algorithm**: Iterative procedure\n",
    "- Assign K number of random \"centers\" -- *np.random.choice(X, size=K)*\n",
    "- Iteratively for every other sample calculate the closest distance to the centers and group together\n",
    "- Repeat until clusters no longer move and have converged\n",
    "\n",
    "\n",
    "\n",
    "**K-Means doesn't cause massive changes in the makeup of clusters between iterations, meaning that it will always converge and become stable**\n",
    "\n",
    "\n",
    "**Because K-Means is conservative between iterations, initial centroids and how we assign the players to clusters initially matters a lot**"
   ]
  }
 ],
 "metadata": {
  "kernelspec": {
   "display_name": "Python 2",
   "language": "python",
   "name": "python2"
  },
  "language_info": {
   "codemirror_mode": {
    "name": "ipython",
    "version": 2
   },
   "file_extension": ".py",
   "mimetype": "text/x-python",
   "name": "python",
   "nbconvert_exporter": "python",
   "pygments_lexer": "ipython2",
   "version": "2.7.11"
  }
 },
 "nbformat": 4,
 "nbformat_minor": 0
}
