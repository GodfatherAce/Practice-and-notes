{
 "cells": [
  {
   "cell_type": "markdown",
   "metadata": {},
   "source": [
    "# Convolutional Neural Network exercise\n",
    "\n",
    "**We have a 5x5x1 input image and we will use 2 filters of size 3x3x1 and stride of 1**  \n",
    "\n",
    "Write out the exact output"
   ]
  },
  {
   "cell_type": "code",
   "execution_count": 2,
   "metadata": {
    "collapsed": true
   },
   "outputs": [],
   "source": [
    "import numpy as np"
   ]
  },
  {
   "cell_type": "code",
   "execution_count": 7,
   "metadata": {
    "collapsed": false
   },
   "outputs": [],
   "source": [
    "D = [[1, 2, 1, 1, 2], \\\n",
    "     [1, 1, 2, 1, 1], \\\n",
    "     [1, 0, 1, 1, 0], \\\n",
    "     [0, 1, 2, 1, 1], \\\n",
    "     [1, 1, 0, 1, 1]]\n",
    "\n",
    "f1 = [[0, 1, 1], \\\n",
    "      [1, 0, 1], \\\n",
    "      [1, 1, 0],]\n",
    "\n",
    "f2 = [[0, 1, -1], \\\n",
    "      [0, 1, -1], \\\n",
    "      [-1, 1, 0],]"
   ]
  },
  {
   "cell_type": "code",
   "execution_count": 36,
   "metadata": {
    "collapsed": false
   },
   "outputs": [
    {
     "name": "stdout",
     "output_type": "stream",
     "text": [
      "[1, 2, 1, 1, 1, 2, 1, 0, 1]\n",
      "[0, 1, 1, 1, 0, 1, 1, 1, 0]\n"
     ]
    }
   ],
   "source": [
    "def submatrix(arr, row, col):    \n",
    "    return [D[row+i][col+j] for i in range(3) for j in range(3)]\n",
    "print(submatrix(D,0,0))\n",
    "print([i for lst in f1 for i in lst])\n",
    "#print(np.dot(submatrix(D,0,1)[:],f1[:]))"
   ]
  },
  {
   "cell_type": "code",
   "execution_count": 54,
   "metadata": {
    "collapsed": false
   },
   "outputs": [
    {
     "name": "stdout",
     "output_type": "stream",
     "text": [
      "[[7 5 8]\n",
      " [6 7 6]\n",
      " [5 5 5]]\n",
      "[[-1  2 -1]\n",
      " [-1  2  0]\n",
      " [-2  0  2]]\n"
     ]
    }
   ],
   "source": [
    "# iterate over range(0, (len(D) - len(filter) + 1), stride)\n",
    "output1 = []\n",
    "output2 = []\n",
    "for row in range(0,3,1):\n",
    "    for col in range(0,3,1):\n",
    "        reduced_input = submatrix(D, row, col)\n",
    "        filter_1 = [i for lst in f1 for i in lst]\n",
    "        filter_2 = [i for lst in f2 for i in lst]\n",
    "        # sanity checking ...\n",
    "        #print(reduced_input)\n",
    "        #print(np.dot(reduced_input,filter_1))\n",
    "        #print(np.dot(reduced_input,filter_2))\n",
    "        output1.append(np.dot(reduced_input,filter_1))\n",
    "        output2.append(np.dot(reduced_input,filter_2))\n",
    "print(np.reshape(output1, (3,3)))\n",
    "print(np.reshape(output2, (3,3)))"
   ]
  }
 ],
 "metadata": {
  "kernelspec": {
   "display_name": "Python [conda root]",
   "language": "python",
   "name": "conda-root-py"
  },
  "language_info": {
   "codemirror_mode": {
    "name": "ipython",
    "version": 3
   },
   "file_extension": ".py",
   "mimetype": "text/x-python",
   "name": "python",
   "nbconvert_exporter": "python",
   "pygments_lexer": "ipython3",
   "version": "3.5.2"
  }
 },
 "nbformat": 4,
 "nbformat_minor": 1
}
