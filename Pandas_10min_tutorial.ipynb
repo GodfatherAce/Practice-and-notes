{
 "cells": [
  {
   "cell_type": "markdown",
   "metadata": {},
   "source": [
    "## Pandas 10 minute Tutorial\n",
    "notes taken from http://pandas.pydata.org/pandas-docs/stable/10min.html"
   ]
  },
  {
   "cell_type": "code",
   "execution_count": 17,
   "metadata": {
    "collapsed": false
   },
   "outputs": [],
   "source": [
    "import pandas as pd\n",
    "import numpy as np\n",
    "import matplotlib.pyplot as plt"
   ]
  },
  {
   "cell_type": "markdown",
   "metadata": {},
   "source": [
    "## Create a Pandas **series**"
   ]
  },
  {
   "cell_type": "code",
   "execution_count": 18,
   "metadata": {
    "collapsed": false
   },
   "outputs": [
    {
     "data": {
      "text/plain": [
       "0    1\n",
       "1    2\n",
       "2    3\n",
       "3    6\n",
       "4    7\n",
       "dtype: int64"
      ]
     },
     "execution_count": 18,
     "metadata": {},
     "output_type": "execute_result"
    }
   ],
   "source": [
    "s = pd.Series([1,2,3,6,7])\n",
    "\n",
    "s"
   ]
  },
  {
   "cell_type": "markdown",
   "metadata": {},
   "source": [
    "## Create a Pandas **DataFrame** by passing a numpy array, index and column label"
   ]
  },
  {
   "cell_type": "code",
   "execution_count": 19,
   "metadata": {
    "collapsed": false
   },
   "outputs": [
    {
     "data": {
      "text/plain": [
       "DatetimeIndex(['2016-06-24', '2016-06-25', '2016-06-26', '2016-06-27',\n",
       "               '2016-06-28'],\n",
       "              dtype='datetime64[ns]', freq='D')"
      ]
     },
     "execution_count": 19,
     "metadata": {},
     "output_type": "execute_result"
    }
   ],
   "source": [
    "dates = pd.date_range('20160624', periods=5)\n",
    "dates"
   ]
  },
  {
   "cell_type": "code",
   "execution_count": 20,
   "metadata": {
    "collapsed": false
   },
   "outputs": [
    {
     "data": {
      "text/html": [
       "<div>\n",
       "<table border=\"1\" class=\"dataframe\">\n",
       "  <thead>\n",
       "    <tr style=\"text-align: right;\">\n",
       "      <th></th>\n",
       "      <th>one</th>\n",
       "      <th>two</th>\n",
       "      <th>three</th>\n",
       "      <th>four</th>\n",
       "    </tr>\n",
       "  </thead>\n",
       "  <tbody>\n",
       "    <tr>\n",
       "      <th>2016-06-24</th>\n",
       "      <td>-0.865824</td>\n",
       "      <td>-0.259413</td>\n",
       "      <td>-0.278707</td>\n",
       "      <td>-0.083715</td>\n",
       "    </tr>\n",
       "    <tr>\n",
       "      <th>2016-06-25</th>\n",
       "      <td>2.377690</td>\n",
       "      <td>-0.603749</td>\n",
       "      <td>-0.364608</td>\n",
       "      <td>-0.829026</td>\n",
       "    </tr>\n",
       "    <tr>\n",
       "      <th>2016-06-26</th>\n",
       "      <td>0.195804</td>\n",
       "      <td>0.305053</td>\n",
       "      <td>1.295641</td>\n",
       "      <td>-1.087357</td>\n",
       "    </tr>\n",
       "    <tr>\n",
       "      <th>2016-06-27</th>\n",
       "      <td>0.926671</td>\n",
       "      <td>-0.749013</td>\n",
       "      <td>-0.218765</td>\n",
       "      <td>-0.159252</td>\n",
       "    </tr>\n",
       "    <tr>\n",
       "      <th>2016-06-28</th>\n",
       "      <td>-2.008621</td>\n",
       "      <td>0.431193</td>\n",
       "      <td>-0.481636</td>\n",
       "      <td>0.869175</td>\n",
       "    </tr>\n",
       "  </tbody>\n",
       "</table>\n",
       "</div>"
      ],
      "text/plain": [
       "                 one       two     three      four\n",
       "2016-06-24 -0.865824 -0.259413 -0.278707 -0.083715\n",
       "2016-06-25  2.377690 -0.603749 -0.364608 -0.829026\n",
       "2016-06-26  0.195804  0.305053  1.295641 -1.087357\n",
       "2016-06-27  0.926671 -0.749013 -0.218765 -0.159252\n",
       "2016-06-28 -2.008621  0.431193 -0.481636  0.869175"
      ]
     },
     "execution_count": 20,
     "metadata": {},
     "output_type": "execute_result"
    }
   ],
   "source": [
    "df = pd.DataFrame(np.random.randn(5,4), index=dates, columns=['one','two','three','four'])\n",
    "df"
   ]
  },
  {
   "cell_type": "markdown",
   "metadata": {},
   "source": [
    "## Create a Pandas **DataFrame** by passing a dictionary of objects"
   ]
  },
  {
   "cell_type": "code",
   "execution_count": 21,
   "metadata": {
    "collapsed": false
   },
   "outputs": [
    {
     "data": {
      "text/html": [
       "<div>\n",
       "<table border=\"1\" class=\"dataframe\">\n",
       "  <thead>\n",
       "    <tr style=\"text-align: right;\">\n",
       "      <th></th>\n",
       "      <th>x</th>\n",
       "      <th>y</th>\n",
       "      <th>z</th>\n",
       "    </tr>\n",
       "  </thead>\n",
       "  <tbody>\n",
       "    <tr>\n",
       "      <th>0</th>\n",
       "      <td>1</td>\n",
       "      <td>2</td>\n",
       "      <td>0</td>\n",
       "    </tr>\n",
       "    <tr>\n",
       "      <th>1</th>\n",
       "      <td>2</td>\n",
       "      <td>3</td>\n",
       "      <td>4</td>\n",
       "    </tr>\n",
       "    <tr>\n",
       "      <th>2</th>\n",
       "      <td>3</td>\n",
       "      <td>1</td>\n",
       "      <td>5</td>\n",
       "    </tr>\n",
       "  </tbody>\n",
       "</table>\n",
       "</div>"
      ],
      "text/plain": [
       "   x  y  z\n",
       "0  1  2  0\n",
       "1  2  3  4\n",
       "2  3  1  5"
      ]
     },
     "execution_count": 21,
     "metadata": {},
     "output_type": "execute_result"
    }
   ],
   "source": [
    "dict = {'x':[1,2,3],'y':[2,3,1],'z':[0,4,5]}\n",
    "df2 = pd.DataFrame(dict)\n",
    "df2"
   ]
  },
  {
   "cell_type": "code",
   "execution_count": 22,
   "metadata": {
    "collapsed": false
   },
   "outputs": [
    {
     "name": "stdout",
     "output_type": "stream",
     "text": [
      "A           float64\n",
      "B    datetime64[ns]\n",
      "C           float32\n",
      "D             int32\n",
      "E          category\n",
      "F            object\n",
      "dtype: object\n"
     ]
    },
    {
     "data": {
      "text/html": [
       "<div>\n",
       "<table border=\"1\" class=\"dataframe\">\n",
       "  <thead>\n",
       "    <tr style=\"text-align: right;\">\n",
       "      <th></th>\n",
       "      <th>A</th>\n",
       "      <th>B</th>\n",
       "      <th>C</th>\n",
       "      <th>D</th>\n",
       "      <th>E</th>\n",
       "      <th>F</th>\n",
       "    </tr>\n",
       "  </thead>\n",
       "  <tbody>\n",
       "    <tr>\n",
       "      <th>0</th>\n",
       "      <td>1.0</td>\n",
       "      <td>2013-01-02</td>\n",
       "      <td>1.0</td>\n",
       "      <td>3</td>\n",
       "      <td>test</td>\n",
       "      <td>foo</td>\n",
       "    </tr>\n",
       "    <tr>\n",
       "      <th>1</th>\n",
       "      <td>1.0</td>\n",
       "      <td>2013-01-02</td>\n",
       "      <td>1.0</td>\n",
       "      <td>3</td>\n",
       "      <td>train</td>\n",
       "      <td>foo</td>\n",
       "    </tr>\n",
       "    <tr>\n",
       "      <th>2</th>\n",
       "      <td>1.0</td>\n",
       "      <td>2013-01-02</td>\n",
       "      <td>1.0</td>\n",
       "      <td>3</td>\n",
       "      <td>test</td>\n",
       "      <td>foo</td>\n",
       "    </tr>\n",
       "    <tr>\n",
       "      <th>3</th>\n",
       "      <td>1.0</td>\n",
       "      <td>2013-01-02</td>\n",
       "      <td>1.0</td>\n",
       "      <td>3</td>\n",
       "      <td>train</td>\n",
       "      <td>foo</td>\n",
       "    </tr>\n",
       "  </tbody>\n",
       "</table>\n",
       "</div>"
      ],
      "text/plain": [
       "     A          B    C  D      E    F\n",
       "0  1.0 2013-01-02  1.0  3   test  foo\n",
       "1  1.0 2013-01-02  1.0  3  train  foo\n",
       "2  1.0 2013-01-02  1.0  3   test  foo\n",
       "3  1.0 2013-01-02  1.0  3  train  foo"
      ]
     },
     "execution_count": 22,
     "metadata": {},
     "output_type": "execute_result"
    }
   ],
   "source": [
    "df2 = pd.DataFrame({ 'A' : 1.,\n",
    "                     'B' : pd.Timestamp('20130102'),\n",
    "                     'C' : pd.Series(1,index=list(range(4)),dtype='float32'),\n",
    "                     'D' : np.array([3] * 4,dtype='int32'),\n",
    "                     'E' : pd.Categorical([\"test\",\"train\",\"test\",\"train\"]),\n",
    "                     'F' : 'foo' })\n",
    "print df2.dtypes\n",
    "df2"
   ]
  },
  {
   "cell_type": "code",
   "execution_count": 23,
   "metadata": {
    "collapsed": false
   },
   "outputs": [
    {
     "name": "stdout",
     "output_type": "stream",
     "text": [
      "Int64Index([0, 1, 2, 3], dtype='int64')\n",
      "Index([u'A', u'B', u'C', u'D', u'E', u'F'], dtype='object')\n",
      "[[1.0 Timestamp('2013-01-02 00:00:00') 1.0 3 'test' 'foo']\n",
      " [1.0 Timestamp('2013-01-02 00:00:00') 1.0 3 'train' 'foo']\n",
      " [1.0 Timestamp('2013-01-02 00:00:00') 1.0 3 'test' 'foo']\n",
      " [1.0 Timestamp('2013-01-02 00:00:00') 1.0 3 'train' 'foo']]\n"
     ]
    }
   ],
   "source": [
    "print df2.index\n",
    "print df2.columns\n",
    "print df2.values"
   ]
  },
  {
   "cell_type": "markdown",
   "metadata": {},
   "source": [
    "## **Transposing** your data"
   ]
  },
  {
   "cell_type": "code",
   "execution_count": 24,
   "metadata": {
    "collapsed": false
   },
   "outputs": [
    {
     "data": {
      "text/html": [
       "<div>\n",
       "<table border=\"1\" class=\"dataframe\">\n",
       "  <thead>\n",
       "    <tr style=\"text-align: right;\">\n",
       "      <th></th>\n",
       "      <th>2016-06-24 00:00:00</th>\n",
       "      <th>2016-06-25 00:00:00</th>\n",
       "      <th>2016-06-26 00:00:00</th>\n",
       "      <th>2016-06-27 00:00:00</th>\n",
       "      <th>2016-06-28 00:00:00</th>\n",
       "    </tr>\n",
       "  </thead>\n",
       "  <tbody>\n",
       "    <tr>\n",
       "      <th>one</th>\n",
       "      <td>-0.865824</td>\n",
       "      <td>2.377690</td>\n",
       "      <td>0.195804</td>\n",
       "      <td>0.926671</td>\n",
       "      <td>-2.008621</td>\n",
       "    </tr>\n",
       "    <tr>\n",
       "      <th>two</th>\n",
       "      <td>-0.259413</td>\n",
       "      <td>-0.603749</td>\n",
       "      <td>0.305053</td>\n",
       "      <td>-0.749013</td>\n",
       "      <td>0.431193</td>\n",
       "    </tr>\n",
       "    <tr>\n",
       "      <th>three</th>\n",
       "      <td>-0.278707</td>\n",
       "      <td>-0.364608</td>\n",
       "      <td>1.295641</td>\n",
       "      <td>-0.218765</td>\n",
       "      <td>-0.481636</td>\n",
       "    </tr>\n",
       "    <tr>\n",
       "      <th>four</th>\n",
       "      <td>-0.083715</td>\n",
       "      <td>-0.829026</td>\n",
       "      <td>-1.087357</td>\n",
       "      <td>-0.159252</td>\n",
       "      <td>0.869175</td>\n",
       "    </tr>\n",
       "  </tbody>\n",
       "</table>\n",
       "</div>"
      ],
      "text/plain": [
       "       2016-06-24  2016-06-25  2016-06-26  2016-06-27  2016-06-28\n",
       "one     -0.865824    2.377690    0.195804    0.926671   -2.008621\n",
       "two     -0.259413   -0.603749    0.305053   -0.749013    0.431193\n",
       "three   -0.278707   -0.364608    1.295641   -0.218765   -0.481636\n",
       "four    -0.083715   -0.829026   -1.087357   -0.159252    0.869175"
      ]
     },
     "execution_count": 24,
     "metadata": {},
     "output_type": "execute_result"
    }
   ],
   "source": [
    "df.T"
   ]
  },
  {
   "cell_type": "markdown",
   "metadata": {},
   "source": [
    "## **sorting** by an axis"
   ]
  },
  {
   "cell_type": "code",
   "execution_count": 25,
   "metadata": {
    "collapsed": false
   },
   "outputs": [
    {
     "data": {
      "text/html": [
       "<div>\n",
       "<table border=\"1\" class=\"dataframe\">\n",
       "  <thead>\n",
       "    <tr style=\"text-align: right;\">\n",
       "      <th></th>\n",
       "      <th>four</th>\n",
       "      <th>one</th>\n",
       "      <th>three</th>\n",
       "      <th>two</th>\n",
       "    </tr>\n",
       "  </thead>\n",
       "  <tbody>\n",
       "    <tr>\n",
       "      <th>2016-06-24</th>\n",
       "      <td>-0.083715</td>\n",
       "      <td>-0.865824</td>\n",
       "      <td>-0.278707</td>\n",
       "      <td>-0.259413</td>\n",
       "    </tr>\n",
       "    <tr>\n",
       "      <th>2016-06-25</th>\n",
       "      <td>-0.829026</td>\n",
       "      <td>2.377690</td>\n",
       "      <td>-0.364608</td>\n",
       "      <td>-0.603749</td>\n",
       "    </tr>\n",
       "    <tr>\n",
       "      <th>2016-06-26</th>\n",
       "      <td>-1.087357</td>\n",
       "      <td>0.195804</td>\n",
       "      <td>1.295641</td>\n",
       "      <td>0.305053</td>\n",
       "    </tr>\n",
       "    <tr>\n",
       "      <th>2016-06-27</th>\n",
       "      <td>-0.159252</td>\n",
       "      <td>0.926671</td>\n",
       "      <td>-0.218765</td>\n",
       "      <td>-0.749013</td>\n",
       "    </tr>\n",
       "    <tr>\n",
       "      <th>2016-06-28</th>\n",
       "      <td>0.869175</td>\n",
       "      <td>-2.008621</td>\n",
       "      <td>-0.481636</td>\n",
       "      <td>0.431193</td>\n",
       "    </tr>\n",
       "  </tbody>\n",
       "</table>\n",
       "</div>"
      ],
      "text/plain": [
       "                four       one     three       two\n",
       "2016-06-24 -0.083715 -0.865824 -0.278707 -0.259413\n",
       "2016-06-25 -0.829026  2.377690 -0.364608 -0.603749\n",
       "2016-06-26 -1.087357  0.195804  1.295641  0.305053\n",
       "2016-06-27 -0.159252  0.926671 -0.218765 -0.749013\n",
       "2016-06-28  0.869175 -2.008621 -0.481636  0.431193"
      ]
     },
     "execution_count": 25,
     "metadata": {},
     "output_type": "execute_result"
    }
   ],
   "source": [
    "df.sort_index(axis=1, ascending=True)"
   ]
  },
  {
   "cell_type": "code",
   "execution_count": 26,
   "metadata": {
    "collapsed": false
   },
   "outputs": [
    {
     "data": {
      "text/html": [
       "<div>\n",
       "<table border=\"1\" class=\"dataframe\">\n",
       "  <thead>\n",
       "    <tr style=\"text-align: right;\">\n",
       "      <th></th>\n",
       "      <th>one</th>\n",
       "      <th>two</th>\n",
       "      <th>three</th>\n",
       "      <th>four</th>\n",
       "    </tr>\n",
       "  </thead>\n",
       "  <tbody>\n",
       "    <tr>\n",
       "      <th>2016-06-28</th>\n",
       "      <td>-2.008621</td>\n",
       "      <td>0.431193</td>\n",
       "      <td>-0.481636</td>\n",
       "      <td>0.869175</td>\n",
       "    </tr>\n",
       "    <tr>\n",
       "      <th>2016-06-27</th>\n",
       "      <td>0.926671</td>\n",
       "      <td>-0.749013</td>\n",
       "      <td>-0.218765</td>\n",
       "      <td>-0.159252</td>\n",
       "    </tr>\n",
       "    <tr>\n",
       "      <th>2016-06-26</th>\n",
       "      <td>0.195804</td>\n",
       "      <td>0.305053</td>\n",
       "      <td>1.295641</td>\n",
       "      <td>-1.087357</td>\n",
       "    </tr>\n",
       "    <tr>\n",
       "      <th>2016-06-25</th>\n",
       "      <td>2.377690</td>\n",
       "      <td>-0.603749</td>\n",
       "      <td>-0.364608</td>\n",
       "      <td>-0.829026</td>\n",
       "    </tr>\n",
       "    <tr>\n",
       "      <th>2016-06-24</th>\n",
       "      <td>-0.865824</td>\n",
       "      <td>-0.259413</td>\n",
       "      <td>-0.278707</td>\n",
       "      <td>-0.083715</td>\n",
       "    </tr>\n",
       "  </tbody>\n",
       "</table>\n",
       "</div>"
      ],
      "text/plain": [
       "                 one       two     three      four\n",
       "2016-06-28 -2.008621  0.431193 -0.481636  0.869175\n",
       "2016-06-27  0.926671 -0.749013 -0.218765 -0.159252\n",
       "2016-06-26  0.195804  0.305053  1.295641 -1.087357\n",
       "2016-06-25  2.377690 -0.603749 -0.364608 -0.829026\n",
       "2016-06-24 -0.865824 -0.259413 -0.278707 -0.083715"
      ]
     },
     "execution_count": 26,
     "metadata": {},
     "output_type": "execute_result"
    }
   ],
   "source": [
    "df.sort_index(axis=0, ascending=False)"
   ]
  },
  {
   "cell_type": "code",
   "execution_count": 27,
   "metadata": {
    "collapsed": false
   },
   "outputs": [
    {
     "data": {
      "text/html": [
       "<div>\n",
       "<table border=\"1\" class=\"dataframe\">\n",
       "  <thead>\n",
       "    <tr style=\"text-align: right;\">\n",
       "      <th></th>\n",
       "      <th>one</th>\n",
       "      <th>two</th>\n",
       "      <th>three</th>\n",
       "      <th>four</th>\n",
       "    </tr>\n",
       "  </thead>\n",
       "  <tbody>\n",
       "    <tr>\n",
       "      <th>2016-06-28</th>\n",
       "      <td>-2.008621</td>\n",
       "      <td>0.431193</td>\n",
       "      <td>-0.481636</td>\n",
       "      <td>0.869175</td>\n",
       "    </tr>\n",
       "    <tr>\n",
       "      <th>2016-06-24</th>\n",
       "      <td>-0.865824</td>\n",
       "      <td>-0.259413</td>\n",
       "      <td>-0.278707</td>\n",
       "      <td>-0.083715</td>\n",
       "    </tr>\n",
       "    <tr>\n",
       "      <th>2016-06-26</th>\n",
       "      <td>0.195804</td>\n",
       "      <td>0.305053</td>\n",
       "      <td>1.295641</td>\n",
       "      <td>-1.087357</td>\n",
       "    </tr>\n",
       "    <tr>\n",
       "      <th>2016-06-27</th>\n",
       "      <td>0.926671</td>\n",
       "      <td>-0.749013</td>\n",
       "      <td>-0.218765</td>\n",
       "      <td>-0.159252</td>\n",
       "    </tr>\n",
       "    <tr>\n",
       "      <th>2016-06-25</th>\n",
       "      <td>2.377690</td>\n",
       "      <td>-0.603749</td>\n",
       "      <td>-0.364608</td>\n",
       "      <td>-0.829026</td>\n",
       "    </tr>\n",
       "  </tbody>\n",
       "</table>\n",
       "</div>"
      ],
      "text/plain": [
       "                 one       two     three      four\n",
       "2016-06-28 -2.008621  0.431193 -0.481636  0.869175\n",
       "2016-06-24 -0.865824 -0.259413 -0.278707 -0.083715\n",
       "2016-06-26  0.195804  0.305053  1.295641 -1.087357\n",
       "2016-06-27  0.926671 -0.749013 -0.218765 -0.159252\n",
       "2016-06-25  2.377690 -0.603749 -0.364608 -0.829026"
      ]
     },
     "execution_count": 27,
     "metadata": {},
     "output_type": "execute_result"
    }
   ],
   "source": [
    "df.sort_values(by='one')"
   ]
  },
  {
   "cell_type": "markdown",
   "metadata": {
    "collapsed": false
   },
   "source": [
    "## DataFrame Indexing\n",
    "\n",
    "- .at\n",
    "- .iat\n",
    "- .loc\n",
    "- .iloc\n",
    "- .ix\n",
    "\n",
    "if *i* in front, takes integer argument  \n",
    "if not, takes labels as argument  \n",
    "*.ix* takes both"
   ]
  },
  {
   "cell_type": "code",
   "execution_count": 65,
   "metadata": {
    "collapsed": false
   },
   "outputs": [
    {
     "name": "stdout",
     "output_type": "stream",
     "text": [
      "Index([u'two', u'three', u'four'], dtype='object')\n",
      "             two three  four\n",
      "2016-06-24  True  True  True\n",
      "2016-06-25  True  True  True\n",
      "2016-06-26  True  True  True\n",
      "2016-06-27  True  True  True\n",
      "2016-06-28  True  True  True\n"
     ]
    }
   ],
   "source": [
    "#.at, .iat, .loc, .iloc, .ix\n",
    "#  no i - label\n",
    "#  i - integer\n",
    "#  ix - mixed integer/label\n",
    "df.iloc[1]\n",
    "print df.columns[1:]\n",
    "comp1=df[df.columns[1:]]\n",
    "predictors = ['two','three','four']\n",
    "comp2=df[predictors]\n",
    "\n",
    "print comp1 == comp2"
   ]
  },
  {
   "cell_type": "markdown",
   "metadata": {},
   "source": [
    "- number indexing (like np arrays) work too"
   ]
  },
  {
   "cell_type": "code",
   "execution_count": 52,
   "metadata": {
    "collapsed": false
   },
   "outputs": [
    {
     "data": {
      "text/html": [
       "<div>\n",
       "<table border=\"1\" class=\"dataframe\">\n",
       "  <thead>\n",
       "    <tr style=\"text-align: right;\">\n",
       "      <th></th>\n",
       "      <th>one</th>\n",
       "      <th>two</th>\n",
       "      <th>three</th>\n",
       "      <th>four</th>\n",
       "    </tr>\n",
       "  </thead>\n",
       "  <tbody>\n",
       "    <tr>\n",
       "      <th>2016-06-24</th>\n",
       "      <td>-0.865824</td>\n",
       "      <td>-0.259413</td>\n",
       "      <td>-0.278707</td>\n",
       "      <td>-0.083715</td>\n",
       "    </tr>\n",
       "    <tr>\n",
       "      <th>2016-06-25</th>\n",
       "      <td>2.377690</td>\n",
       "      <td>-0.603749</td>\n",
       "      <td>-0.364608</td>\n",
       "      <td>-0.829026</td>\n",
       "    </tr>\n",
       "    <tr>\n",
       "      <th>2016-06-26</th>\n",
       "      <td>0.195804</td>\n",
       "      <td>0.305053</td>\n",
       "      <td>1.295641</td>\n",
       "      <td>-1.087357</td>\n",
       "    </tr>\n",
       "    <tr>\n",
       "      <th>2016-06-27</th>\n",
       "      <td>0.926671</td>\n",
       "      <td>-0.749013</td>\n",
       "      <td>-0.218765</td>\n",
       "      <td>-0.159252</td>\n",
       "    </tr>\n",
       "    <tr>\n",
       "      <th>2016-06-28</th>\n",
       "      <td>-2.008621</td>\n",
       "      <td>0.431193</td>\n",
       "      <td>-0.481636</td>\n",
       "      <td>0.869175</td>\n",
       "    </tr>\n",
       "  </tbody>\n",
       "</table>\n",
       "</div>"
      ],
      "text/plain": [
       "                 one       two     three      four\n",
       "2016-06-24 -0.865824 -0.259413 -0.278707 -0.083715\n",
       "2016-06-25  2.377690 -0.603749 -0.364608 -0.829026\n",
       "2016-06-26  0.195804  0.305053  1.295641 -1.087357\n",
       "2016-06-27  0.926671 -0.749013 -0.218765 -0.159252\n",
       "2016-06-28 -2.008621  0.431193 -0.481636  0.869175"
      ]
     },
     "execution_count": 52,
     "metadata": {},
     "output_type": "execute_result"
    }
   ],
   "source": [
    "df[0:]"
   ]
  },
  {
   "cell_type": "markdown",
   "metadata": {},
   "source": [
    "**Boolean indexing**"
   ]
  },
  {
   "cell_type": "code",
   "execution_count": 57,
   "metadata": {
    "collapsed": false
   },
   "outputs": [
    {
     "name": "stdout",
     "output_type": "stream",
     "text": [
      "                 one       two     three      four\n",
      "2016-06-25  2.377690 -0.603749 -0.364608 -0.829026\n",
      "2016-06-26  0.195804  0.305053  1.295641 -1.087357\n",
      "2016-06-27  0.926671 -0.749013 -0.218765 -0.159252\n",
      "                 one       two     three      four\n",
      "2016-06-25  2.377690 -0.603749 -0.364608 -0.829026\n",
      "2016-06-26  0.195804  0.305053  1.295641 -1.087357\n",
      "2016-06-27  0.926671 -0.749013 -0.218765 -0.159252\n"
     ]
    }
   ],
   "source": [
    "print df[df['one']>0]\n",
    "print df[df.one >0]"
   ]
  },
  {
   "cell_type": "code",
   "execution_count": 55,
   "metadata": {
    "collapsed": false
   },
   "outputs": [
    {
     "data": {
      "text/html": [
       "<div>\n",
       "<table border=\"1\" class=\"dataframe\">\n",
       "  <thead>\n",
       "    <tr style=\"text-align: right;\">\n",
       "      <th></th>\n",
       "      <th>one</th>\n",
       "      <th>two</th>\n",
       "      <th>three</th>\n",
       "      <th>four</th>\n",
       "    </tr>\n",
       "  </thead>\n",
       "  <tbody>\n",
       "    <tr>\n",
       "      <th>2016-06-24</th>\n",
       "      <td>NaN</td>\n",
       "      <td>NaN</td>\n",
       "      <td>NaN</td>\n",
       "      <td>NaN</td>\n",
       "    </tr>\n",
       "    <tr>\n",
       "      <th>2016-06-25</th>\n",
       "      <td>2.377690</td>\n",
       "      <td>NaN</td>\n",
       "      <td>NaN</td>\n",
       "      <td>NaN</td>\n",
       "    </tr>\n",
       "    <tr>\n",
       "      <th>2016-06-26</th>\n",
       "      <td>0.195804</td>\n",
       "      <td>0.305053</td>\n",
       "      <td>1.295641</td>\n",
       "      <td>NaN</td>\n",
       "    </tr>\n",
       "    <tr>\n",
       "      <th>2016-06-27</th>\n",
       "      <td>0.926671</td>\n",
       "      <td>NaN</td>\n",
       "      <td>NaN</td>\n",
       "      <td>NaN</td>\n",
       "    </tr>\n",
       "    <tr>\n",
       "      <th>2016-06-28</th>\n",
       "      <td>NaN</td>\n",
       "      <td>0.431193</td>\n",
       "      <td>NaN</td>\n",
       "      <td>0.869175</td>\n",
       "    </tr>\n",
       "  </tbody>\n",
       "</table>\n",
       "</div>"
      ],
      "text/plain": [
       "                 one       two     three      four\n",
       "2016-06-24       NaN       NaN       NaN       NaN\n",
       "2016-06-25  2.377690       NaN       NaN       NaN\n",
       "2016-06-26  0.195804  0.305053  1.295641       NaN\n",
       "2016-06-27  0.926671       NaN       NaN       NaN\n",
       "2016-06-28       NaN  0.431193       NaN  0.869175"
      ]
     },
     "execution_count": 55,
     "metadata": {},
     "output_type": "execute_result"
    }
   ],
   "source": [
    "df[df>0]"
   ]
  },
  {
   "cell_type": "code",
   "execution_count": 61,
   "metadata": {
    "collapsed": false
   },
   "outputs": [
    {
     "data": {
      "text/html": [
       "<div>\n",
       "<table border=\"1\" class=\"dataframe\">\n",
       "  <thead>\n",
       "    <tr style=\"text-align: right;\">\n",
       "      <th></th>\n",
       "      <th>one</th>\n",
       "      <th>two</th>\n",
       "      <th>three</th>\n",
       "      <th>four</th>\n",
       "      <th>E</th>\n",
       "    </tr>\n",
       "  </thead>\n",
       "  <tbody>\n",
       "    <tr>\n",
       "      <th>2016-06-26</th>\n",
       "      <td>0.195804</td>\n",
       "      <td>0.305053</td>\n",
       "      <td>1.295641</td>\n",
       "      <td>-1.087357</td>\n",
       "      <td>three</td>\n",
       "    </tr>\n",
       "  </tbody>\n",
       "</table>\n",
       "</div>"
      ],
      "text/plain": [
       "                 one       two     three      four      E\n",
       "2016-06-26  0.195804  0.305053  1.295641 -1.087357  three"
      ]
     },
     "execution_count": 61,
     "metadata": {},
     "output_type": "execute_result"
    }
   ],
   "source": [
    "df2 = df.copy()\n",
    "df2['E']=['one','two','three','four','five']\n",
    "df2[df2.E.isin(['three'])]"
   ]
  },
  {
   "cell_type": "markdown",
   "metadata": {},
   "source": [
    "## Missing Data\n",
    "- .reindex\n",
    "- .dropna\n",
    "- .fillna\n",
    "- .isnull"
   ]
  },
  {
   "cell_type": "code",
   "execution_count": 73,
   "metadata": {
    "collapsed": false
   },
   "outputs": [
    {
     "data": {
      "text/html": [
       "<div>\n",
       "<table border=\"1\" class=\"dataframe\">\n",
       "  <thead>\n",
       "    <tr style=\"text-align: right;\">\n",
       "      <th></th>\n",
       "      <th>one</th>\n",
       "      <th>two</th>\n",
       "      <th>three</th>\n",
       "      <th>four</th>\n",
       "      <th>E</th>\n",
       "    </tr>\n",
       "  </thead>\n",
       "  <tbody>\n",
       "    <tr>\n",
       "      <th>A</th>\n",
       "      <td>NaN</td>\n",
       "      <td>NaN</td>\n",
       "      <td>NaN</td>\n",
       "      <td>NaN</td>\n",
       "      <td>NaN</td>\n",
       "    </tr>\n",
       "    <tr>\n",
       "      <th>B</th>\n",
       "      <td>NaN</td>\n",
       "      <td>NaN</td>\n",
       "      <td>NaN</td>\n",
       "      <td>NaN</td>\n",
       "      <td>NaN</td>\n",
       "    </tr>\n",
       "    <tr>\n",
       "      <th>C</th>\n",
       "      <td>NaN</td>\n",
       "      <td>NaN</td>\n",
       "      <td>NaN</td>\n",
       "      <td>NaN</td>\n",
       "      <td>NaN</td>\n",
       "    </tr>\n",
       "    <tr>\n",
       "      <th>D</th>\n",
       "      <td>NaN</td>\n",
       "      <td>NaN</td>\n",
       "      <td>NaN</td>\n",
       "      <td>NaN</td>\n",
       "      <td>NaN</td>\n",
       "    </tr>\n",
       "    <tr>\n",
       "      <th>E</th>\n",
       "      <td>NaN</td>\n",
       "      <td>NaN</td>\n",
       "      <td>NaN</td>\n",
       "      <td>NaN</td>\n",
       "      <td>NaN</td>\n",
       "    </tr>\n",
       "  </tbody>\n",
       "</table>\n",
       "</div>"
      ],
      "text/plain": [
       "   one  two  three  four    E\n",
       "A  NaN  NaN    NaN   NaN  NaN\n",
       "B  NaN  NaN    NaN   NaN  NaN\n",
       "C  NaN  NaN    NaN   NaN  NaN\n",
       "D  NaN  NaN    NaN   NaN  NaN\n",
       "E  NaN  NaN    NaN   NaN  NaN"
      ]
     },
     "execution_count": 73,
     "metadata": {},
     "output_type": "execute_result"
    }
   ],
   "source": [
    "df3 = df2.reindex(list('ABCDE'))\n",
    "df3"
   ]
  },
  {
   "cell_type": "code",
   "execution_count": 74,
   "metadata": {
    "collapsed": false
   },
   "outputs": [
    {
     "data": {
      "text/html": [
       "<div>\n",
       "<table border=\"1\" class=\"dataframe\">\n",
       "  <thead>\n",
       "    <tr style=\"text-align: right;\">\n",
       "      <th></th>\n",
       "      <th>one</th>\n",
       "      <th>two</th>\n",
       "      <th>three</th>\n",
       "      <th>four</th>\n",
       "      <th>E</th>\n",
       "    </tr>\n",
       "  </thead>\n",
       "  <tbody>\n",
       "  </tbody>\n",
       "</table>\n",
       "</div>"
      ],
      "text/plain": [
       "Empty DataFrame\n",
       "Columns: [one, two, three, four, E]\n",
       "Index: []"
      ]
     },
     "execution_count": 74,
     "metadata": {},
     "output_type": "execute_result"
    }
   ],
   "source": [
    "df3.dropna()"
   ]
  },
  {
   "cell_type": "code",
   "execution_count": 75,
   "metadata": {
    "collapsed": false
   },
   "outputs": [
    {
     "data": {
      "text/html": [
       "<div>\n",
       "<table border=\"1\" class=\"dataframe\">\n",
       "  <thead>\n",
       "    <tr style=\"text-align: right;\">\n",
       "      <th></th>\n",
       "      <th>one</th>\n",
       "      <th>two</th>\n",
       "      <th>three</th>\n",
       "      <th>four</th>\n",
       "      <th>E</th>\n",
       "    </tr>\n",
       "  </thead>\n",
       "  <tbody>\n",
       "    <tr>\n",
       "      <th>A</th>\n",
       "      <td>1.0</td>\n",
       "      <td>1.0</td>\n",
       "      <td>1.0</td>\n",
       "      <td>1.0</td>\n",
       "      <td>1</td>\n",
       "    </tr>\n",
       "    <tr>\n",
       "      <th>B</th>\n",
       "      <td>1.0</td>\n",
       "      <td>1.0</td>\n",
       "      <td>1.0</td>\n",
       "      <td>1.0</td>\n",
       "      <td>1</td>\n",
       "    </tr>\n",
       "    <tr>\n",
       "      <th>C</th>\n",
       "      <td>1.0</td>\n",
       "      <td>1.0</td>\n",
       "      <td>1.0</td>\n",
       "      <td>1.0</td>\n",
       "      <td>1</td>\n",
       "    </tr>\n",
       "    <tr>\n",
       "      <th>D</th>\n",
       "      <td>1.0</td>\n",
       "      <td>1.0</td>\n",
       "      <td>1.0</td>\n",
       "      <td>1.0</td>\n",
       "      <td>1</td>\n",
       "    </tr>\n",
       "    <tr>\n",
       "      <th>E</th>\n",
       "      <td>1.0</td>\n",
       "      <td>1.0</td>\n",
       "      <td>1.0</td>\n",
       "      <td>1.0</td>\n",
       "      <td>1</td>\n",
       "    </tr>\n",
       "  </tbody>\n",
       "</table>\n",
       "</div>"
      ],
      "text/plain": [
       "   one  two  three  four  E\n",
       "A  1.0  1.0    1.0   1.0  1\n",
       "B  1.0  1.0    1.0   1.0  1\n",
       "C  1.0  1.0    1.0   1.0  1\n",
       "D  1.0  1.0    1.0   1.0  1\n",
       "E  1.0  1.0    1.0   1.0  1"
      ]
     },
     "execution_count": 75,
     "metadata": {},
     "output_type": "execute_result"
    }
   ],
   "source": [
    "df3.fillna(1)"
   ]
  },
  {
   "cell_type": "code",
   "execution_count": 76,
   "metadata": {
    "collapsed": false
   },
   "outputs": [
    {
     "data": {
      "text/html": [
       "<div>\n",
       "<table border=\"1\" class=\"dataframe\">\n",
       "  <thead>\n",
       "    <tr style=\"text-align: right;\">\n",
       "      <th></th>\n",
       "      <th>one</th>\n",
       "      <th>two</th>\n",
       "      <th>three</th>\n",
       "      <th>four</th>\n",
       "      <th>E</th>\n",
       "    </tr>\n",
       "  </thead>\n",
       "  <tbody>\n",
       "    <tr>\n",
       "      <th>A</th>\n",
       "      <td>True</td>\n",
       "      <td>True</td>\n",
       "      <td>True</td>\n",
       "      <td>True</td>\n",
       "      <td>True</td>\n",
       "    </tr>\n",
       "    <tr>\n",
       "      <th>B</th>\n",
       "      <td>True</td>\n",
       "      <td>True</td>\n",
       "      <td>True</td>\n",
       "      <td>True</td>\n",
       "      <td>True</td>\n",
       "    </tr>\n",
       "    <tr>\n",
       "      <th>C</th>\n",
       "      <td>True</td>\n",
       "      <td>True</td>\n",
       "      <td>True</td>\n",
       "      <td>True</td>\n",
       "      <td>True</td>\n",
       "    </tr>\n",
       "    <tr>\n",
       "      <th>D</th>\n",
       "      <td>True</td>\n",
       "      <td>True</td>\n",
       "      <td>True</td>\n",
       "      <td>True</td>\n",
       "      <td>True</td>\n",
       "    </tr>\n",
       "    <tr>\n",
       "      <th>E</th>\n",
       "      <td>True</td>\n",
       "      <td>True</td>\n",
       "      <td>True</td>\n",
       "      <td>True</td>\n",
       "      <td>True</td>\n",
       "    </tr>\n",
       "  </tbody>\n",
       "</table>\n",
       "</div>"
      ],
      "text/plain": [
       "    one   two three  four     E\n",
       "A  True  True  True  True  True\n",
       "B  True  True  True  True  True\n",
       "C  True  True  True  True  True\n",
       "D  True  True  True  True  True\n",
       "E  True  True  True  True  True"
      ]
     },
     "execution_count": 76,
     "metadata": {},
     "output_type": "execute_result"
    }
   ],
   "source": [
    "df3.isnull()"
   ]
  },
  {
   "cell_type": "markdown",
   "metadata": {},
   "source": [
    "## Operations\n",
    "\n",
    "- .mean - *get mean*\n",
    "- .apply - *apply a function to data*\n",
    "- .value_counts - *histogram* **only works on series**\n",
    "- .str.lower - *string methods*\n",
    "- pd.concat - *concatenate, equivalent to np.concatenate()*"
   ]
  },
  {
   "cell_type": "code",
   "execution_count": 106,
   "metadata": {
    "collapsed": false
   },
   "outputs": [
    {
     "data": {
      "text/html": [
       "<div>\n",
       "<table border=\"1\" class=\"dataframe\">\n",
       "  <thead>\n",
       "    <tr style=\"text-align: right;\">\n",
       "      <th></th>\n",
       "      <th>one</th>\n",
       "      <th>two</th>\n",
       "      <th>three</th>\n",
       "      <th>four</th>\n",
       "    </tr>\n",
       "  </thead>\n",
       "  <tbody>\n",
       "    <tr>\n",
       "      <th>2016-06-24</th>\n",
       "      <td>-0.865824</td>\n",
       "      <td>-0.259413</td>\n",
       "      <td>-0.278707</td>\n",
       "      <td>-0.083715</td>\n",
       "    </tr>\n",
       "    <tr>\n",
       "      <th>2016-06-25</th>\n",
       "      <td>2.377690</td>\n",
       "      <td>-0.603749</td>\n",
       "      <td>-0.364608</td>\n",
       "      <td>-0.829026</td>\n",
       "    </tr>\n",
       "    <tr>\n",
       "      <th>2016-06-26</th>\n",
       "      <td>0.195804</td>\n",
       "      <td>0.305053</td>\n",
       "      <td>1.295641</td>\n",
       "      <td>-1.087357</td>\n",
       "    </tr>\n",
       "    <tr>\n",
       "      <th>2016-06-27</th>\n",
       "      <td>0.926671</td>\n",
       "      <td>-0.749013</td>\n",
       "      <td>-0.218765</td>\n",
       "      <td>-0.159252</td>\n",
       "    </tr>\n",
       "    <tr>\n",
       "      <th>2016-06-28</th>\n",
       "      <td>-2.008621</td>\n",
       "      <td>0.431193</td>\n",
       "      <td>-0.481636</td>\n",
       "      <td>0.869175</td>\n",
       "    </tr>\n",
       "  </tbody>\n",
       "</table>\n",
       "</div>"
      ],
      "text/plain": [
       "                 one       two     three      four\n",
       "2016-06-24 -0.865824 -0.259413 -0.278707 -0.083715\n",
       "2016-06-25  2.377690 -0.603749 -0.364608 -0.829026\n",
       "2016-06-26  0.195804  0.305053  1.295641 -1.087357\n",
       "2016-06-27  0.926671 -0.749013 -0.218765 -0.159252\n",
       "2016-06-28 -2.008621  0.431193 -0.481636  0.869175"
      ]
     },
     "execution_count": 106,
     "metadata": {},
     "output_type": "execute_result"
    }
   ],
   "source": [
    "df"
   ]
  },
  {
   "cell_type": "code",
   "execution_count": 86,
   "metadata": {
    "collapsed": false
   },
   "outputs": [
    {
     "data": {
      "text/plain": [
       "one      0.125144\n",
       "two     -0.175186\n",
       "three   -0.009615\n",
       "four    -0.258035\n",
       "dtype: float64"
      ]
     },
     "execution_count": 86,
     "metadata": {},
     "output_type": "execute_result"
    }
   ],
   "source": [
    "df.mean() #default axis=0 (along the row)"
   ]
  },
  {
   "cell_type": "code",
   "execution_count": 87,
   "metadata": {
    "collapsed": false
   },
   "outputs": [
    {
     "data": {
      "text/plain": [
       "2016-06-24   -0.371915\n",
       "2016-06-25    0.145077\n",
       "2016-06-26    0.177285\n",
       "2016-06-27   -0.050090\n",
       "2016-06-28   -0.297472\n",
       "Freq: D, dtype: float64"
      ]
     },
     "execution_count": 87,
     "metadata": {},
     "output_type": "execute_result"
    }
   ],
   "source": [
    "df.mean(1) #axis=1 (along the column)"
   ]
  },
  {
   "cell_type": "code",
   "execution_count": 94,
   "metadata": {
    "collapsed": false
   },
   "outputs": [
    {
     "data": {
      "text/plain": [
       " 0.926671    1\n",
       "-0.865824    1\n",
       " 2.377690    1\n",
       " 0.195804    1\n",
       "-2.008621    1\n",
       "Name: one, dtype: int64"
      ]
     },
     "execution_count": 94,
     "metadata": {},
     "output_type": "execute_result"
    }
   ],
   "source": [
    "df['one'].value_counts()"
   ]
  },
  {
   "cell_type": "code",
   "execution_count": 105,
   "metadata": {
    "collapsed": false
   },
   "outputs": [
    {
     "name": "stdout",
     "output_type": "stream",
     "text": [
      "                 one       two     three      four\n",
      "2016-06-24 -0.865824 -0.259413 -0.278707 -0.083715\n",
      "2016-06-25  2.377690 -0.603749 -0.364608 -0.829026\n",
      "2016-06-26  0.195804  0.305053  1.295641 -1.087357\n",
      "2016-06-27  0.926671 -0.749013 -0.218765 -0.159252\n",
      "2016-06-28 -2.008621  0.431193 -0.481636  0.869175\n",
      "2016-06-24   -0.865824\n",
      "2016-06-25    2.377690\n",
      "2016-06-26    0.195804\n",
      "2016-06-27    0.926671\n",
      "2016-06-28   -2.008621\n",
      "2016-06-24   -0.259413\n",
      "2016-06-25   -0.603749\n",
      "2016-06-26    0.305053\n",
      "2016-06-27   -0.749013\n",
      "2016-06-28    0.431193\n",
      "2016-06-24   -0.278707\n",
      "2016-06-25   -0.364608\n",
      "2016-06-26    1.295641\n",
      "2016-06-27   -0.218765\n",
      "2016-06-28   -0.481636\n",
      "2016-06-24   -0.083715\n",
      "2016-06-25   -0.829026\n",
      "2016-06-26   -1.087357\n",
      "2016-06-27   -0.159252\n",
      "2016-06-28    0.869175\n",
      "dtype: float64\n"
     ]
    }
   ],
   "source": [
    "pieces = [df.one, df.two, df.three, df.four]\n",
    "print pd.concat(pieces, axis=1)\n",
    "print pd.concat(pieces)"
   ]
  }
 ],
 "metadata": {
  "kernelspec": {
   "display_name": "Python 2",
   "language": "python",
   "name": "python2"
  },
  "language_info": {
   "codemirror_mode": {
    "name": "ipython",
    "version": 2
   },
   "file_extension": ".py",
   "mimetype": "text/x-python",
   "name": "python",
   "nbconvert_exporter": "python",
   "pygments_lexer": "ipython2",
   "version": "2.7.11"
  }
 },
 "nbformat": 4,
 "nbformat_minor": 0
}
