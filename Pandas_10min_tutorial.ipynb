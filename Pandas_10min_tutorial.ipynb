{
 "cells": [
  {
   "cell_type": "markdown",
   "metadata": {},
   "source": [
    "## Pandas 10 minute Tutorial\n",
    "notes taken from http://pandas.pydata.org/pandas-docs/stable/10min.html"
   ]
  },
  {
   "cell_type": "code",
   "execution_count": 1,
   "metadata": {
    "collapsed": false
   },
   "outputs": [
    {
     "name": "stderr",
     "output_type": "stream",
     "text": [
      "/Users/HyunJooHwang/anaconda2/lib/python2.7/site-packages/matplotlib/font_manager.py:273: UserWarning: Matplotlib is building the font cache using fc-list. This may take a moment.\n",
      "  warnings.warn('Matplotlib is building the font cache using fc-list. This may take a moment.')\n"
     ]
    }
   ],
   "source": [
    "import pandas as pd\n",
    "import numpy as np\n",
    "import matplotlib.pyplot as plt"
   ]
  },
  {
   "cell_type": "markdown",
   "metadata": {},
   "source": [
    "## Create a Pandas **series**"
   ]
  },
  {
   "cell_type": "code",
   "execution_count": 2,
   "metadata": {
    "collapsed": false
   },
   "outputs": [
    {
     "data": {
      "text/plain": [
       "0    1\n",
       "1    2\n",
       "2    3\n",
       "3    6\n",
       "4    7\n",
       "dtype: int64"
      ]
     },
     "execution_count": 2,
     "metadata": {},
     "output_type": "execute_result"
    }
   ],
   "source": [
    "s = pd.Series([1,2,3,6,7])\n",
    "\n",
    "s"
   ]
  },
  {
   "cell_type": "markdown",
   "metadata": {},
   "source": [
    "## Create a Pandas **DataFrame** by passing a numpy array, index and column label"
   ]
  },
  {
   "cell_type": "code",
   "execution_count": 3,
   "metadata": {
    "collapsed": false
   },
   "outputs": [
    {
     "data": {
      "text/plain": [
       "DatetimeIndex(['2016-06-24', '2016-06-25', '2016-06-26', '2016-06-27',\n",
       "               '2016-06-28'],\n",
       "              dtype='datetime64[ns]', freq='D')"
      ]
     },
     "execution_count": 3,
     "metadata": {},
     "output_type": "execute_result"
    }
   ],
   "source": [
    "dates = pd.date_range('20160624', periods=5)\n",
    "dates"
   ]
  },
  {
   "cell_type": "code",
   "execution_count": 4,
   "metadata": {
    "collapsed": false
   },
   "outputs": [
    {
     "data": {
      "text/html": [
       "<div>\n",
       "<table border=\"1\" class=\"dataframe\">\n",
       "  <thead>\n",
       "    <tr style=\"text-align: right;\">\n",
       "      <th></th>\n",
       "      <th>one</th>\n",
       "      <th>two</th>\n",
       "      <th>three</th>\n",
       "      <th>four</th>\n",
       "    </tr>\n",
       "  </thead>\n",
       "  <tbody>\n",
       "    <tr>\n",
       "      <th>2016-06-24</th>\n",
       "      <td>-2.910848</td>\n",
       "      <td>1.103582</td>\n",
       "      <td>0.206304</td>\n",
       "      <td>-0.436187</td>\n",
       "    </tr>\n",
       "    <tr>\n",
       "      <th>2016-06-25</th>\n",
       "      <td>1.138587</td>\n",
       "      <td>-0.013138</td>\n",
       "      <td>0.478100</td>\n",
       "      <td>2.298781</td>\n",
       "    </tr>\n",
       "    <tr>\n",
       "      <th>2016-06-26</th>\n",
       "      <td>1.121629</td>\n",
       "      <td>-0.055500</td>\n",
       "      <td>-0.506361</td>\n",
       "      <td>0.454096</td>\n",
       "    </tr>\n",
       "    <tr>\n",
       "      <th>2016-06-27</th>\n",
       "      <td>-1.136933</td>\n",
       "      <td>0.125587</td>\n",
       "      <td>-0.740266</td>\n",
       "      <td>0.485956</td>\n",
       "    </tr>\n",
       "    <tr>\n",
       "      <th>2016-06-28</th>\n",
       "      <td>-1.781667</td>\n",
       "      <td>-1.672843</td>\n",
       "      <td>0.832271</td>\n",
       "      <td>-0.368503</td>\n",
       "    </tr>\n",
       "  </tbody>\n",
       "</table>\n",
       "</div>"
      ],
      "text/plain": [
       "                 one       two     three      four\n",
       "2016-06-24 -2.910848  1.103582  0.206304 -0.436187\n",
       "2016-06-25  1.138587 -0.013138  0.478100  2.298781\n",
       "2016-06-26  1.121629 -0.055500 -0.506361  0.454096\n",
       "2016-06-27 -1.136933  0.125587 -0.740266  0.485956\n",
       "2016-06-28 -1.781667 -1.672843  0.832271 -0.368503"
      ]
     },
     "execution_count": 4,
     "metadata": {},
     "output_type": "execute_result"
    }
   ],
   "source": [
    "df = pd.DataFrame(np.random.randn(5,4), index=dates, columns=['one','two','three','four'])\n",
    "df"
   ]
  },
  {
   "cell_type": "markdown",
   "metadata": {},
   "source": [
    "## Create a Pandas **DataFrame** by passing a dictionary of objects"
   ]
  },
  {
   "cell_type": "code",
   "execution_count": 5,
   "metadata": {
    "collapsed": false
   },
   "outputs": [
    {
     "data": {
      "text/html": [
       "<div>\n",
       "<table border=\"1\" class=\"dataframe\">\n",
       "  <thead>\n",
       "    <tr style=\"text-align: right;\">\n",
       "      <th></th>\n",
       "      <th>x</th>\n",
       "      <th>y</th>\n",
       "      <th>z</th>\n",
       "    </tr>\n",
       "  </thead>\n",
       "  <tbody>\n",
       "    <tr>\n",
       "      <th>0</th>\n",
       "      <td>1</td>\n",
       "      <td>2</td>\n",
       "      <td>0</td>\n",
       "    </tr>\n",
       "    <tr>\n",
       "      <th>1</th>\n",
       "      <td>2</td>\n",
       "      <td>3</td>\n",
       "      <td>4</td>\n",
       "    </tr>\n",
       "    <tr>\n",
       "      <th>2</th>\n",
       "      <td>3</td>\n",
       "      <td>1</td>\n",
       "      <td>5</td>\n",
       "    </tr>\n",
       "  </tbody>\n",
       "</table>\n",
       "</div>"
      ],
      "text/plain": [
       "   x  y  z\n",
       "0  1  2  0\n",
       "1  2  3  4\n",
       "2  3  1  5"
      ]
     },
     "execution_count": 5,
     "metadata": {},
     "output_type": "execute_result"
    }
   ],
   "source": [
    "dict = {'x':[1,2,3],'y':[2,3,1],'z':[0,4,5]}\n",
    "df2 = pd.DataFrame(dict)\n",
    "df2"
   ]
  },
  {
   "cell_type": "code",
   "execution_count": 6,
   "metadata": {
    "collapsed": false
   },
   "outputs": [
    {
     "name": "stdout",
     "output_type": "stream",
     "text": [
      "A           float64\n",
      "B    datetime64[ns]\n",
      "C           float32\n",
      "D             int32\n",
      "E          category\n",
      "F            object\n",
      "dtype: object\n"
     ]
    },
    {
     "data": {
      "text/html": [
       "<div>\n",
       "<table border=\"1\" class=\"dataframe\">\n",
       "  <thead>\n",
       "    <tr style=\"text-align: right;\">\n",
       "      <th></th>\n",
       "      <th>A</th>\n",
       "      <th>B</th>\n",
       "      <th>C</th>\n",
       "      <th>D</th>\n",
       "      <th>E</th>\n",
       "      <th>F</th>\n",
       "    </tr>\n",
       "  </thead>\n",
       "  <tbody>\n",
       "    <tr>\n",
       "      <th>0</th>\n",
       "      <td>1.0</td>\n",
       "      <td>2013-01-02</td>\n",
       "      <td>1.0</td>\n",
       "      <td>3</td>\n",
       "      <td>test</td>\n",
       "      <td>foo</td>\n",
       "    </tr>\n",
       "    <tr>\n",
       "      <th>1</th>\n",
       "      <td>1.0</td>\n",
       "      <td>2013-01-02</td>\n",
       "      <td>1.0</td>\n",
       "      <td>3</td>\n",
       "      <td>train</td>\n",
       "      <td>foo</td>\n",
       "    </tr>\n",
       "    <tr>\n",
       "      <th>2</th>\n",
       "      <td>1.0</td>\n",
       "      <td>2013-01-02</td>\n",
       "      <td>1.0</td>\n",
       "      <td>3</td>\n",
       "      <td>test</td>\n",
       "      <td>foo</td>\n",
       "    </tr>\n",
       "    <tr>\n",
       "      <th>3</th>\n",
       "      <td>1.0</td>\n",
       "      <td>2013-01-02</td>\n",
       "      <td>1.0</td>\n",
       "      <td>3</td>\n",
       "      <td>train</td>\n",
       "      <td>foo</td>\n",
       "    </tr>\n",
       "  </tbody>\n",
       "</table>\n",
       "</div>"
      ],
      "text/plain": [
       "     A          B    C  D      E    F\n",
       "0  1.0 2013-01-02  1.0  3   test  foo\n",
       "1  1.0 2013-01-02  1.0  3  train  foo\n",
       "2  1.0 2013-01-02  1.0  3   test  foo\n",
       "3  1.0 2013-01-02  1.0  3  train  foo"
      ]
     },
     "execution_count": 6,
     "metadata": {},
     "output_type": "execute_result"
    }
   ],
   "source": [
    "df2 = pd.DataFrame({ 'A' : 1.,\n",
    "                     'B' : pd.Timestamp('20130102'),\n",
    "                     'C' : pd.Series(1,index=list(range(4)),dtype='float32'),\n",
    "                     'D' : np.array([3] * 4,dtype='int32'),\n",
    "                     'E' : pd.Categorical([\"test\",\"train\",\"test\",\"train\"]),\n",
    "                     'F' : 'foo' })\n",
    "print df2.dtypes\n",
    "df2"
   ]
  },
  {
   "cell_type": "code",
   "execution_count": 7,
   "metadata": {
    "collapsed": false
   },
   "outputs": [
    {
     "name": "stdout",
     "output_type": "stream",
     "text": [
      "Int64Index([0, 1, 2, 3], dtype='int64')\n",
      "Index([u'A', u'B', u'C', u'D', u'E', u'F'], dtype='object')\n",
      "[[1.0 Timestamp('2013-01-02 00:00:00') 1.0 3 'test' 'foo']\n",
      " [1.0 Timestamp('2013-01-02 00:00:00') 1.0 3 'train' 'foo']\n",
      " [1.0 Timestamp('2013-01-02 00:00:00') 1.0 3 'test' 'foo']\n",
      " [1.0 Timestamp('2013-01-02 00:00:00') 1.0 3 'train' 'foo']]\n"
     ]
    }
   ],
   "source": [
    "print df2.index\n",
    "print df2.columns\n",
    "print df2.values"
   ]
  },
  {
   "cell_type": "markdown",
   "metadata": {},
   "source": [
    "## **Transposing** your data"
   ]
  },
  {
   "cell_type": "code",
   "execution_count": 8,
   "metadata": {
    "collapsed": false
   },
   "outputs": [
    {
     "data": {
      "text/html": [
       "<div>\n",
       "<table border=\"1\" class=\"dataframe\">\n",
       "  <thead>\n",
       "    <tr style=\"text-align: right;\">\n",
       "      <th></th>\n",
       "      <th>2016-06-24 00:00:00</th>\n",
       "      <th>2016-06-25 00:00:00</th>\n",
       "      <th>2016-06-26 00:00:00</th>\n",
       "      <th>2016-06-27 00:00:00</th>\n",
       "      <th>2016-06-28 00:00:00</th>\n",
       "    </tr>\n",
       "  </thead>\n",
       "  <tbody>\n",
       "    <tr>\n",
       "      <th>one</th>\n",
       "      <td>-2.910848</td>\n",
       "      <td>1.138587</td>\n",
       "      <td>1.121629</td>\n",
       "      <td>-1.136933</td>\n",
       "      <td>-1.781667</td>\n",
       "    </tr>\n",
       "    <tr>\n",
       "      <th>two</th>\n",
       "      <td>1.103582</td>\n",
       "      <td>-0.013138</td>\n",
       "      <td>-0.055500</td>\n",
       "      <td>0.125587</td>\n",
       "      <td>-1.672843</td>\n",
       "    </tr>\n",
       "    <tr>\n",
       "      <th>three</th>\n",
       "      <td>0.206304</td>\n",
       "      <td>0.478100</td>\n",
       "      <td>-0.506361</td>\n",
       "      <td>-0.740266</td>\n",
       "      <td>0.832271</td>\n",
       "    </tr>\n",
       "    <tr>\n",
       "      <th>four</th>\n",
       "      <td>-0.436187</td>\n",
       "      <td>2.298781</td>\n",
       "      <td>0.454096</td>\n",
       "      <td>0.485956</td>\n",
       "      <td>-0.368503</td>\n",
       "    </tr>\n",
       "  </tbody>\n",
       "</table>\n",
       "</div>"
      ],
      "text/plain": [
       "       2016-06-24  2016-06-25  2016-06-26  2016-06-27  2016-06-28\n",
       "one     -2.910848    1.138587    1.121629   -1.136933   -1.781667\n",
       "two      1.103582   -0.013138   -0.055500    0.125587   -1.672843\n",
       "three    0.206304    0.478100   -0.506361   -0.740266    0.832271\n",
       "four    -0.436187    2.298781    0.454096    0.485956   -0.368503"
      ]
     },
     "execution_count": 8,
     "metadata": {},
     "output_type": "execute_result"
    }
   ],
   "source": [
    "df.T"
   ]
  },
  {
   "cell_type": "markdown",
   "metadata": {},
   "source": [
    "## **sorting** by an axis"
   ]
  },
  {
   "cell_type": "code",
   "execution_count": 9,
   "metadata": {
    "collapsed": false
   },
   "outputs": [
    {
     "data": {
      "text/html": [
       "<div>\n",
       "<table border=\"1\" class=\"dataframe\">\n",
       "  <thead>\n",
       "    <tr style=\"text-align: right;\">\n",
       "      <th></th>\n",
       "      <th>four</th>\n",
       "      <th>one</th>\n",
       "      <th>three</th>\n",
       "      <th>two</th>\n",
       "    </tr>\n",
       "  </thead>\n",
       "  <tbody>\n",
       "    <tr>\n",
       "      <th>2016-06-24</th>\n",
       "      <td>-0.436187</td>\n",
       "      <td>-2.910848</td>\n",
       "      <td>0.206304</td>\n",
       "      <td>1.103582</td>\n",
       "    </tr>\n",
       "    <tr>\n",
       "      <th>2016-06-25</th>\n",
       "      <td>2.298781</td>\n",
       "      <td>1.138587</td>\n",
       "      <td>0.478100</td>\n",
       "      <td>-0.013138</td>\n",
       "    </tr>\n",
       "    <tr>\n",
       "      <th>2016-06-26</th>\n",
       "      <td>0.454096</td>\n",
       "      <td>1.121629</td>\n",
       "      <td>-0.506361</td>\n",
       "      <td>-0.055500</td>\n",
       "    </tr>\n",
       "    <tr>\n",
       "      <th>2016-06-27</th>\n",
       "      <td>0.485956</td>\n",
       "      <td>-1.136933</td>\n",
       "      <td>-0.740266</td>\n",
       "      <td>0.125587</td>\n",
       "    </tr>\n",
       "    <tr>\n",
       "      <th>2016-06-28</th>\n",
       "      <td>-0.368503</td>\n",
       "      <td>-1.781667</td>\n",
       "      <td>0.832271</td>\n",
       "      <td>-1.672843</td>\n",
       "    </tr>\n",
       "  </tbody>\n",
       "</table>\n",
       "</div>"
      ],
      "text/plain": [
       "                four       one     three       two\n",
       "2016-06-24 -0.436187 -2.910848  0.206304  1.103582\n",
       "2016-06-25  2.298781  1.138587  0.478100 -0.013138\n",
       "2016-06-26  0.454096  1.121629 -0.506361 -0.055500\n",
       "2016-06-27  0.485956 -1.136933 -0.740266  0.125587\n",
       "2016-06-28 -0.368503 -1.781667  0.832271 -1.672843"
      ]
     },
     "execution_count": 9,
     "metadata": {},
     "output_type": "execute_result"
    }
   ],
   "source": [
    "df.sort_index(axis=1, ascending=True)"
   ]
  },
  {
   "cell_type": "code",
   "execution_count": 10,
   "metadata": {
    "collapsed": false
   },
   "outputs": [
    {
     "data": {
      "text/html": [
       "<div>\n",
       "<table border=\"1\" class=\"dataframe\">\n",
       "  <thead>\n",
       "    <tr style=\"text-align: right;\">\n",
       "      <th></th>\n",
       "      <th>one</th>\n",
       "      <th>two</th>\n",
       "      <th>three</th>\n",
       "      <th>four</th>\n",
       "    </tr>\n",
       "  </thead>\n",
       "  <tbody>\n",
       "    <tr>\n",
       "      <th>2016-06-28</th>\n",
       "      <td>-1.781667</td>\n",
       "      <td>-1.672843</td>\n",
       "      <td>0.832271</td>\n",
       "      <td>-0.368503</td>\n",
       "    </tr>\n",
       "    <tr>\n",
       "      <th>2016-06-27</th>\n",
       "      <td>-1.136933</td>\n",
       "      <td>0.125587</td>\n",
       "      <td>-0.740266</td>\n",
       "      <td>0.485956</td>\n",
       "    </tr>\n",
       "    <tr>\n",
       "      <th>2016-06-26</th>\n",
       "      <td>1.121629</td>\n",
       "      <td>-0.055500</td>\n",
       "      <td>-0.506361</td>\n",
       "      <td>0.454096</td>\n",
       "    </tr>\n",
       "    <tr>\n",
       "      <th>2016-06-25</th>\n",
       "      <td>1.138587</td>\n",
       "      <td>-0.013138</td>\n",
       "      <td>0.478100</td>\n",
       "      <td>2.298781</td>\n",
       "    </tr>\n",
       "    <tr>\n",
       "      <th>2016-06-24</th>\n",
       "      <td>-2.910848</td>\n",
       "      <td>1.103582</td>\n",
       "      <td>0.206304</td>\n",
       "      <td>-0.436187</td>\n",
       "    </tr>\n",
       "  </tbody>\n",
       "</table>\n",
       "</div>"
      ],
      "text/plain": [
       "                 one       two     three      four\n",
       "2016-06-28 -1.781667 -1.672843  0.832271 -0.368503\n",
       "2016-06-27 -1.136933  0.125587 -0.740266  0.485956\n",
       "2016-06-26  1.121629 -0.055500 -0.506361  0.454096\n",
       "2016-06-25  1.138587 -0.013138  0.478100  2.298781\n",
       "2016-06-24 -2.910848  1.103582  0.206304 -0.436187"
      ]
     },
     "execution_count": 10,
     "metadata": {},
     "output_type": "execute_result"
    }
   ],
   "source": [
    "df.sort_index(axis=0, ascending=False)"
   ]
  },
  {
   "cell_type": "code",
   "execution_count": 11,
   "metadata": {
    "collapsed": false
   },
   "outputs": [
    {
     "data": {
      "text/html": [
       "<div>\n",
       "<table border=\"1\" class=\"dataframe\">\n",
       "  <thead>\n",
       "    <tr style=\"text-align: right;\">\n",
       "      <th></th>\n",
       "      <th>one</th>\n",
       "      <th>two</th>\n",
       "      <th>three</th>\n",
       "      <th>four</th>\n",
       "    </tr>\n",
       "  </thead>\n",
       "  <tbody>\n",
       "    <tr>\n",
       "      <th>2016-06-24</th>\n",
       "      <td>-2.910848</td>\n",
       "      <td>1.103582</td>\n",
       "      <td>0.206304</td>\n",
       "      <td>-0.436187</td>\n",
       "    </tr>\n",
       "    <tr>\n",
       "      <th>2016-06-28</th>\n",
       "      <td>-1.781667</td>\n",
       "      <td>-1.672843</td>\n",
       "      <td>0.832271</td>\n",
       "      <td>-0.368503</td>\n",
       "    </tr>\n",
       "    <tr>\n",
       "      <th>2016-06-27</th>\n",
       "      <td>-1.136933</td>\n",
       "      <td>0.125587</td>\n",
       "      <td>-0.740266</td>\n",
       "      <td>0.485956</td>\n",
       "    </tr>\n",
       "    <tr>\n",
       "      <th>2016-06-26</th>\n",
       "      <td>1.121629</td>\n",
       "      <td>-0.055500</td>\n",
       "      <td>-0.506361</td>\n",
       "      <td>0.454096</td>\n",
       "    </tr>\n",
       "    <tr>\n",
       "      <th>2016-06-25</th>\n",
       "      <td>1.138587</td>\n",
       "      <td>-0.013138</td>\n",
       "      <td>0.478100</td>\n",
       "      <td>2.298781</td>\n",
       "    </tr>\n",
       "  </tbody>\n",
       "</table>\n",
       "</div>"
      ],
      "text/plain": [
       "                 one       two     three      four\n",
       "2016-06-24 -2.910848  1.103582  0.206304 -0.436187\n",
       "2016-06-28 -1.781667 -1.672843  0.832271 -0.368503\n",
       "2016-06-27 -1.136933  0.125587 -0.740266  0.485956\n",
       "2016-06-26  1.121629 -0.055500 -0.506361  0.454096\n",
       "2016-06-25  1.138587 -0.013138  0.478100  2.298781"
      ]
     },
     "execution_count": 11,
     "metadata": {},
     "output_type": "execute_result"
    }
   ],
   "source": [
    "df.sort_values(by='one')"
   ]
  },
  {
   "cell_type": "markdown",
   "metadata": {
    "collapsed": false
   },
   "source": [
    "## DataFrame Indexing\n",
    "\n",
    "- .at\n",
    "- .iat\n",
    "- .loc\n",
    "- .iloc\n",
    "- .ix\n",
    "\n",
    "if *i* in front, takes integer argument  \n",
    "if not, takes labels as argument  \n",
    "*.ix* takes both"
   ]
  },
  {
   "cell_type": "code",
   "execution_count": 12,
   "metadata": {
    "collapsed": false
   },
   "outputs": [
    {
     "name": "stdout",
     "output_type": "stream",
     "text": [
      "Index([u'two', u'three', u'four'], dtype='object')\n",
      "             two three  four\n",
      "2016-06-24  True  True  True\n",
      "2016-06-25  True  True  True\n",
      "2016-06-26  True  True  True\n",
      "2016-06-27  True  True  True\n",
      "2016-06-28  True  True  True\n"
     ]
    }
   ],
   "source": [
    "#.at, .iat, .loc, .iloc, .ix\n",
    "#  no i - label\n",
    "#  i - integer\n",
    "#  ix - mixed integer/label\n",
    "df.iloc[1]\n",
    "print df.columns[1:]\n",
    "comp1=df[df.columns[1:]]\n",
    "predictors = ['two','three','four']\n",
    "comp2=df[predictors]\n",
    "\n",
    "print comp1 == comp2"
   ]
  },
  {
   "cell_type": "markdown",
   "metadata": {},
   "source": [
    "- number indexing (like np arrays) work too"
   ]
  },
  {
   "cell_type": "code",
   "execution_count": 13,
   "metadata": {
    "collapsed": false
   },
   "outputs": [
    {
     "data": {
      "text/html": [
       "<div>\n",
       "<table border=\"1\" class=\"dataframe\">\n",
       "  <thead>\n",
       "    <tr style=\"text-align: right;\">\n",
       "      <th></th>\n",
       "      <th>one</th>\n",
       "      <th>two</th>\n",
       "      <th>three</th>\n",
       "      <th>four</th>\n",
       "    </tr>\n",
       "  </thead>\n",
       "  <tbody>\n",
       "    <tr>\n",
       "      <th>2016-06-24</th>\n",
       "      <td>-2.910848</td>\n",
       "      <td>1.103582</td>\n",
       "      <td>0.206304</td>\n",
       "      <td>-0.436187</td>\n",
       "    </tr>\n",
       "    <tr>\n",
       "      <th>2016-06-25</th>\n",
       "      <td>1.138587</td>\n",
       "      <td>-0.013138</td>\n",
       "      <td>0.478100</td>\n",
       "      <td>2.298781</td>\n",
       "    </tr>\n",
       "    <tr>\n",
       "      <th>2016-06-26</th>\n",
       "      <td>1.121629</td>\n",
       "      <td>-0.055500</td>\n",
       "      <td>-0.506361</td>\n",
       "      <td>0.454096</td>\n",
       "    </tr>\n",
       "    <tr>\n",
       "      <th>2016-06-27</th>\n",
       "      <td>-1.136933</td>\n",
       "      <td>0.125587</td>\n",
       "      <td>-0.740266</td>\n",
       "      <td>0.485956</td>\n",
       "    </tr>\n",
       "    <tr>\n",
       "      <th>2016-06-28</th>\n",
       "      <td>-1.781667</td>\n",
       "      <td>-1.672843</td>\n",
       "      <td>0.832271</td>\n",
       "      <td>-0.368503</td>\n",
       "    </tr>\n",
       "  </tbody>\n",
       "</table>\n",
       "</div>"
      ],
      "text/plain": [
       "                 one       two     three      four\n",
       "2016-06-24 -2.910848  1.103582  0.206304 -0.436187\n",
       "2016-06-25  1.138587 -0.013138  0.478100  2.298781\n",
       "2016-06-26  1.121629 -0.055500 -0.506361  0.454096\n",
       "2016-06-27 -1.136933  0.125587 -0.740266  0.485956\n",
       "2016-06-28 -1.781667 -1.672843  0.832271 -0.368503"
      ]
     },
     "execution_count": 13,
     "metadata": {},
     "output_type": "execute_result"
    }
   ],
   "source": [
    "df[0:]"
   ]
  },
  {
   "cell_type": "markdown",
   "metadata": {},
   "source": [
    "**Boolean indexing**"
   ]
  },
  {
   "cell_type": "code",
   "execution_count": 14,
   "metadata": {
    "collapsed": false
   },
   "outputs": [
    {
     "name": "stdout",
     "output_type": "stream",
     "text": [
      "                 one       two     three      four\n",
      "2016-06-25  1.138587 -0.013138  0.478100  2.298781\n",
      "2016-06-26  1.121629 -0.055500 -0.506361  0.454096\n",
      "                 one       two     three      four\n",
      "2016-06-25  1.138587 -0.013138  0.478100  2.298781\n",
      "2016-06-26  1.121629 -0.055500 -0.506361  0.454096\n"
     ]
    }
   ],
   "source": [
    "print df[df['one']>0]\n",
    "print df[df.one >0]"
   ]
  },
  {
   "cell_type": "code",
   "execution_count": 15,
   "metadata": {
    "collapsed": false
   },
   "outputs": [
    {
     "data": {
      "text/html": [
       "<div>\n",
       "<table border=\"1\" class=\"dataframe\">\n",
       "  <thead>\n",
       "    <tr style=\"text-align: right;\">\n",
       "      <th></th>\n",
       "      <th>one</th>\n",
       "      <th>two</th>\n",
       "      <th>three</th>\n",
       "      <th>four</th>\n",
       "    </tr>\n",
       "  </thead>\n",
       "  <tbody>\n",
       "    <tr>\n",
       "      <th>2016-06-24</th>\n",
       "      <td>NaN</td>\n",
       "      <td>1.103582</td>\n",
       "      <td>0.206304</td>\n",
       "      <td>NaN</td>\n",
       "    </tr>\n",
       "    <tr>\n",
       "      <th>2016-06-25</th>\n",
       "      <td>1.138587</td>\n",
       "      <td>NaN</td>\n",
       "      <td>0.478100</td>\n",
       "      <td>2.298781</td>\n",
       "    </tr>\n",
       "    <tr>\n",
       "      <th>2016-06-26</th>\n",
       "      <td>1.121629</td>\n",
       "      <td>NaN</td>\n",
       "      <td>NaN</td>\n",
       "      <td>0.454096</td>\n",
       "    </tr>\n",
       "    <tr>\n",
       "      <th>2016-06-27</th>\n",
       "      <td>NaN</td>\n",
       "      <td>0.125587</td>\n",
       "      <td>NaN</td>\n",
       "      <td>0.485956</td>\n",
       "    </tr>\n",
       "    <tr>\n",
       "      <th>2016-06-28</th>\n",
       "      <td>NaN</td>\n",
       "      <td>NaN</td>\n",
       "      <td>0.832271</td>\n",
       "      <td>NaN</td>\n",
       "    </tr>\n",
       "  </tbody>\n",
       "</table>\n",
       "</div>"
      ],
      "text/plain": [
       "                 one       two     three      four\n",
       "2016-06-24       NaN  1.103582  0.206304       NaN\n",
       "2016-06-25  1.138587       NaN  0.478100  2.298781\n",
       "2016-06-26  1.121629       NaN       NaN  0.454096\n",
       "2016-06-27       NaN  0.125587       NaN  0.485956\n",
       "2016-06-28       NaN       NaN  0.832271       NaN"
      ]
     },
     "execution_count": 15,
     "metadata": {},
     "output_type": "execute_result"
    }
   ],
   "source": [
    "df[df>0]"
   ]
  },
  {
   "cell_type": "code",
   "execution_count": 16,
   "metadata": {
    "collapsed": false
   },
   "outputs": [
    {
     "data": {
      "text/html": [
       "<div>\n",
       "<table border=\"1\" class=\"dataframe\">\n",
       "  <thead>\n",
       "    <tr style=\"text-align: right;\">\n",
       "      <th></th>\n",
       "      <th>one</th>\n",
       "      <th>two</th>\n",
       "      <th>three</th>\n",
       "      <th>four</th>\n",
       "      <th>E</th>\n",
       "    </tr>\n",
       "  </thead>\n",
       "  <tbody>\n",
       "    <tr>\n",
       "      <th>2016-06-26</th>\n",
       "      <td>1.121629</td>\n",
       "      <td>-0.0555</td>\n",
       "      <td>-0.506361</td>\n",
       "      <td>0.454096</td>\n",
       "      <td>three</td>\n",
       "    </tr>\n",
       "  </tbody>\n",
       "</table>\n",
       "</div>"
      ],
      "text/plain": [
       "                 one     two     three      four      E\n",
       "2016-06-26  1.121629 -0.0555 -0.506361  0.454096  three"
      ]
     },
     "execution_count": 16,
     "metadata": {},
     "output_type": "execute_result"
    }
   ],
   "source": [
    "df2 = df.copy()\n",
    "df2['E']=['one','two','three','four','five']\n",
    "df2[df2.E.isin(['three'])]"
   ]
  },
  {
   "cell_type": "markdown",
   "metadata": {},
   "source": [
    "## Missing Data\n",
    "- .reindex\n",
    "- .dropna\n",
    "- .fillna\n",
    "- .isnull"
   ]
  },
  {
   "cell_type": "code",
   "execution_count": 17,
   "metadata": {
    "collapsed": false
   },
   "outputs": [
    {
     "data": {
      "text/html": [
       "<div>\n",
       "<table border=\"1\" class=\"dataframe\">\n",
       "  <thead>\n",
       "    <tr style=\"text-align: right;\">\n",
       "      <th></th>\n",
       "      <th>one</th>\n",
       "      <th>two</th>\n",
       "      <th>three</th>\n",
       "      <th>four</th>\n",
       "      <th>E</th>\n",
       "    </tr>\n",
       "  </thead>\n",
       "  <tbody>\n",
       "    <tr>\n",
       "      <th>A</th>\n",
       "      <td>NaN</td>\n",
       "      <td>NaN</td>\n",
       "      <td>NaN</td>\n",
       "      <td>NaN</td>\n",
       "      <td>NaN</td>\n",
       "    </tr>\n",
       "    <tr>\n",
       "      <th>B</th>\n",
       "      <td>NaN</td>\n",
       "      <td>NaN</td>\n",
       "      <td>NaN</td>\n",
       "      <td>NaN</td>\n",
       "      <td>NaN</td>\n",
       "    </tr>\n",
       "    <tr>\n",
       "      <th>C</th>\n",
       "      <td>NaN</td>\n",
       "      <td>NaN</td>\n",
       "      <td>NaN</td>\n",
       "      <td>NaN</td>\n",
       "      <td>NaN</td>\n",
       "    </tr>\n",
       "    <tr>\n",
       "      <th>D</th>\n",
       "      <td>NaN</td>\n",
       "      <td>NaN</td>\n",
       "      <td>NaN</td>\n",
       "      <td>NaN</td>\n",
       "      <td>NaN</td>\n",
       "    </tr>\n",
       "    <tr>\n",
       "      <th>E</th>\n",
       "      <td>NaN</td>\n",
       "      <td>NaN</td>\n",
       "      <td>NaN</td>\n",
       "      <td>NaN</td>\n",
       "      <td>NaN</td>\n",
       "    </tr>\n",
       "  </tbody>\n",
       "</table>\n",
       "</div>"
      ],
      "text/plain": [
       "   one  two  three  four    E\n",
       "A  NaN  NaN    NaN   NaN  NaN\n",
       "B  NaN  NaN    NaN   NaN  NaN\n",
       "C  NaN  NaN    NaN   NaN  NaN\n",
       "D  NaN  NaN    NaN   NaN  NaN\n",
       "E  NaN  NaN    NaN   NaN  NaN"
      ]
     },
     "execution_count": 17,
     "metadata": {},
     "output_type": "execute_result"
    }
   ],
   "source": [
    "df3 = df2.reindex(list('ABCDE'))\n",
    "df3"
   ]
  },
  {
   "cell_type": "code",
   "execution_count": 18,
   "metadata": {
    "collapsed": false
   },
   "outputs": [
    {
     "data": {
      "text/html": [
       "<div>\n",
       "<table border=\"1\" class=\"dataframe\">\n",
       "  <thead>\n",
       "    <tr style=\"text-align: right;\">\n",
       "      <th></th>\n",
       "      <th>one</th>\n",
       "      <th>two</th>\n",
       "      <th>three</th>\n",
       "      <th>four</th>\n",
       "      <th>E</th>\n",
       "    </tr>\n",
       "  </thead>\n",
       "  <tbody>\n",
       "  </tbody>\n",
       "</table>\n",
       "</div>"
      ],
      "text/plain": [
       "Empty DataFrame\n",
       "Columns: [one, two, three, four, E]\n",
       "Index: []"
      ]
     },
     "execution_count": 18,
     "metadata": {},
     "output_type": "execute_result"
    }
   ],
   "source": [
    "df3.dropna()"
   ]
  },
  {
   "cell_type": "code",
   "execution_count": 19,
   "metadata": {
    "collapsed": false
   },
   "outputs": [
    {
     "data": {
      "text/html": [
       "<div>\n",
       "<table border=\"1\" class=\"dataframe\">\n",
       "  <thead>\n",
       "    <tr style=\"text-align: right;\">\n",
       "      <th></th>\n",
       "      <th>one</th>\n",
       "      <th>two</th>\n",
       "      <th>three</th>\n",
       "      <th>four</th>\n",
       "      <th>E</th>\n",
       "    </tr>\n",
       "  </thead>\n",
       "  <tbody>\n",
       "    <tr>\n",
       "      <th>A</th>\n",
       "      <td>1.0</td>\n",
       "      <td>1.0</td>\n",
       "      <td>1.0</td>\n",
       "      <td>1.0</td>\n",
       "      <td>1</td>\n",
       "    </tr>\n",
       "    <tr>\n",
       "      <th>B</th>\n",
       "      <td>1.0</td>\n",
       "      <td>1.0</td>\n",
       "      <td>1.0</td>\n",
       "      <td>1.0</td>\n",
       "      <td>1</td>\n",
       "    </tr>\n",
       "    <tr>\n",
       "      <th>C</th>\n",
       "      <td>1.0</td>\n",
       "      <td>1.0</td>\n",
       "      <td>1.0</td>\n",
       "      <td>1.0</td>\n",
       "      <td>1</td>\n",
       "    </tr>\n",
       "    <tr>\n",
       "      <th>D</th>\n",
       "      <td>1.0</td>\n",
       "      <td>1.0</td>\n",
       "      <td>1.0</td>\n",
       "      <td>1.0</td>\n",
       "      <td>1</td>\n",
       "    </tr>\n",
       "    <tr>\n",
       "      <th>E</th>\n",
       "      <td>1.0</td>\n",
       "      <td>1.0</td>\n",
       "      <td>1.0</td>\n",
       "      <td>1.0</td>\n",
       "      <td>1</td>\n",
       "    </tr>\n",
       "  </tbody>\n",
       "</table>\n",
       "</div>"
      ],
      "text/plain": [
       "   one  two  three  four  E\n",
       "A  1.0  1.0    1.0   1.0  1\n",
       "B  1.0  1.0    1.0   1.0  1\n",
       "C  1.0  1.0    1.0   1.0  1\n",
       "D  1.0  1.0    1.0   1.0  1\n",
       "E  1.0  1.0    1.0   1.0  1"
      ]
     },
     "execution_count": 19,
     "metadata": {},
     "output_type": "execute_result"
    }
   ],
   "source": [
    "df3.fillna(1)"
   ]
  },
  {
   "cell_type": "code",
   "execution_count": 20,
   "metadata": {
    "collapsed": false
   },
   "outputs": [
    {
     "data": {
      "text/html": [
       "<div>\n",
       "<table border=\"1\" class=\"dataframe\">\n",
       "  <thead>\n",
       "    <tr style=\"text-align: right;\">\n",
       "      <th></th>\n",
       "      <th>one</th>\n",
       "      <th>two</th>\n",
       "      <th>three</th>\n",
       "      <th>four</th>\n",
       "      <th>E</th>\n",
       "    </tr>\n",
       "  </thead>\n",
       "  <tbody>\n",
       "    <tr>\n",
       "      <th>A</th>\n",
       "      <td>True</td>\n",
       "      <td>True</td>\n",
       "      <td>True</td>\n",
       "      <td>True</td>\n",
       "      <td>True</td>\n",
       "    </tr>\n",
       "    <tr>\n",
       "      <th>B</th>\n",
       "      <td>True</td>\n",
       "      <td>True</td>\n",
       "      <td>True</td>\n",
       "      <td>True</td>\n",
       "      <td>True</td>\n",
       "    </tr>\n",
       "    <tr>\n",
       "      <th>C</th>\n",
       "      <td>True</td>\n",
       "      <td>True</td>\n",
       "      <td>True</td>\n",
       "      <td>True</td>\n",
       "      <td>True</td>\n",
       "    </tr>\n",
       "    <tr>\n",
       "      <th>D</th>\n",
       "      <td>True</td>\n",
       "      <td>True</td>\n",
       "      <td>True</td>\n",
       "      <td>True</td>\n",
       "      <td>True</td>\n",
       "    </tr>\n",
       "    <tr>\n",
       "      <th>E</th>\n",
       "      <td>True</td>\n",
       "      <td>True</td>\n",
       "      <td>True</td>\n",
       "      <td>True</td>\n",
       "      <td>True</td>\n",
       "    </tr>\n",
       "  </tbody>\n",
       "</table>\n",
       "</div>"
      ],
      "text/plain": [
       "    one   two three  four     E\n",
       "A  True  True  True  True  True\n",
       "B  True  True  True  True  True\n",
       "C  True  True  True  True  True\n",
       "D  True  True  True  True  True\n",
       "E  True  True  True  True  True"
      ]
     },
     "execution_count": 20,
     "metadata": {},
     "output_type": "execute_result"
    }
   ],
   "source": [
    "df3.isnull()"
   ]
  },
  {
   "cell_type": "markdown",
   "metadata": {},
   "source": [
    "## Operations\n",
    "\n",
    "- .mean - *get mean*\n",
    "- .apply - *apply a function to data*\n",
    "- .value_counts - *histogram* **only works on series**\n",
    "- .str.lower - *string methods*\n",
    "- pd.concat - *concatenate, equivalent to np.concatenate()*\n",
    "- .merge - *merges dataframes*"
   ]
  },
  {
   "cell_type": "code",
   "execution_count": 21,
   "metadata": {
    "collapsed": false
   },
   "outputs": [
    {
     "data": {
      "text/html": [
       "<div>\n",
       "<table border=\"1\" class=\"dataframe\">\n",
       "  <thead>\n",
       "    <tr style=\"text-align: right;\">\n",
       "      <th></th>\n",
       "      <th>one</th>\n",
       "      <th>two</th>\n",
       "      <th>three</th>\n",
       "      <th>four</th>\n",
       "    </tr>\n",
       "  </thead>\n",
       "  <tbody>\n",
       "    <tr>\n",
       "      <th>2016-06-24</th>\n",
       "      <td>-2.910848</td>\n",
       "      <td>1.103582</td>\n",
       "      <td>0.206304</td>\n",
       "      <td>-0.436187</td>\n",
       "    </tr>\n",
       "    <tr>\n",
       "      <th>2016-06-25</th>\n",
       "      <td>1.138587</td>\n",
       "      <td>-0.013138</td>\n",
       "      <td>0.478100</td>\n",
       "      <td>2.298781</td>\n",
       "    </tr>\n",
       "    <tr>\n",
       "      <th>2016-06-26</th>\n",
       "      <td>1.121629</td>\n",
       "      <td>-0.055500</td>\n",
       "      <td>-0.506361</td>\n",
       "      <td>0.454096</td>\n",
       "    </tr>\n",
       "    <tr>\n",
       "      <th>2016-06-27</th>\n",
       "      <td>-1.136933</td>\n",
       "      <td>0.125587</td>\n",
       "      <td>-0.740266</td>\n",
       "      <td>0.485956</td>\n",
       "    </tr>\n",
       "    <tr>\n",
       "      <th>2016-06-28</th>\n",
       "      <td>-1.781667</td>\n",
       "      <td>-1.672843</td>\n",
       "      <td>0.832271</td>\n",
       "      <td>-0.368503</td>\n",
       "    </tr>\n",
       "  </tbody>\n",
       "</table>\n",
       "</div>"
      ],
      "text/plain": [
       "                 one       two     three      four\n",
       "2016-06-24 -2.910848  1.103582  0.206304 -0.436187\n",
       "2016-06-25  1.138587 -0.013138  0.478100  2.298781\n",
       "2016-06-26  1.121629 -0.055500 -0.506361  0.454096\n",
       "2016-06-27 -1.136933  0.125587 -0.740266  0.485956\n",
       "2016-06-28 -1.781667 -1.672843  0.832271 -0.368503"
      ]
     },
     "execution_count": 21,
     "metadata": {},
     "output_type": "execute_result"
    }
   ],
   "source": [
    "df"
   ]
  },
  {
   "cell_type": "code",
   "execution_count": 22,
   "metadata": {
    "collapsed": false
   },
   "outputs": [
    {
     "data": {
      "text/plain": [
       "one     -0.713847\n",
       "two     -0.102462\n",
       "three    0.054010\n",
       "four     0.486828\n",
       "dtype: float64"
      ]
     },
     "execution_count": 22,
     "metadata": {},
     "output_type": "execute_result"
    }
   ],
   "source": [
    "df.mean() #default axis=0 (along the row)"
   ]
  },
  {
   "cell_type": "code",
   "execution_count": 23,
   "metadata": {
    "collapsed": false
   },
   "outputs": [
    {
     "data": {
      "text/plain": [
       "2016-06-24   -0.509287\n",
       "2016-06-25    0.975583\n",
       "2016-06-26    0.253466\n",
       "2016-06-27   -0.316414\n",
       "2016-06-28   -0.747686\n",
       "Freq: D, dtype: float64"
      ]
     },
     "execution_count": 23,
     "metadata": {},
     "output_type": "execute_result"
    }
   ],
   "source": [
    "df.mean(1) #axis=1 (along the column)"
   ]
  },
  {
   "cell_type": "code",
   "execution_count": 24,
   "metadata": {
    "collapsed": false
   },
   "outputs": [
    {
     "data": {
      "text/plain": [
       "-1.136933    1\n",
       " 1.138587    1\n",
       "-2.910848    1\n",
       "-1.781667    1\n",
       " 1.121629    1\n",
       "Name: one, dtype: int64"
      ]
     },
     "execution_count": 24,
     "metadata": {},
     "output_type": "execute_result"
    }
   ],
   "source": [
    "df['one'].value_counts()"
   ]
  },
  {
   "cell_type": "code",
   "execution_count": 25,
   "metadata": {
    "collapsed": false
   },
   "outputs": [
    {
     "name": "stdout",
     "output_type": "stream",
     "text": [
      "                 one       two     three      four\n",
      "2016-06-24 -2.910848  1.103582  0.206304 -0.436187\n",
      "2016-06-25  1.138587 -0.013138  0.478100  2.298781\n",
      "2016-06-26  1.121629 -0.055500 -0.506361  0.454096\n",
      "2016-06-27 -1.136933  0.125587 -0.740266  0.485956\n",
      "2016-06-28 -1.781667 -1.672843  0.832271 -0.368503\n",
      "2016-06-24   -2.910848\n",
      "2016-06-25    1.138587\n",
      "2016-06-26    1.121629\n",
      "2016-06-27   -1.136933\n",
      "2016-06-28   -1.781667\n",
      "2016-06-24    1.103582\n",
      "2016-06-25   -0.013138\n",
      "2016-06-26   -0.055500\n",
      "2016-06-27    0.125587\n",
      "2016-06-28   -1.672843\n",
      "2016-06-24    0.206304\n",
      "2016-06-25    0.478100\n",
      "2016-06-26   -0.506361\n",
      "2016-06-27   -0.740266\n",
      "2016-06-28    0.832271\n",
      "2016-06-24   -0.436187\n",
      "2016-06-25    2.298781\n",
      "2016-06-26    0.454096\n",
      "2016-06-27    0.485956\n",
      "2016-06-28   -0.368503\n",
      "dtype: float64\n"
     ]
    }
   ],
   "source": [
    "pieces = [df.one, df.two, df.three, df.four]\n",
    "print pd.concat(pieces, axis=1)\n",
    "print pd.concat(pieces)"
   ]
  },
  {
   "cell_type": "code",
   "execution_count": 28,
   "metadata": {
    "collapsed": false
   },
   "outputs": [
    {
     "name": "stdout",
     "output_type": "stream",
     "text": [
      "  label  lval\n",
      "0    hi     1\n",
      "1   bye     2\n",
      "  label  rval\n",
      "0    hi     3\n",
      "1   bye     4\n"
     ]
    },
    {
     "data": {
      "text/html": [
       "<div>\n",
       "<table border=\"1\" class=\"dataframe\">\n",
       "  <thead>\n",
       "    <tr style=\"text-align: right;\">\n",
       "      <th></th>\n",
       "      <th>label</th>\n",
       "      <th>lval</th>\n",
       "      <th>rval</th>\n",
       "    </tr>\n",
       "  </thead>\n",
       "  <tbody>\n",
       "    <tr>\n",
       "      <th>0</th>\n",
       "      <td>hi</td>\n",
       "      <td>1</td>\n",
       "      <td>3</td>\n",
       "    </tr>\n",
       "    <tr>\n",
       "      <th>1</th>\n",
       "      <td>bye</td>\n",
       "      <td>2</td>\n",
       "      <td>4</td>\n",
       "    </tr>\n",
       "  </tbody>\n",
       "</table>\n",
       "</div>"
      ],
      "text/plain": [
       "  label  lval  rval\n",
       "0    hi     1     3\n",
       "1   bye     2     4"
      ]
     },
     "execution_count": 28,
     "metadata": {},
     "output_type": "execute_result"
    }
   ],
   "source": [
    "left = pd.DataFrame( {'label': ['hi','bye'], 'lval':[1,2]})\n",
    "right = pd.DataFrame( {'label': ['hi','bye'], 'rval':[3,4]})\n",
    "\n",
    "print left\n",
    "print right\n",
    "\n",
    "pd.merge(left,right)"
   ]
  }
 ],
 "metadata": {
  "kernelspec": {
   "display_name": "Python 2",
   "language": "python",
   "name": "python2"
  },
  "language_info": {
   "codemirror_mode": {
    "name": "ipython",
    "version": 2
   },
   "file_extension": ".py",
   "mimetype": "text/x-python",
   "name": "python",
   "nbconvert_exporter": "python",
   "pygments_lexer": "ipython2",
   "version": "2.7.11"
  }
 },
 "nbformat": 4,
 "nbformat_minor": 0
}
