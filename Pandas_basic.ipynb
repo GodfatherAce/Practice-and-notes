{
 "cells": [
  {
   "cell_type": "markdown",
   "metadata": {},
   "source": [
    "# Pandas basic\n",
    "\n",
    "- Pandas uses a data structure called DataFrame to read and store tabular data\n",
    "- a Pandas Series is more powerful than a numpy array because numpy is only limited to integer/float values while a Series can be comprised of different data types  \n",
    "  *(see example data.loc[2] below for series object representation)*"
   ]
  },
  {
   "cell_type": "markdown",
   "metadata": {},
   "source": [
    "## Selecting specific rows/columns"
   ]
  },
  {
   "cell_type": "code",
   "execution_count": 51,
   "metadata": {
    "collapsed": false
   },
   "outputs": [
    {
     "name": "stdout",
     "output_type": "stream",
     "text": [
      "      TV  Radio  Newspaper  Sales\n",
      "1  230.1   37.8       69.2   22.1\n",
      "2   44.5   39.3       45.1   10.4\n",
      "3   17.2   45.9       69.3    9.3\n",
      "4  151.5   41.3       58.5   18.5\n",
      "5  180.8   10.8       58.4   12.9\n",
      "TV           44.5\n",
      "Radio        39.3\n",
      "Newspaper    45.1\n",
      "Sales        10.4\n",
      "Name: 2, dtype: float64\n",
      "        TV  Radio  Newspaper  Sales\n",
      "195  149.7   35.6        6.0   17.3\n",
      "196   38.2    3.7       13.8    7.6\n",
      "197   94.2    4.9        8.1    9.7\n",
      "198  177.0    9.3        6.4   12.8\n",
      "199  283.6   42.0       66.2   25.5\n",
      "200  232.1    8.6        8.7   13.4\n",
      "      TV  Radio\n",
      "1  230.1   37.8\n",
      "2   44.5   39.3\n",
      "3   17.2   45.9\n",
      "4  151.5   41.3\n",
      "5  180.8   10.8\n"
     ]
    }
   ],
   "source": [
    "import pandas as pd\n",
    "import numpy as np\n",
    "# read data from url\n",
    "data = pd.read_csv('http://www-bcf.usc.edu/~gareth/ISL/Advertising.csv', index_col=0)\n",
    "\n",
    "# display the first 5 rows\n",
    "print data.head()\n",
    "\n",
    "# display the 3rd row\n",
    "print data.loc[2]  # .loc() takes slicing notation\n",
    "\n",
    "# display the last 3 rows\n",
    "num_rows = data.shape[0]\n",
    "print data.loc[num_rows-5:num_rows]\n",
    "\n",
    "# display the first 2 columns\n",
    "print data[['TV','Radio']].head(5)"
   ]
  },
  {
   "cell_type": "markdown",
   "metadata": {},
   "source": [
    "## Adding Columns"
   ]
  },
  {
   "cell_type": "code",
   "execution_count": 8,
   "metadata": {
    "collapsed": false
   },
   "outputs": [
    {
     "name": "stdout",
     "output_type": "stream",
     "text": [
      "      TV  Radio  Newspaper  Sales  New Column\n",
      "1  230.1   37.8       69.2   22.1       267.9\n",
      "2   44.5   39.3       45.1   10.4        83.8\n",
      "3   17.2   45.9       69.3    9.3        63.1\n",
      "4  151.5   41.3       58.5   18.5       192.8\n",
      "5  180.8   10.8       58.4   12.9       191.6\n"
     ]
    }
   ],
   "source": [
    "data['New Column'] = data['TV']+data['Radio']\n",
    "print data.head(5)"
   ]
  },
  {
   "cell_type": "markdown",
   "metadata": {},
   "source": [
    "## Sorting columns\n",
    "\n",
    "parameters:\n",
    "- inplace   :whether or not we want to overwrite the same column or create a new column\n",
    "- ascending :sort in ascending/descending order"
   ]
  },
  {
   "cell_type": "code",
   "execution_count": 9,
   "metadata": {
    "collapsed": false
   },
   "outputs": [
    {
     "name": "stdout",
     "output_type": "stream",
     "text": [
      "102    332.7\n",
      "99     332.0\n",
      "184    330.6\n",
      "176    325.8\n",
      "199    325.6\n",
      "Name: New Column, dtype: float64\n"
     ]
    }
   ],
   "source": [
    "data.sort_values(\"New Column\", inplace=True, ascending=False)\n",
    "print data['New Column'].head(5)"
   ]
  },
  {
   "cell_type": "markdown",
   "metadata": {},
   "source": [
    "## Missing values\n",
    "\n",
    "- pd.isnull() returns True/False for missing data"
   ]
  },
  {
   "cell_type": "code",
   "execution_count": 42,
   "metadata": {
    "collapsed": false
   },
   "outputs": [
    {
     "name": "stdout",
     "output_type": "stream",
     "text": [
      "Index([u'name', u'team', u'games', u'category', u'desc.', u'year', u'source'], dtype='object')\n"
     ]
    },
    {
     "data": {
      "text/html": [
       "<div>\n",
       "<table border=\"1\" class=\"dataframe\">\n",
       "  <thead>\n",
       "    <tr style=\"text-align: right;\">\n",
       "      <th></th>\n",
       "      <th>name</th>\n",
       "      <th>team</th>\n",
       "      <th>games</th>\n",
       "      <th>category</th>\n",
       "      <th>desc.</th>\n",
       "      <th>year</th>\n",
       "      <th>source</th>\n",
       "    </tr>\n",
       "  </thead>\n",
       "  <tbody>\n",
       "    <tr>\n",
       "      <th>0</th>\n",
       "      <td>F. Davis</td>\n",
       "      <td>WAS</td>\n",
       "      <td>Indef.</td>\n",
       "      <td>Substance abuse, repeated offense</td>\n",
       "      <td>Marijuana-related</td>\n",
       "      <td>2014</td>\n",
       "      <td>http://www.cbssports.com/nfl/eye-on-football/2...</td>\n",
       "    </tr>\n",
       "    <tr>\n",
       "      <th>1</th>\n",
       "      <td>J. Blackmon</td>\n",
       "      <td>JAX</td>\n",
       "      <td>Indef.</td>\n",
       "      <td>Substance abuse, repeated offense</td>\n",
       "      <td>NaN</td>\n",
       "      <td>2014</td>\n",
       "      <td>http://espn.go.com/nfl/story/_/id/11257934/jus...</td>\n",
       "    </tr>\n",
       "    <tr>\n",
       "      <th>2</th>\n",
       "      <td>L. Brazill</td>\n",
       "      <td>IND</td>\n",
       "      <td>Indef.</td>\n",
       "      <td>Substance abuse, repeated offense</td>\n",
       "      <td>NaN</td>\n",
       "      <td>2014</td>\n",
       "      <td>http://www.nfl.com/news/story/0ap2000000364622...</td>\n",
       "    </tr>\n",
       "    <tr>\n",
       "      <th>3</th>\n",
       "      <td>T. Jackson</td>\n",
       "      <td>WAS</td>\n",
       "      <td>Indef.</td>\n",
       "      <td>Substance abuse, repeated offense</td>\n",
       "      <td>NaN</td>\n",
       "      <td>2014</td>\n",
       "      <td>http://www.nfl.com/news/story/0ap2000000364087...</td>\n",
       "    </tr>\n",
       "    <tr>\n",
       "      <th>4</th>\n",
       "      <td>M. Hapes</td>\n",
       "      <td>NYG</td>\n",
       "      <td>Indef.</td>\n",
       "      <td>Personal conduct</td>\n",
       "      <td>Gambling-related</td>\n",
       "      <td>1946</td>\n",
       "      <td>http://espn.go.com/blog/nflnation/tag/_/name/f...</td>\n",
       "    </tr>\n",
       "    <tr>\n",
       "      <th>5</th>\n",
       "      <td>R. Rice</td>\n",
       "      <td>BAL</td>\n",
       "      <td>Indef.</td>\n",
       "      <td>Personal conduct</td>\n",
       "      <td>Domestic violence</td>\n",
       "      <td>2014</td>\n",
       "      <td>http://espn.go.com/new-york/nfl/story/_/id/114...</td>\n",
       "    </tr>\n",
       "    <tr>\n",
       "      <th>6</th>\n",
       "      <td>F. Filchock</td>\n",
       "      <td>NYG</td>\n",
       "      <td>36</td>\n",
       "      <td>Personal conduct</td>\n",
       "      <td>Gambling-related</td>\n",
       "      <td>1947</td>\n",
       "      <td>http://espn.go.com/blog/nflnation/tag/_/name/f...</td>\n",
       "    </tr>\n",
       "  </tbody>\n",
       "</table>\n",
       "</div>"
      ],
      "text/plain": [
       "          name team   games                           category  \\\n",
       "0     F. Davis  WAS  Indef.  Substance abuse, repeated offense   \n",
       "1  J. Blackmon  JAX  Indef.  Substance abuse, repeated offense   \n",
       "2   L. Brazill  IND  Indef.  Substance abuse, repeated offense   \n",
       "3   T. Jackson  WAS  Indef.  Substance abuse, repeated offense   \n",
       "4     M. Hapes  NYG  Indef.                   Personal conduct   \n",
       "5      R. Rice  BAL  Indef.                   Personal conduct   \n",
       "6  F. Filchock  NYG      36                   Personal conduct   \n",
       "\n",
       "               desc.  year                                             source  \n",
       "0  Marijuana-related  2014  http://www.cbssports.com/nfl/eye-on-football/2...  \n",
       "1                NaN  2014  http://espn.go.com/nfl/story/_/id/11257934/jus...  \n",
       "2                NaN  2014  http://www.nfl.com/news/story/0ap2000000364622...  \n",
       "3                NaN  2014  http://www.nfl.com/news/story/0ap2000000364087...  \n",
       "4   Gambling-related  1946  http://espn.go.com/blog/nflnation/tag/_/name/f...  \n",
       "5  Domestic violence  2014  http://espn.go.com/new-york/nfl/story/_/id/114...  \n",
       "6   Gambling-related  1947  http://espn.go.com/blog/nflnation/tag/_/name/f...  "
      ]
     },
     "execution_count": 42,
     "metadata": {},
     "output_type": "execute_result"
    }
   ],
   "source": [
    "# data set with missing values\n",
    "nfl_data = pd.read_csv('nfl-suspensions-data.csv')\n",
    "print nfl_data.columns\n",
    "nfl_data.head(7)"
   ]
  },
  {
   "cell_type": "code",
   "execution_count": 47,
   "metadata": {
    "collapsed": false
   },
   "outputs": [
    {
     "name": "stdout",
     "output_type": "stream",
     "text": [
      "0    False\n",
      "1     True\n",
      "2     True\n",
      "3     True\n",
      "4    False\n",
      "5    False\n",
      "6    False\n",
      "Name: desc., dtype: bool\n",
      "1    J. Blackmon\n",
      "2     L. Brazill\n",
      "3     T. Jackson\n",
      "Name: name, dtype: object\n",
      "Int64Index([1, 2, 3], dtype='int64')\n"
     ]
    }
   ],
   "source": [
    "# find which rows in 'desc' column is missing\n",
    "missing = pd.isnull(nfl_data['desc.'])\n",
    "print missing.head(7)\n",
    "\n",
    "# display the names for which the 'desc.' column is misisng\n",
    "print nfl_data['name'][missing == True].head(3)\n",
    "# print the index for the corresponding rows\n",
    "print nfl_data['name'][missing == True].head(3).index"
   ]
  },
  {
   "cell_type": "markdown",
   "metadata": {},
   "source": [
    "### Replacing missing values in a vector"
   ]
  },
  {
   "cell_type": "code",
   "execution_count": 34,
   "metadata": {
    "collapsed": false
   },
   "outputs": [
    {
     "name": "stdout",
     "output_type": "stream",
     "text": [
      "            team   games                           category  \\\n",
      "name                                                          \n",
      "F. Davis     WAS  Indef.  Substance abuse, repeated offense   \n",
      "J. Blackmon  JAX  Indef.  Substance abuse, repeated offense   \n",
      "L. Brazill   IND  Indef.  Substance abuse, repeated offense   \n",
      "T. Jackson   WAS  Indef.  Substance abuse, repeated offense   \n",
      "M. Hapes     NYG  Indef.                   Personal conduct   \n",
      "R. Rice      BAL  Indef.                   Personal conduct   \n",
      "F. Filchock  NYG      36                   Personal conduct   \n",
      "\n",
      "                         desc.  year  \\\n",
      "name                                   \n",
      "F. Davis     Marijuana-related  2014   \n",
      "J. Blackmon                N/A  2014   \n",
      "L. Brazill                 N/A  2014   \n",
      "T. Jackson                 N/A  2014   \n",
      "M. Hapes      Gambling-related  1946   \n",
      "R. Rice      Domestic violence  2014   \n",
      "F. Filchock   Gambling-related  1947   \n",
      "\n",
      "                                                        source  \n",
      "name                                                            \n",
      "F. Davis     http://www.cbssports.com/nfl/eye-on-football/2...  \n",
      "J. Blackmon  http://espn.go.com/nfl/story/_/id/11257934/jus...  \n",
      "L. Brazill   http://www.nfl.com/news/story/0ap2000000364622...  \n",
      "T. Jackson   http://www.nfl.com/news/story/0ap2000000364087...  \n",
      "M. Hapes     http://espn.go.com/blog/nflnation/tag/_/name/f...  \n",
      "R. Rice      http://espn.go.com/new-york/nfl/story/_/id/114...  \n",
      "F. Filchock  http://espn.go.com/blog/nflnation/tag/_/name/f...  \n"
     ]
    }
   ],
   "source": [
    "nfl_data['desc.'][missing == True] = 'N/A'\n",
    "print nfl_data.head(7)"
   ]
  },
  {
   "cell_type": "markdown",
   "metadata": {},
   "source": [
    "### Replacing missing values in a matrix\n",
    "   \n",
    "- **.iloc** takes in matrix indices and returns the **position** of the argument\n",
    "- **.loc** takes in matrix indeces and returns the row corresponding to the argument (index)  \n",
    "**adding a second argument specifics column**"
   ]
  },
  {
   "cell_type": "code",
   "execution_count": 66,
   "metadata": {
    "collapsed": false
   },
   "outputs": [
    {
     "name": "stdout",
     "output_type": "stream",
     "text": [
      "      TV  Radio  Newspaper  Sales\n",
      "1  230.1   37.8       69.2   22.1\n",
      "2   44.5   39.3       45.1   10.4\n",
      "3   17.2   45.9       69.3    9.3\n",
      "4  151.5   41.3       58.5   18.5\n",
      "5  180.8   10.8       58.4   12.9\n",
      "TV           17.2\n",
      "Radio        45.9\n",
      "Newspaper    69.3\n",
      "Sales         9.3\n",
      "Name: 3, dtype: float64\n",
      "TV           17.2\n",
      "Radio        45.9\n",
      "Newspaper    69.3\n",
      "Sales         9.3\n",
      "Name: 3, dtype: float64\n"
     ]
    }
   ],
   "source": [
    "print data.head(5)\n",
    "print data.iloc[2] #this prints the row with python position 2 (index==3) because python numbering starts from 0\n",
    "print data.loc[3]  #this prints the same as above, because .loc refers to the index, not the position"
   ]
  },
  {
   "cell_type": "markdown",
   "metadata": {},
   "source": [
    "### .reset_index( )  must be called to re-index rows after rows are dropped\n",
    "- .dropna drops all rows that have missing values across **all** the columns\n",
    "- .dropna(subset = list of columns) drops rows that have missing values in the **subset** of columns **(1 or more)**\n",
    "   "
   ]
  },
  {
   "cell_type": "code",
   "execution_count": 73,
   "metadata": {
    "collapsed": false
   },
   "outputs": [
    {
     "name": "stdout",
     "output_type": "stream",
     "text": [
      "       name team   games                           category  \\\n",
      "0  F. Davis  WAS  Indef.  Substance abuse, repeated offense   \n",
      "4  M. Hapes  NYG  Indef.                   Personal conduct   \n",
      "5   R. Rice  BAL  Indef.                   Personal conduct   \n",
      "\n",
      "               desc.  year                                             source  \n",
      "0  Marijuana-related  2014  http://www.cbssports.com/nfl/eye-on-football/2...  \n",
      "4   Gambling-related  1946  http://espn.go.com/blog/nflnation/tag/_/name/f...  \n",
      "5  Domestic violence  2014  http://espn.go.com/new-york/nfl/story/_/id/114...  \n",
      "   index      name team   games                           category  \\\n",
      "0      0  F. Davis  WAS  Indef.  Substance abuse, repeated offense   \n",
      "1      4  M. Hapes  NYG  Indef.                   Personal conduct   \n",
      "2      5   R. Rice  BAL  Indef.                   Personal conduct   \n",
      "\n",
      "               desc.  year                                             source  \n",
      "0  Marijuana-related  2014  http://www.cbssports.com/nfl/eye-on-football/2...  \n",
      "1   Gambling-related  1946  http://espn.go.com/blog/nflnation/tag/_/name/f...  \n",
      "2  Domestic violence  2014  http://espn.go.com/new-york/nfl/story/_/id/114...  \n"
     ]
    }
   ],
   "source": [
    "nfl_dropped = nfl_data.dropna(subset=['desc.'])\n",
    "print nfl_dropped.head(3)\n",
    "\n",
    "print nfl_dropped.reset_index().head(3)"
   ]
  },
  {
   "cell_type": "markdown",
   "metadata": {},
   "source": [
    "## Pivoting\n",
    "\n",
    "- .pivot_table(index, values, aggfunc)"
   ]
  },
  {
   "cell_type": "code",
   "execution_count": 53,
   "metadata": {
    "collapsed": false
   },
   "outputs": [
    {
     "name": "stdout",
     "output_type": "stream",
     "text": [
      "Index([u'PassengerId', u'Survived', u'Pclass', u'Name', u'Sex', u'Age',\n",
      "       u'SibSp', u'Parch', u'Ticket', u'Fare', u'Cabin', u'Embarked'],\n",
      "      dtype='object')\n"
     ]
    }
   ],
   "source": [
    "titanic_survival = pd.read_csv('titanic_train.csv')\n",
    "print titanic_survival.columns"
   ]
  },
  {
   "cell_type": "code",
   "execution_count": 58,
   "metadata": {
    "collapsed": false
   },
   "outputs": [
    {
     "name": "stdout",
     "output_type": "stream",
     "text": [
      "Pclass\n",
      "1    0.629630\n",
      "2    0.472826\n",
      "3    0.242363\n",
      "Name: Survived, dtype: float64\n",
      "Pclass\n",
      "1    38.233441\n",
      "2    29.877630\n",
      "3    25.140620\n",
      "Name: Age, dtype: float64\n",
      "              Age  Survived\n",
      "Pclass                     \n",
      "1       38.233441  0.629630\n",
      "2       29.877630  0.472826\n",
      "3       25.140620  0.242363\n"
     ]
    }
   ],
   "source": [
    "# The \"survived\" column contains a 1 if the passenger survived, and a 0 if not\n",
    "# The pivot_table method on a pandas dataframe will let us do this\n",
    "# index specifies which column to subset data based on (in this case, we want to compute the survival percentage for each class)\n",
    "# values specifies which column to subset based on the index\n",
    "# The aggfunc specifies what to do with the subsets\n",
    "# In this case, we split survived into 3 vectors, one for each passenger class, and take the mean of each\n",
    "passenger_survival = titanic_survival.pivot_table(index=\"Pclass\", values=\"Survived\", aggfunc=np.mean)\n",
    "\n",
    "# First class passengers had a much higher survival chance\n",
    "print(passenger_survival)\n",
    "# Determine their age by class\n",
    "passenger_age = titanic_survival.pivot_table(index='Pclass', values='Age', aggfunc=np.mean)\n",
    "print passenger_age\n",
    "\n",
    "# Combine the above two\n",
    "passenger_survival = titanic_survival.pivot_table(index=\"Pclass\", values=[\"Age\", \"Survived\"], aggfunc=np.mean)\n",
    "print(passenger_survival)"
   ]
  },
  {
   "cell_type": "markdown",
   "metadata": {},
   "source": [
    "## Performing a function - Apply\n",
    "\n",
    "- .apply(function, axis=0/1)  (for column/row)  \n",
    "*Applies a function across ALL columns and rows*  "
   ]
  },
  {
   "cell_type": "code",
   "execution_count": 75,
   "metadata": {
    "collapsed": false
   },
   "outputs": [
    {
     "name": "stdout",
     "output_type": "stream",
     "text": [
      "name          0\n",
      "team          0\n",
      "games         0\n",
      "category      0\n",
      "desc.       178\n",
      "year          0\n",
      "source        0\n",
      "dtype: int64\n"
     ]
    }
   ],
   "source": [
    "# This is a function that counts the number of Null values in a column\n",
    "def null_count(column):\n",
    "    # Make a vector that contains True if null, False if not.\n",
    "    column_null = pd.isnull(column)\n",
    "    # Create a new vector with only values where the series is null.\n",
    "    null = column[column_null == True]\n",
    "    # Return the count of null values.\n",
    "    return len(null)\n",
    "\n",
    "# count how many null values are in the data set\n",
    "print nfl_data.apply(null_count)"
   ]
  },
  {
   "cell_type": "code",
   "execution_count": 87,
   "metadata": {
    "collapsed": false
   },
   "outputs": [
    {
     "name": "stdout",
     "output_type": "stream",
     "text": [
      "4      adult\n",
      "5    unknown\n",
      "6      adult\n",
      "7      minor\n",
      "8      adult\n",
      "dtype: object\n"
     ]
    }
   ],
   "source": [
    "# This is a function that counts the number of minors across rows labeled 'age'\n",
    "def minor(row):\n",
    "    if row['Age']<18:\n",
    "        return 'minor'\n",
    "    elif pd.isnull(row['Age']):\n",
    "        return 'unknown'\n",
    "    else:\n",
    "        return 'adult'\n",
    "        \n",
    "age_labels = titanic_survival.apply(minor, axis=1)\n",
    "print age_labels.iloc[4:9]"
   ]
  },
  {
   "cell_type": "markdown",
   "metadata": {},
   "source": [
    "## Combining pivoting and apply techniques"
   ]
  },
  {
   "cell_type": "code",
   "execution_count": 88,
   "metadata": {
    "collapsed": false
   },
   "outputs": [
    {
     "name": "stdout",
     "output_type": "stream",
     "text": [
      "age_labels\n",
      "adult      0.381032\n",
      "minor      0.539823\n",
      "unknown    0.293785\n",
      "Name: Survived, dtype: float64\n"
     ]
    }
   ],
   "source": [
    "age_labels = titanic_survival.apply(minor, axis=1)\n",
    "titanic_survival['age_labels']=age_labels\n",
    "\n",
    "age_group_survival=titanic_survival.pivot_table(index='age_labels', values='Survived', aggfunc=np.mean)\n",
    "print age_group_survival"
   ]
  },
  {
   "cell_type": "markdown",
   "metadata": {},
   "source": [
    "## Vaule_counts\n",
    "Returns object containing counts of unique values"
   ]
  },
  {
   "cell_type": "code",
   "execution_count": 102,
   "metadata": {
    "collapsed": false
   },
   "outputs": [
    {
     "name": "stdout",
     "output_type": "stream",
     "text": [
      "Index([u'adult', u'unknown', u'minor'], dtype='object')\n",
      " \n",
      "[601 177 113]\n",
      " \n",
      "adult      601\n",
      "unknown    177\n",
      "minor      113\n",
      "Name: age_labels, dtype: int64\n"
     ]
    }
   ],
   "source": [
    "print titanic_survival['age_labels'].value_counts().index\n",
    "print ' '\n",
    "print titanic_survival['age_labels'].value_counts().values\n",
    "print ' '\n",
    "print titanic_survival['age_labels'].value_counts()"
   ]
  }
 ],
 "metadata": {
  "kernelspec": {
   "display_name": "Python 2",
   "language": "python",
   "name": "python2"
  },
  "language_info": {
   "codemirror_mode": {
    "name": "ipython",
    "version": 2
   },
   "file_extension": ".py",
   "mimetype": "text/x-python",
   "name": "python",
   "nbconvert_exporter": "python",
   "pygments_lexer": "ipython2",
   "version": "2.7.11"
  }
 },
 "nbformat": 4,
 "nbformat_minor": 0
}
