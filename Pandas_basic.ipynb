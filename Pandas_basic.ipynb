{
 "cells": [
  {
   "cell_type": "markdown",
   "metadata": {},
   "source": [
    "# Pandas basic\n",
    "\n",
    "- Pandas uses a data structure called DataFrame to read and store tabular data\n",
    "- a Pandas Series is more powerful than a numpy array because numpy is only limited to integer/float values while a Series can be comprised of different data types  \n",
    "  *(see example data.loc[2] below for series object representation)*"
   ]
  },
  {
   "cell_type": "markdown",
   "metadata": {},
   "source": [
    "## Selecting specific rows/columns"
   ]
  },
  {
   "cell_type": "code",
   "execution_count": 11,
   "metadata": {
    "collapsed": false
   },
   "outputs": [
    {
     "name": "stdout",
     "output_type": "stream",
     "text": [
      "      TV  Radio  Newspaper  Sales\n",
      "1  230.1   37.8       69.2   22.1\n",
      "2   44.5   39.3       45.1   10.4\n",
      "3   17.2   45.9       69.3    9.3\n",
      "4  151.5   41.3       58.5   18.5\n",
      "5  180.8   10.8       58.4   12.9\n",
      "TV           44.5\n",
      "Radio        39.3\n",
      "Newspaper    45.1\n",
      "Sales        10.4\n",
      "Name: 2, dtype: float64\n",
      "        TV  Radio  Newspaper  Sales\n",
      "195  149.7   35.6        6.0   17.3\n",
      "196   38.2    3.7       13.8    7.6\n",
      "197   94.2    4.9        8.1    9.7\n",
      "198  177.0    9.3        6.4   12.8\n",
      "199  283.6   42.0       66.2   25.5\n",
      "200  232.1    8.6        8.7   13.4\n",
      "      TV  Radio\n",
      "1  230.1   37.8\n",
      "2   44.5   39.3\n",
      "3   17.2   45.9\n",
      "4  151.5   41.3\n",
      "5  180.8   10.8\n"
     ]
    }
   ],
   "source": [
    "import pandas as pd\n",
    "# read data from url\n",
    "data = pd.read_csv('http://www-bcf.usc.edu/~gareth/ISL/Advertising.csv', index_col=0)\n",
    "\n",
    "# display the first 5 rows\n",
    "print data.head()\n",
    "\n",
    "# display the 3rd row\n",
    "print data.loc[2]  # .loc() takes slicing notation\n",
    "\n",
    "# display the last 3 rows\n",
    "num_rows = data.shape[0]\n",
    "print data.loc[num_rows-5:num_rows]\n",
    "\n",
    "# display the first 2 columns\n",
    "print data[['TV','Radio']].head(5)"
   ]
  },
  {
   "cell_type": "markdown",
   "metadata": {},
   "source": [
    "## Adding Columns"
   ]
  },
  {
   "cell_type": "code",
   "execution_count": 13,
   "metadata": {
    "collapsed": false
   },
   "outputs": [
    {
     "name": "stdout",
     "output_type": "stream",
     "text": [
      "      TV  Radio  Newspaper  Sales  New Column\n",
      "1  230.1   37.8       69.2   22.1       267.9\n",
      "2   44.5   39.3       45.1   10.4        83.8\n",
      "3   17.2   45.9       69.3    9.3        63.1\n",
      "4  151.5   41.3       58.5   18.5       192.8\n",
      "5  180.8   10.8       58.4   12.9       191.6\n"
     ]
    }
   ],
   "source": [
    "data['New Column'] = data['TV']+data['Radio']\n",
    "print data.head(5)"
   ]
  }
 ],
 "metadata": {
  "kernelspec": {
   "display_name": "Python 2",
   "language": "python",
   "name": "python2"
  },
  "language_info": {
   "codemirror_mode": {
    "name": "ipython",
    "version": 2
   },
   "file_extension": ".py",
   "mimetype": "text/x-python",
   "name": "python",
   "nbconvert_exporter": "python",
   "pygments_lexer": "ipython2",
   "version": "2.7.11"
  }
 },
 "nbformat": 4,
 "nbformat_minor": 0
}
