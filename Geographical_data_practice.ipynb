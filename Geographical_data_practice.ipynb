{
 "cells": [
  {
   "cell_type": "markdown",
   "metadata": {},
   "source": [
    "# Visualizing Geographical Data\n",
    "Using airline data from http://openflights.org/data.html"
   ]
  },
  {
   "cell_type": "code",
   "execution_count": 1,
   "metadata": {
    "collapsed": true
   },
   "outputs": [],
   "source": [
    "import pandas as pd"
   ]
  },
  {
   "cell_type": "code",
   "execution_count": 21,
   "metadata": {
    "collapsed": false
   },
   "outputs": [
    {
     "name": "stdout",
     "output_type": "stream",
     "text": [
      "Index([u'id', u'name', u'city', u'country', u'code', u'icao', u'latitude',\n",
      "       u'longitude', u'altitude', u'offset', u'dst', u'timezone'],\n",
      "      dtype='object')\n",
      "   id                        name          city           country code  icao  \\\n",
      "0   1                      Goroka        Goroka  Papua New Guinea  GKA  AYGA   \n",
      "1   2                      Madang        Madang  Papua New Guinea  MAG  AYMD   \n",
      "2   3                 Mount Hagen   Mount Hagen  Papua New Guinea  HGU  AYMH   \n",
      "3   4                      Nadzab        Nadzab  Papua New Guinea  LAE  AYNZ   \n",
      "4   5  Port Moresby Jacksons Intl  Port Moresby  Papua New Guinea  POM  AYPY   \n",
      "\n",
      "   latitude   longitude  altitude  offset dst              timezone  \n",
      "0 -6.081689  145.391881      5282    10.0   U  Pacific/Port_Moresby  \n",
      "1 -5.207083  145.788700        20    10.0   U  Pacific/Port_Moresby  \n",
      "2 -5.826789  144.295861      5388    10.0   U  Pacific/Port_Moresby  \n",
      "3 -6.569828  146.726242       239    10.0   U  Pacific/Port_Moresby  \n",
      "4 -9.443383  147.220050       146    10.0   U  Pacific/Port_Moresby  \n"
     ]
    }
   ],
   "source": [
    "# airports.dat file does not have headers so add custom header\n",
    "columns=['id','name','city','country','code','icao','latitude','longitude','altitude','offset','dst','timezone']\n",
    "airports = pd.read_csv('airports.dat', names=columns)\n",
    "print airports.columns\n",
    "print airports.head(5)"
   ]
  },
  {
   "cell_type": "code",
   "execution_count": 20,
   "metadata": {
    "collapsed": false
   },
   "outputs": [
    {
     "name": "stdout",
     "output_type": "stream",
     "text": [
      "   id                                          name alias iata icao callsign  \\\n",
      "0   1                                Private flight    \\N    -  NaN      NaN   \n",
      "1   2                                   135 Airways    \\N  NaN  GNL  GENERAL   \n",
      "2   3                                 1Time Airline    \\N   1T  RNX  NEXTIME   \n",
      "3   4  2 Sqn No 1 Elementary Flying Training School    \\N  NaN  WYT      NaN   \n",
      "4   5                               213 Flight Unit    \\N  NaN  TFU      NaN   \n",
      "\n",
      "          country active  \n",
      "0             NaN      Y  \n",
      "1   United States      N  \n",
      "2    South Africa      Y  \n",
      "3  United Kingdom      N  \n",
      "4          Russia      N  \n"
     ]
    }
   ],
   "source": [
    "# same for airlines.dat\n",
    "columns=['id', 'name', 'alias', 'iata', 'icao', 'callsign', 'country', 'active']\n",
    "airlines = pd.read_csv('airlines.dat', names=columns)\n",
    "print airlines.head(5)"
   ]
  },
  {
   "cell_type": "code",
   "execution_count": 23,
   "metadata": {
    "collapsed": false
   },
   "outputs": [
    {
     "name": "stdout",
     "output_type": "stream",
     "text": [
      "  airline airline_id source source_id dest dest_id codeshare  stops equipment\n",
      "0      2B        410    AER      2965  KZN    2990       NaN      0       CR2\n",
      "1      2B        410    ASF      2966  KZN    2990       NaN      0       CR2\n",
      "2      2B        410    ASF      2966  MRV    2962       NaN      0       CR2\n",
      "3      2B        410    CEK      2968  KZN    2990       NaN      0       CR2\n",
      "4      2B        410    CEK      2968  OVB    4078       NaN      0       CR2\n"
     ]
    }
   ],
   "source": [
    "columns=['airline', 'airline_id', 'source', 'source_id', 'dest', 'dest_id', 'codeshare', 'stops', 'equipment']\n",
    "routes = pd.read_csv('routes.dat', names=columns)\n",
    "print routes.head(5)"
   ]
  },
  {
   "cell_type": "markdown",
   "metadata": {},
   "source": [
    "## Coordinate system\n",
    "\n",
    "Latitude values :  \n",
    "    - describe the North-South position  \n",
    "    - degrees as the unit  \n",
    "    - ranges from -90 to 90 degrees  \n",
    "\n",
    "Longitude values :\n",
    "    - describe the East-West position\n",
    "    - degrees as the unit\n",
    "    - ranges from -180 to 180 degrees"
   ]
  },
  {
   "cell_type": "markdown",
   "metadata": {},
   "source": [
    "**Toolkit Basemap converts the spherical coordinates onto a 2d x,y cartesian system**"
   ]
  },
  {
   "cell_type": "code",
   "execution_count": 29,
   "metadata": {
    "collapsed": false
   },
   "outputs": [],
   "source": [
    "from mpl_toolkits.basemap import Basemap\n",
    "import matplotlib.pyplot as plt\n",
    "%matplotlib inline"
   ]
  },
  {
   "cell_type": "markdown",
   "metadata": {},
   "source": [
    "Basemap class takes these arguments:\n",
    "- projection : map projection type\n",
    "- llcrnrlat : 'lower left corner' latitude limit (degrees)\n",
    "- urcrnrlat : 'upper right corner'latitude limit\n",
    "- llcrnrlon : 'llcrnr' longitude limit\n",
    "- urcrnrlon : 'urcrnr' longitude limit"
   ]
  },
  {
   "cell_type": "code",
   "execution_count": 33,
   "metadata": {
    "collapsed": false
   },
   "outputs": [
    {
     "name": "stdout",
     "output_type": "stream",
     "text": [
      "[145.39188100000001, 145.78870000000001, 144.295861, 146.72624199999998, 147.22004999999999]\n",
      "[-6.0816889999999999, -5.2070829999999999, -5.8267889999999998, -6.5698280000000002, -9.4433830000000007]\n",
      "[36181909.301050939, 36226033.539869711, 36060037.494937442, 36330283.404696316, 36385192.323177092]\n",
      "[14843790.192364652, 14941516.685597016, 14872287.53105044, 14789178.970192088, 14466473.840393927]\n"
     ]
    }
   ],
   "source": [
    "# crease a basemap instance\n",
    "m=Basemap(projection='merc',llcrnrlat=-80,urcrnrlat=80,llcrnrlon=-180,urcrnrlon=180)\n",
    "\n",
    "longitudes = airports[\"longitude\"].tolist()\n",
    "latitudes = airports[\"latitude\"].tolist()\n",
    "\n",
    "# Convert latitude and longitude to x and y coordinates using the basemap instance\n",
    "x, y = m(longitudes, latitudes)\n",
    "\n",
    "# Display original longitude values\n",
    "print(longitudes[0:5])\n",
    "# Display original latitude values\n",
    "print(latitudes[0:5])\n",
    "# Display x-axis coordinates\n",
    "print(x[0:5])\n",
    "# Display y-axis coordinates\n",
    "print(y[0:5])"
   ]
  },
  {
   "cell_type": "markdown",
   "metadata": {},
   "source": [
    "## Visualizing data"
   ]
  },
  {
   "cell_type": "code",
   "execution_count": 34,
   "metadata": {
    "collapsed": false
   },
   "outputs": [
    {
     "data": {
      "image/png": "[encoded data removed]",
      "text/plain": [
       "<matplotlib.figure.Figure at 0x1172ebdd0>"
      ]
     },
     "metadata": {},
     "output_type": "display_data"
    }
   ],
   "source": [
    "m = Basemap(projection='merc', llcrnrlat=-80, urcrnrlat=80, llcrnrlon=-180, urcrnrlon=180)\n",
    "x, y = m(longitudes, latitudes)\n",
    "m.scatter(x,y, s=1)\n",
    "plt.show()"
   ]
  }
 ],
 "metadata": {
  "kernelspec": {
   "display_name": "Python 2",
   "language": "python",
   "name": "python2"
  },
  "language_info": {
   "codemirror_mode": {
    "name": "ipython",
    "version": 2
   },
   "file_extension": ".py",
   "mimetype": "text/x-python",
   "name": "python",
   "nbconvert_exporter": "python",
   "pygments_lexer": "ipython2",
   "version": "2.7.11"
  }
 },
 "nbformat": 4,
 "nbformat_minor": 0
}
