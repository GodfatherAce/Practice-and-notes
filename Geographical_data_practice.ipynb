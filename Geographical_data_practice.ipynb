{
 "cells": [
  {
   "cell_type": "markdown",
   "metadata": {},
   "source": [
    "# Visualizing Geographical Data\n",
    "Using airline data from http://openflights.org/data.html"
   ]
  },
  {
   "cell_type": "code",
   "execution_count": 1,
   "metadata": {
    "collapsed": true
   },
   "outputs": [],
   "source": [
    "import pandas as pd"
   ]
  },
  {
   "cell_type": "code",
   "execution_count": 14,
   "metadata": {
    "collapsed": false
   },
   "outputs": [
    {
     "name": "stdout",
     "output_type": "stream",
     "text": [
      "Index([u'id', u'name', u'city', u'country', u'code', u'icao', u'latitude',\n",
      "       u'longitude', u'altitude', u'offset', u'dst', u'timezone'],\n",
      "      dtype='object')\n",
      "   id                        name          city           country code  icao  \\\n",
      "0   1                      Goroka        Goroka  Papua New Guinea  GKA  AYGA   \n",
      "1   2                      Madang        Madang  Papua New Guinea  MAG  AYMD   \n",
      "2   3                 Mount Hagen   Mount Hagen  Papua New Guinea  HGU  AYMH   \n",
      "3   4                      Nadzab        Nadzab  Papua New Guinea  LAE  AYNZ   \n",
      "4   5  Port Moresby Jacksons Intl  Port Moresby  Papua New Guinea  POM  AYPY   \n",
      "\n",
      "   latitude   longitude  altitude  offset dst              timezone  \n",
      "0 -6.081689  145.391881      5282    10.0   U  Pacific/Port_Moresby  \n",
      "1 -5.207083  145.788700        20    10.0   U  Pacific/Port_Moresby  \n",
      "2 -5.826789  144.295861      5388    10.0   U  Pacific/Port_Moresby  \n",
      "3 -6.569828  146.726242       239    10.0   U  Pacific/Port_Moresby  \n",
      "4 -9.443383  147.220050       146    10.0   U  Pacific/Port_Moresby  \n"
     ]
    }
   ],
   "source": [
    "columns=['id','name','city','country','code','icao','latitude','longitude','altitude','offset','dst','timezone']\n",
    "airports = pd.read_csv('airports.dat', names=columns)\n",
    "print airports.columns\n",
    "print airports.head(5)"
   ]
  }
 ],
 "metadata": {
  "kernelspec": {
   "display_name": "Python 2",
   "language": "python",
   "name": "python2"
  },
  "language_info": {
   "codemirror_mode": {
    "name": "ipython",
    "version": 2
   },
   "file_extension": ".py",
   "mimetype": "text/x-python",
   "name": "python",
   "nbconvert_exporter": "python",
   "pygments_lexer": "ipython2",
   "version": "2.7.11"
  }
 },
 "nbformat": 4,
 "nbformat_minor": 0
}
