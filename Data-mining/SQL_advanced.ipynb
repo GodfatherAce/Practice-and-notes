{
 "cells": [
  {
   "cell_type": "markdown",
   "metadata": {},
   "source": [
    "# Advanced SQL"
   ]
  },
  {
   "cell_type": "code",
   "execution_count": 2,
   "metadata": {
    "collapsed": false
   },
   "outputs": [
    {
     "name": "stdout",
     "output_type": "stream",
     "text": [
      "(0, u'id', u'INTEGER', 1, None, 1)\n",
      "(1, u'code', u'varchar(255)', 1, None, 0)\n",
      "(2, u'name', u'varchar(255)', 1, None, 0)\n",
      "(3, u'area', u'integer', 0, None, 0)\n",
      "(4, u'area_land', u'integer', 0, None, 0)\n",
      "(5, u'area_water', u'integer', 0, None, 0)\n",
      "(6, u'population', u'integer', 0, None, 0)\n",
      "(7, u'population_growth', u'float', 0, None, 0)\n",
      "(8, u'birth_rate', u'float', 0, None, 0)\n",
      "(9, u'death_rate', u'float', 0, None, 0)\n",
      "(10, u'migration_rate', u'float', 0, None, 0)\n",
      "(11, u'created_at', u'datetime', 0, None, 0)\n",
      "(12, u'updated_at', u'datetime', 0, None, 0)\n"
     ]
    }
   ],
   "source": [
    "import sqlite3\n",
    "conn = sqlite3.connect('factbook.db')\n",
    "schema = conn.execute('pragma table_info(facts)').fetchall()\n",
    "for items in schema:\n",
    "    print items"
   ]
  },
  {
   "cell_type": "markdown",
   "metadata": {},
   "source": [
    "# Query plan\n",
    "\n",
    "Explore the high level query plan that would be performed\n",
    "- scan table <> : scan the entire table"
   ]
  },
  {
   "cell_type": "code",
   "execution_count": 3,
   "metadata": {
    "collapsed": false
   },
   "outputs": [
    {
     "name": "stdout",
     "output_type": "stream",
     "text": [
      "[(0, 0, 0, u'SCAN TABLE facts')]\n",
      "[(0, 0, 0, u'SCAN TABLE facts')]\n",
      "[(0, 0, 0, u'SCAN TABLE facts')]\n"
     ]
    }
   ],
   "source": [
    "conn = sqlite3.connect(\"factbook.db\")\n",
    "query_plan_one = conn.execute('explain query plan select * from facts where area > 40000').fetchall()\n",
    "query_plan_two = conn.execute('explain query plan select area from facts where area > 40000').fetchall()\n",
    "query_plan_three = conn.execute('explain query plan select * from facts where name = \"Czech Republic\"').fetchall()\n",
    "\n",
    "print(query_plan_one)\n",
    "print(query_plan_two)\n",
    "print(query_plan_three)"
   ]
  },
  {
   "cell_type": "markdown",
   "metadata": {},
   "source": [
    "The above three queries rae the same -- they all scan the entire table.\n",
    "\n",
    "This is because we set the id column as the primary key and SQLite uses this column to order the records in the database file. \n",
    "\n",
    "Unless we specify the id key, SQLite does not know how to search for a specific row."
   ]
  },
  {
   "cell_type": "markdown",
   "metadata": {},
   "source": [
    "## Searching with specific index\n",
    "\n",
    "- order logN vs order N"
   ]
  },
  {
   "cell_type": "code",
   "execution_count": 4,
   "metadata": {
    "collapsed": false
   },
   "outputs": [
    {
     "name": "stdout",
     "output_type": "stream",
     "text": [
      "[(0, 0, 0, u'SEARCH TABLE facts USING INTEGER PRIMARY KEY (rowid=?)')]\n"
     ]
    }
   ],
   "source": [
    "# where id = # allows Order(logN) binary search\n",
    "query_plan_four=conn.execute('explain query plan select * from facts where id=20').fetchall()\n",
    "print(query_plan_four)"
   ]
  },
  {
   "cell_type": "markdown",
   "metadata": {},
   "source": [
    "# Indexing\n",
    "Creating a separate table that's optimized for lookups by a different column instead of by the id.\n",
    "![index](indexing.png)\n",
    "\n",
    "**Pros:** \n",
    "- Can speed up db querying process from order N to order logN\n",
    "\n",
    "**Cons:**\n",
    "- Need memory/space to create table\n",
    "- Need to manually update/insert/delete new index table since it was created as a post-process"
   ]
  },
  {
   "cell_type": "markdown",
   "metadata": {},
   "source": [
    "## Creating an index\n",
    "CREATE INDEX IF NOT EXISTS index_name ON table_name(column_name);\n"
   ]
  },
  {
   "cell_type": "code",
   "execution_count": 5,
   "metadata": {
    "collapsed": false
   },
   "outputs": [
    {
     "name": "stdout",
     "output_type": "stream",
     "text": [
      "[(0, 0, 0, u'SCAN TABLE facts')]\n",
      "[(0, 0, 0, u'SEARCH TABLE facts USING INDEX pop_idx (population>?)')]\n"
     ]
    }
   ],
   "source": [
    "# Query using non-primary key column\n",
    "query_plan_six = conn.execute('explain query plan select * from facts where population > 10000').fetchall()\n",
    "print(query_plan_six)\n",
    "\n",
    "# Create index and query based on index\n",
    "conn.execute('CREATE INDEX pop_idx ON facts(population)')\n",
    "query_plan_seven = conn.execute('explain query plan select * from facts where population > 10000').fetchall()\n",
    "print(query_plan_seven)"
   ]
  },
  {
   "cell_type": "code",
   "execution_count": 6,
   "metadata": {
    "collapsed": false
   },
   "outputs": [
    {
     "name": "stdout",
     "output_type": "stream",
     "text": [
      "(0, u'id', u'INTEGER', 1, None, 1)\n",
      "(1, u'code', u'varchar(255)', 1, None, 0)\n",
      "(2, u'name', u'varchar(255)', 1, None, 0)\n",
      "(3, u'area', u'integer', 0, None, 0)\n",
      "(4, u'area_land', u'integer', 0, None, 0)\n",
      "(5, u'area_water', u'integer', 0, None, 0)\n",
      "(6, u'population', u'integer', 0, None, 0)\n",
      "(7, u'population_growth', u'float', 0, None, 0)\n",
      "(8, u'birth_rate', u'float', 0, None, 0)\n",
      "(9, u'death_rate', u'float', 0, None, 0)\n",
      "(10, u'migration_rate', u'float', 0, None, 0)\n",
      "(11, u'created_at', u'datetime', 0, None, 0)\n",
      "(12, u'updated_at', u'datetime', 0, None, 0)\n"
     ]
    }
   ],
   "source": [
    "rows=conn.execute('pragma table_info(facts)').fetchall()\n",
    "for row in rows:\n",
    "    print row"
   ]
  },
  {
   "cell_type": "markdown",
   "metadata": {},
   "source": [
    "## Using created index"
   ]
  },
  {
   "cell_type": "code",
   "execution_count": null,
   "metadata": {
    "collapsed": true
   },
   "outputs": [],
   "source": [
    "conn = sqlite3.connect(\"factbook.db\")\n",
    "india_index = conn.execute('select id from name_idx where name = \"India\"').fetchall()[0][0]\n",
    "print(india_index)\n",
    "\n",
    "first_query_plan = conn.execute('explain query plan select id from name_idx where name = \"India\"').fetchall()\n",
    "print(first_query_plan)\n",
    "\n",
    "india_row = conn.execute('select * from facts where id = ?',(india_index,)).fetchall()\n",
    "print(india_row)\n",
    "\n",
    "second_query_plan = conn.execute('explain query plan select * from facts where id = ?',(india_index,)).fetchall()\n",
    "print(second_query_plan)"
   ]
  }
 ],
 "metadata": {
  "kernelspec": {
   "display_name": "Python 2",
   "language": "python",
   "name": "python2"
  },
  "language_info": {
   "codemirror_mode": {
    "name": "ipython",
    "version": 2
   },
   "file_extension": ".py",
   "mimetype": "text/x-python",
   "name": "python",
   "nbconvert_exporter": "python",
   "pygments_lexer": "ipython2",
   "version": "2.7.11"
  }
 },
 "nbformat": 4,
 "nbformat_minor": 0
}
