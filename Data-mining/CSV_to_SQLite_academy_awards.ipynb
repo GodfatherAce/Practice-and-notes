{
 "cells": [
  {
   "cell_type": "markdown",
   "metadata": {},
   "source": [
    "# Cleaning a CSV file for SQLite"
   ]
  },
  {
   "cell_type": "code",
   "execution_count": 2,
   "metadata": {
    "collapsed": false
   },
   "outputs": [
    {
     "data": {
      "text/html": [
       "<div>\n",
       "<table border=\"1\" class=\"dataframe\">\n",
       "  <thead>\n",
       "    <tr style=\"text-align: right;\">\n",
       "      <th></th>\n",
       "      <th>Year</th>\n",
       "      <th>Category</th>\n",
       "      <th>Nominee</th>\n",
       "      <th>Additional Info</th>\n",
       "      <th>Won?</th>\n",
       "      <th>Unnamed: 5</th>\n",
       "      <th>Unnamed: 6</th>\n",
       "      <th>Unnamed: 7</th>\n",
       "      <th>Unnamed: 8</th>\n",
       "      <th>Unnamed: 9</th>\n",
       "      <th>Unnamed: 10</th>\n",
       "    </tr>\n",
       "  </thead>\n",
       "  <tbody>\n",
       "    <tr>\n",
       "      <th>0</th>\n",
       "      <td>2010 (83rd)</td>\n",
       "      <td>Actor -- Leading Role</td>\n",
       "      <td>Javier Bardem</td>\n",
       "      <td>Biutiful {'Uxbal'}</td>\n",
       "      <td>NO</td>\n",
       "      <td>NaN</td>\n",
       "      <td>NaN</td>\n",
       "      <td>NaN</td>\n",
       "      <td>NaN</td>\n",
       "      <td>NaN</td>\n",
       "      <td>NaN</td>\n",
       "    </tr>\n",
       "    <tr>\n",
       "      <th>1</th>\n",
       "      <td>2010 (83rd)</td>\n",
       "      <td>Actor -- Leading Role</td>\n",
       "      <td>Jeff Bridges</td>\n",
       "      <td>True Grit {'Rooster Cogburn'}</td>\n",
       "      <td>NO</td>\n",
       "      <td>NaN</td>\n",
       "      <td>NaN</td>\n",
       "      <td>NaN</td>\n",
       "      <td>NaN</td>\n",
       "      <td>NaN</td>\n",
       "      <td>NaN</td>\n",
       "    </tr>\n",
       "    <tr>\n",
       "      <th>2</th>\n",
       "      <td>2010 (83rd)</td>\n",
       "      <td>Actor -- Leading Role</td>\n",
       "      <td>Jesse Eisenberg</td>\n",
       "      <td>The Social Network {'Mark Zuckerberg'}</td>\n",
       "      <td>NO</td>\n",
       "      <td>NaN</td>\n",
       "      <td>NaN</td>\n",
       "      <td>NaN</td>\n",
       "      <td>NaN</td>\n",
       "      <td>NaN</td>\n",
       "      <td>NaN</td>\n",
       "    </tr>\n",
       "  </tbody>\n",
       "</table>\n",
       "</div>"
      ],
      "text/plain": [
       "          Year               Category          Nominee  \\\n",
       "0  2010 (83rd)  Actor -- Leading Role    Javier Bardem   \n",
       "1  2010 (83rd)  Actor -- Leading Role     Jeff Bridges   \n",
       "2  2010 (83rd)  Actor -- Leading Role  Jesse Eisenberg   \n",
       "\n",
       "                          Additional Info Won? Unnamed: 5 Unnamed: 6  \\\n",
       "0                      Biutiful {'Uxbal'}   NO        NaN        NaN   \n",
       "1           True Grit {'Rooster Cogburn'}   NO        NaN        NaN   \n",
       "2  The Social Network {'Mark Zuckerberg'}   NO        NaN        NaN   \n",
       "\n",
       "  Unnamed: 7 Unnamed: 8 Unnamed: 9 Unnamed: 10  \n",
       "0        NaN        NaN        NaN         NaN  \n",
       "1        NaN        NaN        NaN         NaN  \n",
       "2        NaN        NaN        NaN         NaN  "
      ]
     },
     "execution_count": 2,
     "metadata": {},
     "output_type": "execute_result"
    }
   ],
   "source": [
    "import pandas as pd\n",
    "awards = pd.read_csv('academy_awards.csv', encoding = 'ISO-8859-1')\n",
    "awards.head(3)"
   ]
  },
  {
   "cell_type": "code",
   "execution_count": 3,
   "metadata": {
    "collapsed": false
   },
   "outputs": [
    {
     "data": {
      "text/plain": [
       "Unnamed: 7     1\n",
       "Unnamed: 6     1\n",
       "Unnamed: 10    1\n",
       "Unnamed: 8     1\n",
       "Unnamed: 5     1\n",
       "Unnamed: 9     1\n",
       "dtype: int64"
      ]
     },
     "execution_count": 3,
     "metadata": {},
     "output_type": "execute_result"
    }
   ],
   "source": [
    "# Are the last 6 columns only NaN values?\n",
    "awards.columns[5:11].value_counts()"
   ]
  },
  {
   "cell_type": "markdown",
   "metadata": {},
   "source": [
    "### Cleaning the 'Year' column"
   ]
  },
  {
   "cell_type": "code",
   "execution_count": 4,
   "metadata": {
    "collapsed": false
   },
   "outputs": [],
   "source": [
    "# select the first 4 elements in the string and convert to int\n",
    "awards['Year']=awards['Year'].str[0:4].astype(int)"
   ]
  },
  {
   "cell_type": "code",
   "execution_count": 5,
   "metadata": {
    "collapsed": false
   },
   "outputs": [
    {
     "name": "stdout",
     "output_type": "stream",
     "text": [
      "int64\n"
     ]
    }
   ],
   "source": [
    "print(awards['Year'].dtype)\n",
    "# pool only the data for years after 2000\n",
    "later_than_2000 = awards[awards['Year']>2000]"
   ]
  },
  {
   "cell_type": "markdown",
   "metadata": {},
   "source": [
    "### Filtering by 'Category' type"
   ]
  },
  {
   "cell_type": "code",
   "execution_count": 6,
   "metadata": {
    "collapsed": false
   },
   "outputs": [
    {
     "data": {
      "text/html": [
       "<div>\n",
       "<table border=\"1\" class=\"dataframe\">\n",
       "  <thead>\n",
       "    <tr style=\"text-align: right;\">\n",
       "      <th></th>\n",
       "      <th>Year</th>\n",
       "      <th>Category</th>\n",
       "      <th>Nominee</th>\n",
       "      <th>Additional Info</th>\n",
       "      <th>Won?</th>\n",
       "      <th>Unnamed: 5</th>\n",
       "      <th>Unnamed: 6</th>\n",
       "      <th>Unnamed: 7</th>\n",
       "      <th>Unnamed: 8</th>\n",
       "      <th>Unnamed: 9</th>\n",
       "      <th>Unnamed: 10</th>\n",
       "    </tr>\n",
       "  </thead>\n",
       "  <tbody>\n",
       "    <tr>\n",
       "      <th>0</th>\n",
       "      <td>2010</td>\n",
       "      <td>Actor -- Leading Role</td>\n",
       "      <td>Javier Bardem</td>\n",
       "      <td>Biutiful {'Uxbal'}</td>\n",
       "      <td>NO</td>\n",
       "      <td>NaN</td>\n",
       "      <td>NaN</td>\n",
       "      <td>NaN</td>\n",
       "      <td>NaN</td>\n",
       "      <td>NaN</td>\n",
       "      <td>NaN</td>\n",
       "    </tr>\n",
       "    <tr>\n",
       "      <th>1</th>\n",
       "      <td>2010</td>\n",
       "      <td>Actor -- Leading Role</td>\n",
       "      <td>Jeff Bridges</td>\n",
       "      <td>True Grit {'Rooster Cogburn'}</td>\n",
       "      <td>NO</td>\n",
       "      <td>NaN</td>\n",
       "      <td>NaN</td>\n",
       "      <td>NaN</td>\n",
       "      <td>NaN</td>\n",
       "      <td>NaN</td>\n",
       "      <td>NaN</td>\n",
       "    </tr>\n",
       "    <tr>\n",
       "      <th>2</th>\n",
       "      <td>2010</td>\n",
       "      <td>Actor -- Leading Role</td>\n",
       "      <td>Jesse Eisenberg</td>\n",
       "      <td>The Social Network {'Mark Zuckerberg'}</td>\n",
       "      <td>NO</td>\n",
       "      <td>NaN</td>\n",
       "      <td>NaN</td>\n",
       "      <td>NaN</td>\n",
       "      <td>NaN</td>\n",
       "      <td>NaN</td>\n",
       "      <td>NaN</td>\n",
       "    </tr>\n",
       "  </tbody>\n",
       "</table>\n",
       "</div>"
      ],
      "text/plain": [
       "   Year               Category          Nominee  \\\n",
       "0  2010  Actor -- Leading Role    Javier Bardem   \n",
       "1  2010  Actor -- Leading Role     Jeff Bridges   \n",
       "2  2010  Actor -- Leading Role  Jesse Eisenberg   \n",
       "\n",
       "                          Additional Info Won? Unnamed: 5 Unnamed: 6  \\\n",
       "0                      Biutiful {'Uxbal'}   NO        NaN        NaN   \n",
       "1           True Grit {'Rooster Cogburn'}   NO        NaN        NaN   \n",
       "2  The Social Network {'Mark Zuckerberg'}   NO        NaN        NaN   \n",
       "\n",
       "  Unnamed: 7 Unnamed: 8 Unnamed: 9 Unnamed: 10  \n",
       "0        NaN        NaN        NaN         NaN  \n",
       "1        NaN        NaN        NaN         NaN  \n",
       "2        NaN        NaN        NaN         NaN  "
      ]
     },
     "execution_count": 6,
     "metadata": {},
     "output_type": "execute_result"
    }
   ],
   "source": [
    "# filter out only the rows that contain the below award_categories\n",
    "# (the 4 awards we are interested in)\n",
    "award_categories = ['Actor -- Leading Role','Actor -- Supporting Role','Actress -- Leading Role', 'Actress -- Supporting Role']\n",
    "\n",
    "# Save in nominations DF\n",
    "nominations = later_than_2000[later_than_2000['Category'].isin(award_categories)]\n",
    "nominations.head(3)"
   ]
  },
  {
   "cell_type": "markdown",
   "metadata": {},
   "source": [
    "### Converting 'Won?' to integer / boolean values\n",
    "because SQLite uses integers to represent booleans"
   ]
  },
  {
   "cell_type": "code",
   "execution_count": 7,
   "metadata": {
    "collapsed": false
   },
   "outputs": [
    {
     "name": "stdout",
     "output_type": "stream",
     "text": [
      "0    0\n",
      "1    0\n",
      "2    0\n",
      "3    1\n",
      "4    0\n",
      "Name: Won, dtype: int64\n"
     ]
    },
    {
     "name": "stderr",
     "output_type": "stream",
     "text": [
      "/opt/dsserver/lib/python3.4/site-packages/ipykernel/__main__.py:3: SettingWithCopyWarning: \n",
      "A value is trying to be set on a copy of a slice from a DataFrame.\n",
      "Try using .loc[row_indexer,col_indexer] = value instead\n",
      "\n",
      "See the caveats in the documentation: http://pandas.pydata.org/pandas-docs/stable/indexing.html#indexing-view-versus-copy\n",
      "  app.launch_new_instance()\n"
     ]
    }
   ],
   "source": [
    "# Convert the won? column into integer for ease in processing\n",
    "replace_dict = {'YES': 1, 'NO':0}\n",
    "nominations['Won']=nominations['Won?'].map(replace_dict)\n",
    "print(nominations['Won'][:5])"
   ]
  },
  {
   "cell_type": "markdown",
   "metadata": {},
   "source": [
    "### Dropping unneeded columns"
   ]
  },
  {
   "cell_type": "code",
   "execution_count": 8,
   "metadata": {
    "collapsed": true
   },
   "outputs": [],
   "source": [
    "# Drop the last 6 columns since it only contains NULL values\n",
    "cols = ['Won?','Unnamed: 5','Unnamed: 6','Unnamed: 7','Unnamed: 8','Unnamed: 9','Unnamed: 10',]\n",
    "final_nominations = nominations.drop(cols,axis=1)"
   ]
  },
  {
   "cell_type": "code",
   "execution_count": 9,
   "metadata": {
    "collapsed": false
   },
   "outputs": [
    {
     "data": {
      "text/html": [
       "<div>\n",
       "<table border=\"1\" class=\"dataframe\">\n",
       "  <thead>\n",
       "    <tr style=\"text-align: right;\">\n",
       "      <th></th>\n",
       "      <th>Year</th>\n",
       "      <th>Category</th>\n",
       "      <th>Nominee</th>\n",
       "      <th>Additional Info</th>\n",
       "      <th>Won</th>\n",
       "    </tr>\n",
       "  </thead>\n",
       "  <tbody>\n",
       "    <tr>\n",
       "      <th>0</th>\n",
       "      <td>2010</td>\n",
       "      <td>Actor -- Leading Role</td>\n",
       "      <td>Javier Bardem</td>\n",
       "      <td>Biutiful {'Uxbal'}</td>\n",
       "      <td>0</td>\n",
       "    </tr>\n",
       "    <tr>\n",
       "      <th>1</th>\n",
       "      <td>2010</td>\n",
       "      <td>Actor -- Leading Role</td>\n",
       "      <td>Jeff Bridges</td>\n",
       "      <td>True Grit {'Rooster Cogburn'}</td>\n",
       "      <td>0</td>\n",
       "    </tr>\n",
       "    <tr>\n",
       "      <th>2</th>\n",
       "      <td>2010</td>\n",
       "      <td>Actor -- Leading Role</td>\n",
       "      <td>Jesse Eisenberg</td>\n",
       "      <td>The Social Network {'Mark Zuckerberg'}</td>\n",
       "      <td>0</td>\n",
       "    </tr>\n",
       "  </tbody>\n",
       "</table>\n",
       "</div>"
      ],
      "text/plain": [
       "   Year               Category          Nominee  \\\n",
       "0  2010  Actor -- Leading Role    Javier Bardem   \n",
       "1  2010  Actor -- Leading Role     Jeff Bridges   \n",
       "2  2010  Actor -- Leading Role  Jesse Eisenberg   \n",
       "\n",
       "                          Additional Info  Won  \n",
       "0                      Biutiful {'Uxbal'}    0  \n",
       "1           True Grit {'Rooster Cogburn'}    0  \n",
       "2  The Social Network {'Mark Zuckerberg'}    0  "
      ]
     },
     "execution_count": 9,
     "metadata": {},
     "output_type": "execute_result"
    }
   ],
   "source": [
    "final_nominations.head(3)"
   ]
  },
  {
   "cell_type": "markdown",
   "metadata": {},
   "source": [
    "### Cleaning the 'Additional Info' column\n",
    "Using:\n",
    "- .str[index]\n",
    "- .str.rstrip\n",
    "- .str.split"
   ]
  },
  {
   "cell_type": "code",
   "execution_count": 10,
   "metadata": {
    "collapsed": false
   },
   "outputs": [
    {
     "name": "stdout",
     "output_type": "stream",
     "text": [
      "0                        [Biutiful , Uxbal]\n",
      "1             [True Grit , Rooster Cogburn]\n",
      "2    [The Social Network , Mark Zuckerberg]\n",
      "Name: Additional Info, dtype: object\n"
     ]
    }
   ],
   "source": [
    "additional_info_one = final_nominations['Additional Info'].str.rstrip(\"'}\")\n",
    "additional_info_two = additional_info_one.str.split(\"{'\")\n",
    "print (additional_info_two[:3])"
   ]
  },
  {
   "cell_type": "code",
   "execution_count": 11,
   "metadata": {
    "collapsed": true
   },
   "outputs": [],
   "source": [
    "# Extract the movie name and actors\n",
    "movie_names= additional_info_two.str[0] \n",
    "characters = additional_info_two.str[1]"
   ]
  },
  {
   "cell_type": "code",
   "execution_count": 12,
   "metadata": {
    "collapsed": false
   },
   "outputs": [
    {
     "data": {
      "text/html": [
       "<div>\n",
       "<table border=\"1\" class=\"dataframe\">\n",
       "  <thead>\n",
       "    <tr style=\"text-align: right;\">\n",
       "      <th></th>\n",
       "      <th>Year</th>\n",
       "      <th>Category</th>\n",
       "      <th>Nominee</th>\n",
       "      <th>Won</th>\n",
       "      <th>Movie</th>\n",
       "      <th>Character</th>\n",
       "    </tr>\n",
       "  </thead>\n",
       "  <tbody>\n",
       "    <tr>\n",
       "      <th>0</th>\n",
       "      <td>2010</td>\n",
       "      <td>Actor -- Leading Role</td>\n",
       "      <td>Javier Bardem</td>\n",
       "      <td>0</td>\n",
       "      <td>Biutiful</td>\n",
       "      <td>Uxbal</td>\n",
       "    </tr>\n",
       "    <tr>\n",
       "      <th>1</th>\n",
       "      <td>2010</td>\n",
       "      <td>Actor -- Leading Role</td>\n",
       "      <td>Jeff Bridges</td>\n",
       "      <td>0</td>\n",
       "      <td>True Grit</td>\n",
       "      <td>Rooster Cogburn</td>\n",
       "    </tr>\n",
       "    <tr>\n",
       "      <th>2</th>\n",
       "      <td>2010</td>\n",
       "      <td>Actor -- Leading Role</td>\n",
       "      <td>Jesse Eisenberg</td>\n",
       "      <td>0</td>\n",
       "      <td>The Social Network</td>\n",
       "      <td>Mark Zuckerberg</td>\n",
       "    </tr>\n",
       "    <tr>\n",
       "      <th>3</th>\n",
       "      <td>2010</td>\n",
       "      <td>Actor -- Leading Role</td>\n",
       "      <td>Colin Firth</td>\n",
       "      <td>1</td>\n",
       "      <td>The King's Speech</td>\n",
       "      <td>King George VI</td>\n",
       "    </tr>\n",
       "  </tbody>\n",
       "</table>\n",
       "</div>"
      ],
      "text/plain": [
       "   Year               Category          Nominee  Won                Movie  \\\n",
       "0  2010  Actor -- Leading Role    Javier Bardem    0            Biutiful    \n",
       "1  2010  Actor -- Leading Role     Jeff Bridges    0           True Grit    \n",
       "2  2010  Actor -- Leading Role  Jesse Eisenberg    0  The Social Network    \n",
       "3  2010  Actor -- Leading Role      Colin Firth    1   The King's Speech    \n",
       "\n",
       "         Character  \n",
       "0            Uxbal  \n",
       "1  Rooster Cogburn  \n",
       "2  Mark Zuckerberg  \n",
       "3   King George VI  "
      ]
     },
     "execution_count": 12,
     "metadata": {},
     "output_type": "execute_result"
    }
   ],
   "source": [
    "# Insert into final_nominations DF\n",
    "final_nominations['Movie']=movie_names\n",
    "final_nominations['Character']=characters\n",
    "# and drop the additional info column\n",
    "final_nominations=final_nominations.drop('Additional Info', axis=1)\n",
    "final_nominations.head(4)"
   ]
  },
  {
   "cell_type": "markdown",
   "metadata": {},
   "source": [
    "# Exporting to SQLite\n",
    "pd.to_sql(table_name, conn, if_exists='append/fail', chunksize='#', index=True/False)\n",
    "- pd.to_sql creates table, then runs query to insert the DF\n",
    "arguments:\n",
    "- conn : connection\n",
    "- chunksize : number of items per page when working with big data\n",
    "- index : whether or now to use DF index as columns"
   ]
  },
  {
   "cell_type": "code",
   "execution_count": 13,
   "metadata": {
    "collapsed": false
   },
   "outputs": [],
   "source": [
    "# Connect to the desired database name\n",
    "# if it doesn't exist, it will automatically create one\n",
    "import sqlite3\n",
    "\n",
    "conn = sqlite3.connect('nominations.db')\n",
    "\n",
    "# convert DF to sql\n",
    "final_nominations.to_sql('nominations', conn, index=False)"
   ]
  },
  {
   "cell_type": "code",
   "execution_count": 17,
   "metadata": {
    "collapsed": false
   },
   "outputs": [
    {
     "name": "stdout",
     "output_type": "stream",
     "text": [
      "[(0, 'Year', 'INTEGER', 0, None, 0), (1, 'Category', 'TEXT', 0, None, 0), (2, 'Nominee', 'TEXT', 0, None, 0), (3, 'Won', 'INTEGER', 0, None, 0), (4, 'Movie', 'TEXT', 0, None, 0), (5, 'Character', 'TEXT', 0, None, 0)]\n"
     ]
    }
   ],
   "source": [
    "# Check to see if exported properly\n",
    "table = conn.execute('pragma table_info(nominations)').fetchall()\n",
    "print(table)"
   ]
  },
  {
   "cell_type": "code",
   "execution_count": 18,
   "metadata": {
    "collapsed": false
   },
   "outputs": [
    {
     "name": "stdout",
     "output_type": "stream",
     "text": [
      "[(2010, 'Actor -- Leading Role', 'Javier Bardem', 0, 'Biutiful ', 'Uxbal'), (2010, 'Actor -- Leading Role', 'Jeff Bridges', 0, 'True Grit ', 'Rooster Cogburn'), (2010, 'Actor -- Leading Role', 'Jesse Eisenberg', 0, 'The Social Network ', 'Mark Zuckerberg'), (2010, 'Actor -- Leading Role', 'Colin Firth', 1, \"The King's Speech \", 'King George VI'), (2010, 'Actor -- Leading Role', 'James Franco', 0, '127 Hours ', 'Aron Ralston'), (2010, 'Actor -- Supporting Role', 'Christian Bale', 1, 'The Fighter ', 'Dicky Eklund'), (2010, 'Actor -- Supporting Role', 'John Hawkes', 0, \"Winter's Bone \", 'Teardrop'), (2010, 'Actor -- Supporting Role', 'Jeremy Renner', 0, 'The Town ', 'James Coughlin'), (2010, 'Actor -- Supporting Role', 'Mark Ruffalo', 0, 'The Kids Are All Right ', 'Paul'), (2010, 'Actor -- Supporting Role', 'Geoffrey Rush', 0, \"The King's Speech \", 'Lionel Logue')]\n"
     ]
    }
   ],
   "source": [
    "print (conn.execute('select * from nominations limit 10').fetchall())"
   ]
  },
  {
   "cell_type": "code",
   "execution_count": 19,
   "metadata": {
    "collapsed": true
   },
   "outputs": [],
   "source": [
    "# close out of connection\n",
    "conn.close()"
   ]
  }
 ],
 "metadata": {
  "kernelspec": {
   "display_name": "Python 3",
   "language": "python",
   "name": "python3"
  },
  "language_info": {
   "codemirror_mode": {
    "name": "ipython",
    "version": 3
   },
   "file_extension": ".py",
   "mimetype": "text/x-python",
   "name": "python",
   "nbconvert_exporter": "python",
   "pygments_lexer": "ipython3",
   "version": "3.4.3"
  }
 },
 "nbformat": 4,
 "nbformat_minor": 0
}
