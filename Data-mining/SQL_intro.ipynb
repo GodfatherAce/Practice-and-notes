{
 "cells": [
  {
   "cell_type": "markdown",
   "metadata": {},
   "source": [
    "# Intro to SQL : Databases\n",
    "\n",
    "- Pandas csv has downsides including: \n",
    "    + it's static \n",
    "    + loadtime is long\n",
    "    + data is stored in memory (thus cannot work with data > 8G)\n",
    "- SQL on the other hand:\n",
    "    + loads the data on disk and not memory\n",
    "    + is dynamic"
   ]
  },
  {
   "cell_type": "markdown",
   "metadata": {},
   "source": [
    "## Connectiong and Querying\n",
    "- SELECT : select without modification  \n",
    "- FROM : dataset to query\n",
    "- WHERE (col, operator, value) : conditional statement\n",
    "    + has to come after SELECT and FROM\n",
    "- LIMIT : limit number of returned results\n",
    "- OR / AND : logical operators could be used in conditional statement\n",
    "- ORDER BY 'col name' [ASC or DESC] : order column by ascending/descending order\n",
    "    + nested order by orders by the first column and then the 2nd column (ex. last name , first name)\n",
    "- GROUP BY : analogous to pandas sort_values\n",
    "- HAVING : same as WHERE except HAVING is used when the condition value isn't originally in the db (eg column arithmetics)\n",
    "- ROUND(var, # decimal) : rounds to the nearest int\n",
    "- as : renames column as desired"
   ]
  },
  {
   "cell_type": "code",
   "execution_count": 1,
   "metadata": {
    "collapsed": false
   },
   "outputs": [],
   "source": [
    "import sqlite3"
   ]
  },
  {
   "cell_type": "code",
   "execution_count": 2,
   "metadata": {
    "collapsed": false
   },
   "outputs": [],
   "source": [
    "# Create a connection instance\n",
    "conn = sqlite3.connect('factbook.db')"
   ]
  },
  {
   "cell_type": "markdown",
   "metadata": {},
   "source": [
    "**To execute a query, SQL query needs to be executed as a string. **\n",
    "\n",
    "**This can be done using the Cursor class:**\n",
    "- run a query against the database.\n",
    "- parse the results from the database.\n",
    "- convert the results to native Python objects.\n",
    "- store the results within the Cursor instance as a local variable."
   ]
  },
  {
   "cell_type": "code",
   "execution_count": 3,
   "metadata": {
    "collapsed": false
   },
   "outputs": [
    {
     "data": {
      "text/plain": [
       "[(1,\n",
       "  u'af',\n",
       "  u'Afghanistan',\n",
       "  652230,\n",
       "  652230,\n",
       "  0,\n",
       "  32564342,\n",
       "  2.32,\n",
       "  38.57,\n",
       "  13.89,\n",
       "  1.51,\n",
       "  u'2015-11-01 13:19:49.461734',\n",
       "  u'2015-11-01 13:19:49.461734'),\n",
       " (2,\n",
       "  u'al',\n",
       "  u'Albania',\n",
       "  28748,\n",
       "  27398,\n",
       "  1350,\n",
       "  3029278,\n",
       "  0.3,\n",
       "  12.92,\n",
       "  6.58,\n",
       "  3.3,\n",
       "  u'2015-11-01 13:19:54.431082',\n",
       "  u'2015-11-01 13:19:54.431082')]"
      ]
     },
     "execution_count": 3,
     "metadata": {},
     "output_type": "execute_result"
    }
   ],
   "source": [
    "c = conn.cursor()\n",
    "c.execute('select * from facts;')\n",
    "c.fetchmany(2) #fetchall, fetchone also an option"
   ]
  },
  {
   "cell_type": "markdown",
   "metadata": {},
   "source": [
    "## Using Pandas to work with sql db"
   ]
  },
  {
   "cell_type": "code",
   "execution_count": 4,
   "metadata": {
    "collapsed": false
   },
   "outputs": [
    {
     "data": {
      "text/html": [
       "<div>\n",
       "<table border=\"1\" class=\"dataframe\">\n",
       "  <thead>\n",
       "    <tr style=\"text-align: right;\">\n",
       "      <th></th>\n",
       "      <th>id</th>\n",
       "      <th>code</th>\n",
       "      <th>name</th>\n",
       "      <th>area</th>\n",
       "      <th>area_land</th>\n",
       "      <th>area_water</th>\n",
       "      <th>population</th>\n",
       "      <th>population_growth</th>\n",
       "      <th>birth_rate</th>\n",
       "      <th>death_rate</th>\n",
       "      <th>migration_rate</th>\n",
       "      <th>created_at</th>\n",
       "      <th>updated_at</th>\n",
       "    </tr>\n",
       "  </thead>\n",
       "  <tbody>\n",
       "    <tr>\n",
       "      <th>0</th>\n",
       "      <td>1</td>\n",
       "      <td>af</td>\n",
       "      <td>Afghanistan</td>\n",
       "      <td>652230.0</td>\n",
       "      <td>652230.0</td>\n",
       "      <td>0.0</td>\n",
       "      <td>32564342.0</td>\n",
       "      <td>2.32</td>\n",
       "      <td>38.57</td>\n",
       "      <td>13.89</td>\n",
       "      <td>1.51</td>\n",
       "      <td>2015-11-01 13:19:49.461734</td>\n",
       "      <td>2015-11-01 13:19:49.461734</td>\n",
       "    </tr>\n",
       "    <tr>\n",
       "      <th>1</th>\n",
       "      <td>2</td>\n",
       "      <td>al</td>\n",
       "      <td>Albania</td>\n",
       "      <td>28748.0</td>\n",
       "      <td>27398.0</td>\n",
       "      <td>1350.0</td>\n",
       "      <td>3029278.0</td>\n",
       "      <td>0.30</td>\n",
       "      <td>12.92</td>\n",
       "      <td>6.58</td>\n",
       "      <td>3.30</td>\n",
       "      <td>2015-11-01 13:19:54.431082</td>\n",
       "      <td>2015-11-01 13:19:54.431082</td>\n",
       "    </tr>\n",
       "  </tbody>\n",
       "</table>\n",
       "</div>"
      ],
      "text/plain": [
       "   id code         name      area  area_land  area_water  population  \\\n",
       "0   1   af  Afghanistan  652230.0   652230.0         0.0  32564342.0   \n",
       "1   2   al      Albania   28748.0    27398.0      1350.0   3029278.0   \n",
       "\n",
       "   population_growth  birth_rate  death_rate  migration_rate  \\\n",
       "0               2.32       38.57       13.89            1.51   \n",
       "1               0.30       12.92        6.58            3.30   \n",
       "\n",
       "                   created_at                  updated_at  \n",
       "0  2015-11-01 13:19:49.461734  2015-11-01 13:19:49.461734  \n",
       "1  2015-11-01 13:19:54.431082  2015-11-01 13:19:54.431082  "
      ]
     },
     "execution_count": 4,
     "metadata": {},
     "output_type": "execute_result"
    }
   ],
   "source": [
    "import pandas as pd\n",
    "\n",
    "df = pd.read_sql_query('select * from facts', conn)\n",
    "df = df.dropna(axis=0)\n",
    "df.head(2)"
   ]
  },
  {
   "cell_type": "markdown",
   "metadata": {},
   "source": [
    "Write a function that takes in the initial population and the growth rate of a country, and outputs the final population.   \n",
    "The annual population growth (expressed as a percentage) for each country is in the population_growth column. The initial population is in the population column.  \n",
    "The formula for compound annual population growth is N=N0e(rt)N=N0e(rt), where NN is the final population, N0N0 is the initial population, ee is a constant value you can access with math.e, rr is the rate of annual change, expressed as a decimal (so 1.5 percent should be .015), and tt is the number of years to calculate for.  \n",
    "Assume that you'll be starting in January 2015, and you'll be ending in January 2050, or 35 years.\n",
    "Let's say you have a country with 5000 people, and a 4 percent annual growth rate. The formula would look like N=5000∗e(.04∗35)N=5000∗e(.04∗35).\n",
    "Use the apply method on Pandas Dataframes to compute the population in 2050 for each row in the data.\n",
    "Use the Dataframe sort_values method to sort on the 2050 population in descending order.\n",
    "Print the 10 countries that will have the highest projected populations in 2050."
   ]
  },
  {
   "cell_type": "markdown",
   "metadata": {},
   "source": [
    "### Estimating the population in 2050 and displaying 10 countries with the highest estimated population\n",
    "\n",
    "population in 2050 = population \\* exp(pop_growth_rate * # years)"
   ]
  },
  {
   "cell_type": "code",
   "execution_count": 33,
   "metadata": {
    "collapsed": false
   },
   "outputs": [
    {
     "name": "stdout",
     "output_type": "stream",
     "text": [
      "[1918414568.4858003, 1600752082.0139306, 427989003.1189267, 422246629.08864832, 353241773.49396241, 331867609.77871519, 295789677.88354111, 267439339.32830244, 187107846.63657495, 183986320.75522664]\n",
      "      id code                               name       area  area_land  \\\n",
      "76    77   in                              India  3287263.0  2973193.0   \n",
      "36    37   ch                              China  9596960.0  9326410.0   \n",
      "128  129   ni                            Nigeria   923768.0   910768.0   \n",
      "185  186   us                      United States  9826675.0  9161966.0   \n",
      "77    78   id                          Indonesia  1904569.0  1811569.0   \n",
      "131  132   pk                           Pakistan   796095.0   770875.0   \n",
      "13    14   bg                         Bangladesh   148460.0   130170.0   \n",
      "23    24   br                             Brazil  8515770.0  8358140.0   \n",
      "39    40   cg  Congo, Democratic Republic of the  2344858.0  2267048.0   \n",
      "113  114   mx                             Mexico  1964375.0  1943945.0   \n",
      "\n",
      "     area_water    population  population_growth  birth_rate  death_rate  \\\n",
      "76     314070.0  1.251696e+09               1.22       19.55        7.32   \n",
      "36     270550.0  1.367485e+09               0.45       12.49        7.53   \n",
      "128     13000.0  1.815621e+08               2.45       37.64       12.90   \n",
      "185    664709.0  3.213689e+08               0.78       12.49        8.15   \n",
      "77      93000.0  2.559937e+08               0.92       16.72        6.37   \n",
      "131     25220.0  1.990858e+08               1.46       22.58        6.49   \n",
      "13      18290.0  1.689577e+08               1.60       21.14        5.61   \n",
      "23     157630.0  2.042598e+08               0.77       14.46        6.58   \n",
      "39      77810.0  7.937514e+07               2.45       34.88       10.07   \n",
      "113     20430.0  1.217368e+08               1.18       18.78        5.26   \n",
      "\n",
      "     migration_rate                  created_at                  updated_at  \\\n",
      "76             0.04  2015-11-01 13:26:24.788193  2015-11-01 13:26:24.788193   \n",
      "36             0.44  2015-11-01 13:22:53.813142  2015-11-01 13:22:53.813142   \n",
      "128            0.22  2015-11-01 13:30:39.695455  2015-11-01 13:30:39.695455   \n",
      "185            3.86  2015-11-01 13:35:14.898271  2015-11-01 13:35:14.898271   \n",
      "77             1.16  2015-11-01 13:26:30.435758  2015-11-01 13:26:30.435758   \n",
      "131            1.54  2015-11-01 13:30:54.514863  2015-11-01 13:30:54.514863   \n",
      "13             0.46  2015-11-01 13:20:52.753843  2015-11-01 13:20:52.753843   \n",
      "23             0.14  2015-11-01 13:21:42.799461  2015-11-01 13:21:42.799461   \n",
      "39             0.27  2015-11-01 13:23:09.778305  2015-11-01 13:23:09.778305   \n",
      "113            1.68  2015-11-01 13:29:28.845230  2015-11-01 13:29:28.845230   \n",
      "\n",
      "          2050pop  \n",
      "76   1.918415e+09  \n",
      "36   1.600752e+09  \n",
      "128  4.279890e+08  \n",
      "185  4.222466e+08  \n",
      "77   3.532418e+08  \n",
      "131  3.318676e+08  \n",
      "13   2.957897e+08  \n",
      "23   2.674393e+08  \n",
      "39   1.871078e+08  \n",
      "113  1.839863e+08  \n"
     ]
    }
   ],
   "source": [
    "from math import *\n",
    "\n",
    "def popcalc(row):\n",
    "    pop= row['population']*exp(row['population_growth']/100.*35)\n",
    "    #print pop\n",
    "    return pop\n",
    "\n",
    "    \n",
    "pop2050 = df.apply(popcalc, axis=1)\n",
    "sorted_pop=sorted(pop2050, reverse=True)\n",
    "print sorted_pop[:10]\n",
    "\n",
    "df['2050pop']=pop2050\n",
    "print df.sort_values('2050pop', ascending=False).head(10)"
   ]
  },
  {
   "cell_type": "markdown",
   "metadata": {},
   "source": [
    "## Computing total area of land and water through SQL query "
   ]
  },
  {
   "cell_type": "code",
   "execution_count": 49,
   "metadata": {
    "collapsed": false
   },
   "outputs": [
    {
     "name": "stdout",
     "output_type": "stream",
     "text": [
      "(128584834,)\n",
      "(4633425,)\n",
      "27.7515734041\n"
     ]
    }
   ],
   "source": [
    "area_land = c.execute('select sum(area_land) from facts where area_land!=\"\"').fetchone()\n",
    "area_water = c.execute('select sum(area_water) from facts where area_water!=\"\"').fetchone()\n",
    "\n",
    "print area_land\n",
    "print area_water\n",
    "\n",
    "print float(area_land[0])/area_water[0]"
   ]
  }
 ],
 "metadata": {
  "kernelspec": {
   "display_name": "Python 2",
   "language": "python",
   "name": "python2"
  },
  "language_info": {
   "codemirror_mode": {
    "name": "ipython",
    "version": 2
   },
   "file_extension": ".py",
   "mimetype": "text/x-python",
   "name": "python",
   "nbconvert_exporter": "python",
   "pygments_lexer": "ipython2",
   "version": "2.7.11"
  }
 },
 "nbformat": 4,
 "nbformat_minor": 0
}
