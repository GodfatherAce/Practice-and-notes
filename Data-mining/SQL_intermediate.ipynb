{
 "cells": [
  {
   "cell_type": "markdown",
   "metadata": {},
   "source": [
    "# SQL intermediate concepts\n",
    "## Modifying Data\n",
    "- INSERT\n",
    "- UPDATE\n",
    "- DELETE\n",
    "- ALTER TABLE\n",
    "- pragma table_info(tablename) : describes data type of columns"
   ]
  },
  {
   "cell_type": "code",
   "execution_count": 1,
   "metadata": {
    "collapsed": true
   },
   "outputs": [],
   "source": [
    "import sqlite3\n",
    "conn=sqlite3.connect('factbook.db')"
   ]
  },
  {
   "cell_type": "markdown",
   "metadata": {},
   "source": [
    "### Selecting by date"
   ]
  },
  {
   "cell_type": "code",
   "execution_count": 27,
   "metadata": {
    "collapsed": false
   },
   "outputs": [
    {
     "name": "stdout",
     "output_type": "stream",
     "text": [
      "[(1, u'af', u'Afghanistan', 652230, 652230, 0, 32564342, 2.32, 38.57, 13.89, 1.51, u'2015-11-01 13:19:49.461734', u'2015-11-01 13:19:49.461734', None), (2, u'al', u'Albania', 28748, 27398, 1350, 3029278, 0.3, 12.92, 6.58, 3.3, u'2015-11-01 13:19:54.431082', u'2015-11-01 13:19:54.431082', None)]\n"
     ]
    }
   ],
   "source": [
    "date = conn.execute('select * from facts where updated_at > \"2015-10-30 16:00\" and updated_at < \"2015-11-2 15:00\";').fetchall()\n",
    "print date[:2]"
   ]
  },
  {
   "cell_type": "code",
   "execution_count": 31,
   "metadata": {
    "collapsed": false
   },
   "outputs": [
    {
     "ename": "SyntaxError",
     "evalue": "invalid syntax (<ipython-input-31-ff27364874b1>, line 1)",
     "output_type": "error",
     "traceback": [
      "\u001b[0;36m  File \u001b[0;32m\"<ipython-input-31-ff27364874b1>\"\u001b[0;36m, line \u001b[0;32m1\u001b[0m\n\u001b[0;31m    pragma table_info(facts)\u001b[0m\n\u001b[0m                    ^\u001b[0m\n\u001b[0;31mSyntaxError\u001b[0m\u001b[0;31m:\u001b[0m invalid syntax\n"
     ]
    }
   ],
   "source": [
    "pragma table_info(facts)"
   ]
  },
  {
   "cell_type": "markdown",
   "metadata": {},
   "source": [
    "### Insert\n",
    "Can also insert NULL values"
   ]
  },
  {
   "cell_type": "code",
   "execution_count": 32,
   "metadata": {
    "collapsed": false
   },
   "outputs": [
    {
     "name": "stderr",
     "output_type": "stream",
     "text": [
      "ERROR: An unexpected error occurred while tokenizing input\n",
      "The following traceback may be corrupted or invalid\n",
      "The error message is: ('EOF in multi-line string', (1, 46))\n",
      "\n"
     ]
    },
    {
     "ename": "OperationalError",
     "evalue": "table facts has 14 columns but 13 values were supplied",
     "output_type": "error",
     "traceback": [
      "\u001b[0;31m---------------------------------------------------------------------------\u001b[0m",
      "\u001b[0;31mOperationalError\u001b[0m                          Traceback (most recent call last)",
      "\u001b[0;32m<ipython-input-32-86f2d8c52cc2>\u001b[0m in \u001b[0;36m<module>\u001b[0;34m()\u001b[0m\n\u001b[1;32m      1\u001b[0m conn.execute(\"\"\" insert into facts\n\u001b[1;32m      2\u001b[0m values (262, \"dq\", \"DataquestLand\", 60000, 40000, 20000, 500000, 100, 50, 10, 20, \n\u001b[0;32m----> 3\u001b[0;31m \"2016-02-25 12:00:00\", \"2016-02-25 12:00:00\") \"\"\");\n\u001b[0m",
      "\u001b[0;31mOperationalError\u001b[0m: table facts has 14 columns but 13 values were supplied"
     ]
    }
   ],
   "source": [
    "conn.execute(\"\"\" insert into facts\n",
    "values (262, \"dq\", \"DataquestLand\", 60000, 40000, 20000, 500000, 100, 50, 10, 20, \n",
    "\"2016-02-25 12:00:00\", \"2016-02-25 12:00:00\") \"\"\");"
   ]
  },
  {
   "cell_type": "markdown",
   "metadata": {},
   "source": [
    "### Update\n",
    "update 'table_name' set var = 'to rename' where var = 'want to rename'"
   ]
  },
  {
   "cell_type": "code",
   "execution_count": null,
   "metadata": {
    "collapsed": false
   },
   "outputs": [],
   "source": [
    "conn.execute('update facts set name=\"DataquestLand\" where name=\"United States\";')"
   ]
  },
  {
   "cell_type": "markdown",
   "metadata": {},
   "source": [
    "### Delete\n",
    "delete from 'table_name' where var = 'to delete'"
   ]
  },
  {
   "cell_type": "code",
   "execution_count": null,
   "metadata": {
    "collapsed": false
   },
   "outputs": [],
   "source": [
    "conn.execute('delete from facts where name = \"Canada\";')"
   ]
  },
  {
   "cell_type": "markdown",
   "metadata": {},
   "source": [
    "### Alter Table\n",
    "alter table 'table_name' add 'column to add' 'column data type'"
   ]
  },
  {
   "cell_type": "code",
   "execution_count": null,
   "metadata": {
    "collapsed": false
   },
   "outputs": [],
   "source": [
    "conn.execute('alter table facts add leader text;')"
   ]
  },
  {
   "cell_type": "markdown",
   "metadata": {},
   "source": [
    "## Create Table"
   ]
  },
  {
   "cell_type": "markdown",
   "metadata": {},
   "source": [
    "![table](createtable.png)"
   ]
  },
  {
   "cell_type": "markdown",
   "metadata": {},
   "source": [
    "## Creating Relations Table\n",
    "![table](relationstable.png)\n",
    "\n",
    "- foreign key('col name') : column we want to create that will have relations with another table\n",
    "- references 'table_name'('col name') : reference of relation\n",
    "\n",
    "**references are one-sided**"
   ]
  },
  {
   "cell_type": "code",
   "execution_count": 2,
   "metadata": {
    "collapsed": false
   },
   "outputs": [
    {
     "name": "stderr",
     "output_type": "stream",
     "text": [
      "ERROR: An unexpected error occurred while tokenizing input\n",
      "The following traceback may be corrupted or invalid\n",
      "The error message is: ('EOF in multi-line string', (1, 46))\n",
      "\n"
     ]
    },
    {
     "ename": "OperationalError",
     "evalue": "unknown database factbook",
     "output_type": "error",
     "traceback": [
      "\u001b[0;31m---------------------------------------------------------------------------\u001b[0m",
      "\u001b[0;31mOperationalError\u001b[0m                          Traceback (most recent call last)",
      "\u001b[0;32m<ipython-input-2-701aeb855ac1>\u001b[0m in \u001b[0;36m<module>\u001b[0;34m()\u001b[0m\n\u001b[1;32m      4\u001b[0m     \u001b[0marea\u001b[0m \u001b[0minteger\u001b[0m\u001b[0;34m,\u001b[0m\u001b[0;34m\u001b[0m\u001b[0m\n\u001b[1;32m      5\u001b[0m     \u001b[0mcountry\u001b[0m \u001b[0minteger\u001b[0m\u001b[0;34m,\u001b[0m\u001b[0;34m\u001b[0m\u001b[0m\n\u001b[0;32m----> 6\u001b[0;31m     foreign key(country) references facts(id))\"\"\")\n\u001b[0m",
      "\u001b[0;31mOperationalError\u001b[0m: unknown database factbook"
     ]
    }
   ],
   "source": [
    "conn.execute(\"\"\"create table factbook.states(\n",
    "    id integer primary key,\n",
    "    name text,\n",
    "    area integer,\n",
    "    country integer,\n",
    "    foreign key(country) references facts(id))\"\"\")"
   ]
  },
  {
   "cell_type": "markdown",
   "metadata": {},
   "source": [
    "### Querying across Foreign Keys\n",
    "SELECT * from states INNER JOIN facts ON states.country == facts.id;\n",
    "\n",
    "- JOIN : table to join with\n",
    "    + INNER JOIN : only displays rows where there is a match for the ON condition in both tables. Any rows that aren't matched are excluded.\n",
    "    + LEFT OUTER JOIN : if there is no match for a row from the table on the left side of the ON condition, it is shown with NULL values for all the right side values.\n",
    "    + RIGHT OUTER JOIN : if there is no match for a row from the table on the right side of the ON condition, it is shown with NULL values for all the left side values\n",
    "- ON : specifying which index is used to join merge"
   ]
  },
  {
   "cell_type": "markdown",
   "metadata": {},
   "source": [
    "# Database Normalization\n",
    "\n",
    "Most common type of data relations:\n",
    "- one-to-many\n",
    "- many-to-many\n",
    "\n",
    "### **One-to-many example:**  \n",
    "![norm](normalization.png)"
   ]
  },
  {
   "cell_type": "code",
   "execution_count": null,
   "metadata": {
    "collapsed": true
   },
   "outputs": [],
   "source": [
    "portman_movies=conn.execute(\"\"\"SELECT ceremonies.year, nominations.movie FROM ceremonies \n",
    "INNER JOIN nominations\n",
    "ON ceremonies.id==nominations.ceremony_id\n",
    "WHERE nominations.nominee == 'Natalie Portman';\"\"\").fetchall()\n",
    "\n",
    "print(portman_movies) #returns [(2010, 'Black Swan'), (2004, 'Closer')]"
   ]
  },
  {
   "cell_type": "markdown",
   "metadata": {},
   "source": [
    "### **many-to-many relations need a join table**\n",
    "\n",
    "![mm](manytomany.png)\n",
    "\n",
    "example:\n",
    "\n",
    "CREATE table movies_actors (  \n",
    "id INTEGER PRIMARY KEY,  \n",
    "movie_id INTEGER REFERENCES movies(id),  \n",
    "actor_id INTEGER REFERENCES actors(id)   \n",
    ");"
   ]
  },
  {
   "cell_type": "code",
   "execution_count": null,
   "metadata": {
    "collapsed": true
   },
   "outputs": [],
   "source": [
    "query = '''select actors.actor, movies.movie from movies\n",
    "inner join movies_actors on movies.id == movies_actors.movie_id\n",
    "inner join actors on movies_actors.actor_id == actors.id\n",
    "where movies.movie == \"The King's Speech\"; '''\n",
    "\n",
    "kings_actors = conn.execute(query).fetchall() \n",
    "# returns [('Colin Firth', \"The King's Speech\"), \n",
    "# ('Geoffrey Rush', \"The King's Speech\"), ('Helena Bonham Carter', \"The King's Speech\")]"
   ]
  },
  {
   "cell_type": "code",
   "execution_count": null,
   "metadata": {
    "collapsed": true
   },
   "outputs": [],
   "source": []
  }
 ],
 "metadata": {
  "kernelspec": {
   "display_name": "Python 2",
   "language": "python",
   "name": "python2"
  },
  "language_info": {
   "codemirror_mode": {
    "name": "ipython",
    "version": 2
   },
   "file_extension": ".py",
   "mimetype": "text/x-python",
   "name": "python",
   "nbconvert_exporter": "python",
   "pygments_lexer": "ipython2",
   "version": "2.7.11"
  }
 },
 "nbformat": 4,
 "nbformat_minor": 0
}
