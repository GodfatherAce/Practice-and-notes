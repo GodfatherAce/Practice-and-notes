{
 "cells": [
  {
   "cell_type": "markdown",
   "metadata": {},
   "source": [
    "# Creating relations in SQLite"
   ]
  },
  {
   "cell_type": "code",
   "execution_count": 1,
   "metadata": {
    "collapsed": true
   },
   "outputs": [],
   "source": [
    "import sqlite3\n",
    "conn = sqlite3.connect('nominations.db')"
   ]
  },
  {
   "cell_type": "code",
   "execution_count": 2,
   "metadata": {
    "collapsed": false
   },
   "outputs": [
    {
     "name": "stdout",
     "output_type": "stream",
     "text": [
      "(0, u'Year', u'INTEGER', 0, None, 0)\n",
      "(1, u'Category', u'TEXT', 0, None, 0)\n",
      "(2, u'Nominee', u'TEXT', 0, None, 0)\n",
      "(3, u'Won', u'INTEGER', 0, None, 0)\n",
      "(4, u'Movie', u'TEXT', 0, None, 0)\n",
      "(5, u'Character', u'TEXT', 0, None, 0)\n",
      "(2010, u'Actor -- Leading Role', u'Javier Bardem', 0, u'Biutiful ', u'Uxbal')\n",
      "(2010, u'Actor -- Leading Role', u'Jeff Bridges', 0, u'True Grit ', u'Rooster Cogburn')\n",
      "(2010, u'Actor -- Leading Role', u'Jesse Eisenberg', 0, u'The Social Network ', u'Mark Zuckerberg')\n",
      "(2010, u'Actor -- Leading Role', u'Colin Firth', 1, u\"The King's Speech \", u'King George VI')\n",
      "(2010, u'Actor -- Leading Role', u'James Franco', 0, u'127 Hours ', u'Aron Ralston')\n",
      "(2010, u'Actor -- Supporting Role', u'Christian Bale', 1, u'The Fighter ', u'Dicky Eklund')\n",
      "(2010, u'Actor -- Supporting Role', u'John Hawkes', 0, u\"Winter's Bone \", u'Teardrop')\n",
      "(2010, u'Actor -- Supporting Role', u'Jeremy Renner', 0, u'The Town ', u'James Coughlin')\n",
      "(2010, u'Actor -- Supporting Role', u'Mark Ruffalo', 0, u'The Kids Are All Right ', u'Paul')\n",
      "(2010, u'Actor -- Supporting Role', u'Geoffrey Rush', 0, u\"The King's Speech \", u'Lionel Logue')\n"
     ]
    }
   ],
   "source": [
    "schema=conn.execute('pragma table_info(nominations)')\n",
    "first_ten=conn.execute('select * from nominations limit 10')\n",
    "for item in schema:\n",
    "    print(item)\n",
    "for item in first_ten:\n",
    "    print(item)"
   ]
  },
  {
   "cell_type": "markdown",
   "metadata": {},
   "source": [
    "## Create table for normalization\n",
    "\n",
    "### Create table"
   ]
  },
  {
   "cell_type": "code",
   "execution_count": 3,
   "metadata": {
    "collapsed": false
   },
   "outputs": [
    {
     "data": {
      "text/plain": [
       "<sqlite3.Cursor at 0x1069823b0>"
      ]
     },
     "execution_count": 3,
     "metadata": {},
     "output_type": "execute_result"
    }
   ],
   "source": [
    "q='''create table ceremonies(\n",
    "id integer primary key,\n",
    "year integer,\n",
    "host text\n",
    ")'''\n",
    "conn.execute(q)"
   ]
  },
  {
   "cell_type": "markdown",
   "metadata": {},
   "source": [
    "### Usng .executemany"
   ]
  },
  {
   "cell_type": "code",
   "execution_count": 4,
   "metadata": {
    "collapsed": false
   },
   "outputs": [
    {
     "data": {
      "text/plain": [
       "<sqlite3.Cursor at 0x106982420>"
      ]
     },
     "execution_count": 4,
     "metadata": {},
     "output_type": "execute_result"
    }
   ],
   "source": [
    "years_hosts = [(2010, \"Steve Martin\"),\n",
    "               (2009, \"Hugh Jackman\"),\n",
    "               (2008, \"Jon Stewart\"),\n",
    "               (2007, \"Ellen DeGeneres\"),\n",
    "               (2006, \"Jon Stewart\"),\n",
    "               (2005, \"Chris Rock\"),\n",
    "               (2004, \"Billy Crystal\"),\n",
    "               (2003, \"Steve Martin\"),\n",
    "               (2002, \"Whoopi Goldberg\"),\n",
    "               (2001, \"Steve Martin\"),\n",
    "               (2000, \"Billy Crystal\")\n",
    "            ]\n",
    "\n",
    "insert_query = \"INSERT INTO ceremonies (Year, Host) VALUES (?,?);\"\n",
    "conn.executemany(insert_query, years_hosts)"
   ]
  },
  {
   "cell_type": "code",
   "execution_count": 5,
   "metadata": {
    "collapsed": false
   },
   "outputs": [
    {
     "name": "stdout",
     "output_type": "stream",
     "text": [
      "[(1, 2010, u'Steve Martin'), (2, 2009, u'Hugh Jackman'), (3, 2008, u'Jon Stewart'), (4, 2007, u'Ellen DeGeneres'), (5, 2006, u'Jon Stewart'), (6, 2005, u'Chris Rock'), (7, 2004, u'Billy Crystal'), (8, 2003, u'Steve Martin'), (9, 2002, u'Whoopi Goldberg'), (10, 2001, u'Steve Martin')]\n",
      "[(0, u'id', u'integer', 0, None, 1), (1, u'year', u'integer', 0, None, 0), (2, u'host', u'text', 0, None, 0)]\n"
     ]
    }
   ],
   "source": [
    "print(conn.execute('select * from ceremonies limit 10').fetchall())\n",
    "print(conn.execute('pragma table_info(ceremonies)').fetchall())"
   ]
  },
  {
   "cell_type": "markdown",
   "metadata": {},
   "source": [
    "## Foreign key constraints\n",
    "makes sure that SQLite makes sure that the foreign key value exists\n",
    "\n",
    "**Needs to be executed for EVERY SQLite connection**"
   ]
  },
  {
   "cell_type": "code",
   "execution_count": 6,
   "metadata": {
    "collapsed": false
   },
   "outputs": [
    {
     "data": {
      "text/plain": [
       "<sqlite3.Cursor at 0x1069827a0>"
      ]
     },
     "execution_count": 6,
     "metadata": {},
     "output_type": "execute_result"
    }
   ],
   "source": [
    "conn.execute('pragma foreign_keys=on;')"
   ]
  },
  {
   "cell_type": "markdown",
   "metadata": {},
   "source": [
    "## One-to-many setup\n",
    "SQLite cannot delete columns, so in order to set up a new table:\n",
    "- create new table 'nominations_two'\n",
    "- populate nominations_two with desired data\n",
    "- delete original nominations table\n",
    "- rename nominations_two to nominations"
   ]
  },
  {
   "cell_type": "code",
   "execution_count": 7,
   "metadata": {
    "collapsed": false
   },
   "outputs": [
    {
     "name": "stdout",
     "output_type": "stream",
     "text": [
      "[(1, u'Actor -- Leading Role', u'Javier Bardem', u'Biutiful ', u'Uxbal', u'0', 1), (2, u'Actor -- Leading Role', u'Jeff Bridges', u'True Grit ', u'Rooster Cogburn', u'0', 1), (3, u'Actor -- Leading Role', u'Jesse Eisenberg', u'The Social Network ', u'Mark Zuckerberg', u'0', 1), (4, u'Actor -- Leading Role', u'Colin Firth', u\"The King's Speech \", u'King George VI', u'1', 1), (5, u'Actor -- Leading Role', u'James Franco', u'127 Hours ', u'Aron Ralston', u'0', 1)]\n"
     ]
    }
   ],
   "source": [
    "create_nominations_two = '''create table nominations_two \n",
    "(id integer primary key, \n",
    "category text, \n",
    "nominee text, \n",
    "movie text, \n",
    "character text, \n",
    "won text,\n",
    "ceremony_id integer,\n",
    "foreign key(ceremony_id) references ceremonies(id));\n",
    "'''\n",
    "\n",
    "nom_query = '''\n",
    "select ceremonies.id as ceremony_id, nominations.category as category, \n",
    "nominations.nominee as nominee, nominations.movie as movie, \n",
    "nominations.character as character, nominations.won as won\n",
    "from nominations\n",
    "inner join ceremonies \n",
    "on nominations.year == ceremonies.year\n",
    ";\n",
    "'''\n",
    "# join the two tables\n",
    "joined_nominations = conn.execute(nom_query).fetchall()\n",
    "# create empty table nominations_two\n",
    "conn.execute(create_nominations_two)\n",
    "\n",
    "# insert into empty table all the values of joined_nominations\n",
    "insert_nominations_two = '''insert into nominations_two (ceremony_id, category, nominee, movie, character, won) \n",
    "values (?,?,?,?,?,?);\n",
    "'''\n",
    "conn.executemany(insert_nominations_two, joined_nominations)\n",
    "\n",
    "print(conn.execute(\"select * from nominations_two limit 5;\").fetchall())"
   ]
  },
  {
   "cell_type": "markdown",
   "metadata": {},
   "source": [
    "## Delete, Rename tables\n",
    "### Deleting old table\n",
    "- drop table : deletes table"
   ]
  },
  {
   "cell_type": "code",
   "execution_count": 8,
   "metadata": {
    "collapsed": false
   },
   "outputs": [
    {
     "data": {
      "text/plain": [
       "<sqlite3.Cursor at 0x106982c00>"
      ]
     },
     "execution_count": 8,
     "metadata": {},
     "output_type": "execute_result"
    }
   ],
   "source": [
    "conn.execute('drop table nominations')"
   ]
  },
  {
   "cell_type": "markdown",
   "metadata": {},
   "source": [
    "### Rename table\n",
    "- alter 'table1' rename to 'table2' : changes the name of table1 to table2"
   ]
  },
  {
   "cell_type": "code",
   "execution_count": 9,
   "metadata": {
    "collapsed": false
   },
   "outputs": [
    {
     "data": {
      "text/plain": [
       "<sqlite3.Cursor at 0x106982500>"
      ]
     },
     "execution_count": 9,
     "metadata": {},
     "output_type": "execute_result"
    }
   ],
   "source": [
    "conn.execute('alter table nominations_two rename to nominations')"
   ]
  },
  {
   "cell_type": "markdown",
   "metadata": {},
   "source": [
    "Create the 3 tables we need to model the relationship between movies and actors. You need to create the movies and actors tables before creating the movies_actors table for the foreign key references to work.\n",
    "Create the movies table using the following schema:\n",
    "id: primary key, integer type.\n",
    "movie: movie name, text type.\n",
    "Create the actors table using the following schema:\n",
    "id: primary key, integer type.\n",
    "actor: actor's full name, text type.\n",
    "Create the movies_actors join table using the following schema:\n",
    "id: primary key, integer type.\n",
    "movie_id: foreign key reference to movies.id column.\n",
    "actor_id: foreign key reference to actors.id column."
   ]
  },
  {
   "cell_type": "markdown",
   "metadata": {},
   "source": [
    "## Many-to-many setup"
   ]
  },
  {
   "cell_type": "code",
   "execution_count": 14,
   "metadata": {
    "collapsed": false
   },
   "outputs": [
    {
     "data": {
      "text/plain": [
       "<sqlite3.Cursor at 0x106982d50>"
      ]
     },
     "execution_count": 14,
     "metadata": {},
     "output_type": "execute_result"
    }
   ],
   "source": [
    "# create movies table\n",
    "q_movies='''create table movies( id integer primary key, movie text)'''\n",
    "q_actors='''create table actors( id integer primary key, actor text)'''\n",
    "q_movies_actors='''create table movies_actors(id integer primary key, movie_id integer references movies(id),\n",
    "actor_id integer references actors(id))   '''\n",
    "conn.execute(q_movies)\n",
    "conn.execute(q_actors)\n",
    "conn.execute(q_movies_actors)"
   ]
  }
 ],
 "metadata": {
  "kernelspec": {
   "display_name": "Python 2",
   "language": "python",
   "name": "python2"
  },
  "language_info": {
   "codemirror_mode": {
    "name": "ipython",
    "version": 2
   },
   "file_extension": ".py",
   "mimetype": "text/x-python",
   "name": "python",
   "nbconvert_exporter": "python",
   "pygments_lexer": "ipython2",
   "version": "2.7.11"
  }
 },
 "nbformat": 4,
 "nbformat_minor": 0
}
