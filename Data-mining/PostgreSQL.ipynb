{
 "cells": [
  {
   "cell_type": "markdown",
   "metadata": {},
   "source": [
    "# PostgreSQL vs SQLite\n",
    "\n",
    "SQLite:\n",
    "- db is stored in single file, thus portable\n",
    "- implement directly from python\n",
    "- only one process at a time to write to db\n",
    "- optimizations such as caching not available\n",
    "- does not have built in security\n",
    "\n",
    "PostgreSQL:  (python library psycopg2, command line psql)\n",
    "- handles multiple commands\n",
    "- need to commit (just like git) changes or rollback (abandon) them\n",
    "    - conn.autocommit = True/False sets autocommit option\n",
    "- connect format : connect('dbname=<> user=<>')\n",
    "- can create or delete db (create database <> owner <>, drop databse <>) "
   ]
  },
  {
   "cell_type": "markdown",
   "metadata": {},
   "source": [
    "## Connecting to PostgreSQL with psql command line"
   ]
  },
  {
   "cell_type": "markdown",
   "metadata": {},
   "source": [
    "- \\$ psql -- open psql (like vim)  \n",
    "- \\$ \\q -- quit\n",
    "- \\$ create database 'name'\n",
    "- \\$ \\l -- list all available databases.\n",
    "- \\$ \\dt -- list all tables in the current database.\n",
    "- \\$ \\du -- list users."
   ]
  },
  {
   "cell_type": "markdown",
   "metadata": {},
   "source": [
    "## Connecting to a specific database\n",
    "- \\$ psql -d 'dbname'"
   ]
  },
  {
   "cell_type": "markdown",
   "metadata": {},
   "source": [
    "## Creating user\n",
    "- CREATE ROLE 'username' WITH:\n",
    "    - login : allows access to db querying\n",
    "    - password : with password\n",
    "    - createdb : allows to create db\n",
    "    - createuser : allows to create other users\n",
    "    - superuser : assigns as superuser -- can override any permission"
   ]
  },
  {
   "cell_type": "markdown",
   "metadata": {},
   "source": [
    "## Adding permission\n",
    "- GRANT <permission> ON tableName TO userName:\n",
    "    - select\n",
    "    - insert\n",
    "    - update\n",
    "    - delete\n",
    "    - all privileges\n",
    "   \n",
    "\\$ \\dp 'tablename' -- shows what privileges have been granted for the table"
   ]
  },
  {
   "cell_type": "markdown",
   "metadata": {},
   "source": [
    "## Removing permission\n",
    "- REVOKE ON ... FROM userName"
   ]
  }
 ],
 "metadata": {
  "kernelspec": {
   "display_name": "Python 2",
   "language": "python",
   "name": "python2"
  },
  "language_info": {
   "codemirror_mode": {
    "name": "ipython",
    "version": 2
   },
   "file_extension": ".py",
   "mimetype": "text/x-python",
   "name": "python",
   "nbconvert_exporter": "python",
   "pygments_lexer": "ipython2",
   "version": "2.7.11"
  }
 },
 "nbformat": 4,
 "nbformat_minor": 0
}
