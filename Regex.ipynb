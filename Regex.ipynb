{
 "cells": [
  {
   "cell_type": "markdown",
   "metadata": {},
   "source": [
    "## Regex\n",
    "\n",
    "search basics:  \n",
    "- **\\d** digits 0-9\n",
    "- **. (dot)** matches any single character (literal . needs \\ in front)\n",
    "- **[abc]** will match a **single** a, b, or c and nothing else\n",
    "- **^** in front will **not** search for whatever follows  \n",
    "   *(e.g. [^abc] will not search for a or b or c)*\n",
    "- **-** indicates range\n",
    "\n",
    "- **\\w** equivalent to **[A-Za-z0-9]** (alphanumeric)\n",
    "- ** ? ** indicates optionality (literal ? needs \\ in front)  \n",
    "   *(e.g. ab?c will search for \"abc\" or \"ac\" because b is optional)*  \n",
    "   _(note that \\* could also be for optionality b/c 0 is included)_\n",
    "   \n",
    "   \n",
    "- ** ^ ** start\n",
    "- ** $ ** end  \n",
    "   *(they don't need to be written as pairs)*\n",
    "   \n",
    "** captal case means the opposite**\n",
    "\n",
    "whitespace:\n",
    "- ' ' space\n",
    "- **\\t** tab\n",
    "- **\\n** new line\n",
    "- **\\s** matches any whitespaces above\n",
    "  \n",
    "\n",
    "repetition:  \n",
    "- **{#}** is equivalent to searching for # number of times (cannot be inside [])\n",
    "- **{#,#}** specifies range\n",
    "- ** \\* ** Kleene Star : Finds _ALL_ that is 0 or more  \n",
    "   _(e.g. .\\* is 0 or more of any character)_\n",
    "- ** + ** Kleene Plus: Finds _ALL_ that is 1  or more\n",
    "\n",
    "match groups:\n",
    "- ** ( ) ** captures subpatterns  \n",
    "    *(e.g. ^(IMG\\d+).png$ captures only the part before the period)*  \n",
    "    *(nested () is read from left to right)*\n",
    "    \n",
    "conditionals: \n",
    "- ** | ** denotes OR (can do multiple ORs)"
   ]
  },
  {
   "cell_type": "markdown",
   "metadata": {},
   "source": [
    "## Using Regular Expressions in Python\n",
    "\n",
    "**match = re.search(patern, input_string, flags=0)**\n",
    "\n",
    "match.group(0) gives full entire match  \n",
    "match.group(1) gives first sub-match.. 2 gives second.. etc\n",
    "\n",
    "**match = re.findall(pattern, input_string, flags=0)**  \n",
    "**match = re.finditer(pattern, input_string, flags=0)**\n",
    "\n",
    "** replacedString = re.sub(pattern, replacement_pattern, input_string, count, flags=0)**  \n",
    "*ex*  \n",
    "pattern: regex = r'(\\w+)(\\d+)'  \n",
    "replacement pattern: r'\\2 of \\1'  \n",
    "input_string: 'June 24, August 9, Dec12\"  \n",
    "Output: \"24 of June, 9 of August, 12 of Dec\"\n",
    "\n",
    "\n",
    "**flags:**\n",
    "- re.IGNORECASE makes the pattern case insensitive\n",
    "- re.MULTILINE is necessary if the input string has a \\n and allows  ^ and & for every line\n",
    "- re.DOTALL allows the dot (.) match all characters, including \\n\n",
    "\n",
    "**Compiling a pattern for performance**\n",
    "\n",
    "regexObject = re.compile(pattern, flags=0)  \n",
    "regexObject.search(input string)"
   ]
  }
 ],
 "metadata": {
  "kernelspec": {
   "display_name": "Python 2",
   "language": "python",
   "name": "python2"
  },
  "language_info": {
   "codemirror_mode": {
    "name": "ipython",
    "version": 2
   },
   "file_extension": ".py",
   "mimetype": "text/x-python",
   "name": "python",
   "nbconvert_exporter": "python",
   "pygments_lexer": "ipython2",
   "version": "2.7.11"
  }
 },
 "nbformat": 4,
 "nbformat_minor": 0
}
