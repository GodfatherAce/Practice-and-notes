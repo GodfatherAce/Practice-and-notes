{
 "cells": [
  {
   "cell_type": "markdown",
   "metadata": {},
   "source": [
    "## Regex\n",
    "\n",
    "search basics:  \n",
    "- **\\d** digits 0-9\n",
    "- **. (dot)** matches any single character (literal . needs \\ in front)\n",
    "- **[abc]** will match a **single** a, b, or c and nothing else\n",
    "- **^** in front will **not** search for whatever follows  \n",
    "   *(e.g. [^abc] will not search for a or b or c)*\n",
    "- **-** indicates range\n",
    "\n",
    "- **\\w** equivalent to **[A-Za-z0-9]**\n",
    "  \n",
    "\n",
    "repetition:  \n",
    "- **{#}** is equivalent to searching for # number of times (cannot be inside [])\n",
    "- **{#,#}** specifies range\n",
    "- ** \\* ** Kleene Star : Finds _ALL_ that is 0 or more  \n",
    "   _(e.g. .\\* is 0 or more of any character)_\n",
    "- ** + ** Kleene Plus: Finds _ALL_ that is 1  or more\n",
    "  "
   ]
  },
  {
   "cell_type": "code",
   "execution_count": null,
   "metadata": {
    "collapsed": true
   },
   "outputs": [],
   "source": [
    "\n"
   ]
  }
 ],
 "metadata": {
  "kernelspec": {
   "display_name": "Python 2",
   "language": "python",
   "name": "python2"
  },
  "language_info": {
   "codemirror_mode": {
    "name": "ipython",
    "version": 2
   },
   "file_extension": ".py",
   "mimetype": "text/x-python",
   "name": "python",
   "nbconvert_exporter": "python",
   "pygments_lexer": "ipython2",
   "version": "2.7.11"
  }
 },
 "nbformat": 4,
 "nbformat_minor": 0
}
