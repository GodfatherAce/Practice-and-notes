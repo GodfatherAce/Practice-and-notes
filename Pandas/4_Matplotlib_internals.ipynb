{
 "cells": [
  {
   "cell_type": "markdown",
   "metadata": {},
   "source": [
    "# Matplotlib internals\n",
    "\n",
    "- Matplotlib's high-level plotting methods - e.g. .scatter(), .plot()\n",
    "- Seaborn's high-level plotting methods - e.g. .distplot(), .boxplot()\n",
    "- Pandas DataFrame methods - e.g. .hist(), .boxplot()"
   ]
  },
  {
   "cell_type": "markdown",
   "metadata": {},
   "source": [
    "**Figure** is the top level object (instance) that manages the entire plotting area\n",
    "- figsize(w,h)\n",
    "- dpi specifics density (dots per inch)\n",
    "- .add_subplot(nrows, ncols, plot_number) adds individual plots to the Figure instance\n",
    "    - .add_subplot() creates an Axes object takes:\n",
    "        - .set_xlim\n",
    "        - .set_ylim\n",
    "        \n",
    "        \n",
    "plt.figure() - instantiate a new figure  \n",
    ".add_subplot() - add a subplot  \n",
    "plt.show() - display figure  "
   ]
  },
  {
   "cell_type": "code",
   "execution_count": 2,
   "metadata": {
    "collapsed": false
   },
   "outputs": [
    {
     "data": {
      "image/png": "[encoded data removed]",
      "text/plain": [
       "<matplotlib.figure.Figure at 0x105f90a10>"
      ]
     },
     "metadata": {},
     "output_type": "display_data"
    }
   ],
   "source": [
    "import numpy as np\n",
    "import matplotlib.pyplot as plt\n",
    "import pandas as pd\n",
    "%matplotlib inline\n",
    "\n",
    "month = [1,1,2,2,4,5,5,7,8,10,10,11,12,12]\n",
    "temperature = [32,15,40,35,50,55,52,80,85,60,57,45,35,105]\n",
    "\n",
    "fig = plt.figure()\n",
    "ax = fig.add_subplot(1,1,1)\n",
    "ax.set_xlim([np.min(month),np.max(month)])\n",
    "ax.set_ylim([np.min(temperature), np.max(temperature)])\n",
    "ax.set_xlabel('Month')\n",
    "ax.set_ylabel('Temperature')\n",
    "ax.set_title('Year round tempearture')\n",
    "\n",
    "color = 'darkblue'\n",
    "marker = 'o'\n",
    "\n",
    "# run the .scatter() method, params: color, marker\n",
    "ax.scatter(month, temperature, color=color, marker=marker)\n",
    "plt.show()"
   ]
  },
  {
   "cell_type": "markdown",
   "metadata": {},
   "source": [
    "### Multiple subplots"
   ]
  },
  {
   "cell_type": "code",
   "execution_count": 6,
   "metadata": {
    "collapsed": false
   },
   "outputs": [
    {
     "data": {
      "image/png": "[encoded data removed]",
      "text/plain": [
       "<matplotlib.figure.Figure at 0x11d490a50>"
      ]
     },
     "metadata": {},
     "output_type": "display_data"
    }
   ],
   "source": [
    "month_2013 = [1,2,3,4,5,6,7,8,9,10,11,12]\n",
    "temperature_2013 = [32,18,40,40,50,45,52,70,85,60,57,45]\n",
    "month_2014 = [1,2,3,4,5,6,7,8,9,10,11,12]\n",
    "temperature_2014 = [35,28,35,30,40,55,50,71,75,70,67,49]\n",
    "\n",
    "fig=plt.figure()\n",
    "ax1=fig.add_subplot(1,2,1) #not 1,1,1 (because you need 2 columns)\n",
    "ax2=fig.add_subplot(1,2,2)\n",
    "\n",
    "ax1.set(xlim=(0,13), ylim=(10,110), title='2013')\n",
    "ax2.set(xlim=(0,13), ylim=(10,110), title='2014')\n",
    "\n",
    "ax1.scatter(month_2013, temperature_2013, color='darkblue', marker='o')\n",
    "ax2.scatter(month_2014, temperature_2014, color='darkgreen', marker='o')\n",
    "plt.show()"
   ]
  }
 ],
 "metadata": {
  "kernelspec": {
   "display_name": "Python 2",
   "language": "python",
   "name": "python2"
  },
  "language_info": {
   "codemirror_mode": {
    "name": "ipython",
    "version": 2
   },
   "file_extension": ".py",
   "mimetype": "text/x-python",
   "name": "python",
   "nbconvert_exporter": "python",
   "pygments_lexer": "ipython2",
   "version": "2.7.11"
  }
 },
 "nbformat": 4,
 "nbformat_minor": 0
}
