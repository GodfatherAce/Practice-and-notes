{
 "cells": [
  {
   "cell_type": "markdown",
   "metadata": {},
   "source": [
    "## Load data using Pandas"
   ]
  },
  {
   "cell_type": "code",
   "execution_count": 10,
   "metadata": {
    "collapsed": false
   },
   "outputs": [
    {
     "name": "stdout",
     "output_type": "stream",
     "text": [
      "   PassengerId  Survived  Pclass  \\\n",
      "0            1         0       3   \n",
      "1            2         1       1   \n",
      "2            3         1       3   \n",
      "3            4         1       1   \n",
      "4            5         0       3   \n",
      "\n",
      "                                                Name     Sex   Age  SibSp  \\\n",
      "0                            Braund, Mr. Owen Harris    male  22.0      1   \n",
      "1  Cumings, Mrs. John Bradley (Florence Briggs Th...  female  38.0      1   \n",
      "2                             Heikkinen, Miss. Laina  female  26.0      0   \n",
      "3       Futrelle, Mrs. Jacques Heath (Lily May Peel)  female  35.0      1   \n",
      "4                           Allen, Mr. William Henry    male  35.0      0   \n",
      "\n",
      "   Parch            Ticket     Fare Cabin Embarked  \n",
      "0      0         A/5 21171   7.2500   NaN        S  \n",
      "1      0          PC 17599  71.2833   C85        C  \n",
      "2      0  STON/O2. 3101282   7.9250   NaN        S  \n",
      "3      0            113803  53.1000  C123        S  \n",
      "4      0            373450   8.0500   NaN        S  \n",
      "       PassengerId    Survived      Pclass         Age       SibSp  \\\n",
      "count   891.000000  891.000000  891.000000  714.000000  891.000000   \n",
      "mean    446.000000    0.383838    2.308642   29.699118    0.523008   \n",
      "std     257.353842    0.486592    0.836071   14.526497    1.102743   \n",
      "min       1.000000    0.000000    1.000000    0.420000    0.000000   \n",
      "25%     223.500000    0.000000    2.000000   20.125000    0.000000   \n",
      "50%     446.000000    0.000000    3.000000   28.000000    0.000000   \n",
      "75%     668.500000    1.000000    3.000000   38.000000    1.000000   \n",
      "max     891.000000    1.000000    3.000000   80.000000    8.000000   \n",
      "\n",
      "            Parch        Fare  \n",
      "count  891.000000  891.000000  \n",
      "mean     0.381594   32.204208  \n",
      "std      0.806057   49.693429  \n",
      "min      0.000000    0.000000  \n",
      "25%      0.000000    7.910400  \n",
      "50%      0.000000   14.454200  \n",
      "75%      0.000000   31.000000  \n",
      "max      6.000000  512.329200  \n"
     ]
    }
   ],
   "source": [
    "import pandas as pd\n",
    "import numpy as np\n",
    "\n",
    "data = pd.read_csv('train.csv')\n",
    "print (data.head(5))\n",
    "print(data.describe())"
   ]
  },
  {
   "cell_type": "markdown",
   "metadata": {},
   "source": [
    "## Clean data"
   ]
  },
  {
   "cell_type": "code",
   "execution_count": 36,
   "metadata": {
    "collapsed": false
   },
   "outputs": [
    {
     "name": "stdout",
     "output_type": "stream",
     "text": [
      "Age\n",
      "Cabin\n",
      "Embarked\n"
     ]
    }
   ],
   "source": [
    "for column in data.columns:\n",
    "    if np.any(pd.isnull(data[column])) == True:\n",
    "        print(column)"
   ]
  },
  {
   "cell_type": "code",
   "execution_count": 37,
   "metadata": {
    "collapsed": false
   },
   "outputs": [
    {
     "name": "stdout",
     "output_type": "stream",
     "text": [
      "int64\n",
      "int64\n",
      "int64\n",
      "object\n",
      "object\n",
      "float64\n",
      "int64\n",
      "int64\n",
      "object\n",
      "float64\n",
      "object\n",
      "object\n"
     ]
    }
   ],
   "source": [
    "for column in data.columns:\n",
    "    print(data[column].dtype)"
   ]
  },
  {
   "cell_type": "code",
   "execution_count": 38,
   "metadata": {
    "collapsed": false
   },
   "outputs": [
    {
     "name": "stdout",
     "output_type": "stream",
     "text": [
      "Index(['PassengerId', 'Survived', 'Pclass', 'Name', 'Sex', 'Age', 'SibSp',\n",
      "       'Parch', 'Ticket', 'Fare', 'Cabin', 'Embarked'],\n",
      "      dtype='object')\n"
     ]
    }
   ],
   "source": [
    "print (data.columns)"
   ]
  },
  {
   "cell_type": "code",
   "execution_count": 40,
   "metadata": {
    "collapsed": false,
    "scrolled": false
   },
   "outputs": [
    {
     "name": "stdout",
     "output_type": "stream",
     "text": [
      "['S' 'C' 'Q' nan]\n",
      "   PassengerId  Survived  Pclass  \\\n",
      "0            1         0       3   \n",
      "1            2         1       1   \n",
      "2            3         1       3   \n",
      "3            4         1       1   \n",
      "4            5         0       3   \n",
      "5            6         0       3   \n",
      "6            7         0       1   \n",
      "7            8         0       3   \n",
      "8            9         1       3   \n",
      "9           10         1       2   \n",
      "\n",
      "                                                Name Sex   Age  SibSp  Parch  \\\n",
      "0                            Braund, Mr. Owen Harris   0  22.0      1      0   \n",
      "1  Cumings, Mrs. John Bradley (Florence Briggs Th...   1  38.0      1      0   \n",
      "2                             Heikkinen, Miss. Laina   1  26.0      0      0   \n",
      "3       Futrelle, Mrs. Jacques Heath (Lily May Peel)   1  35.0      1      0   \n",
      "4                           Allen, Mr. William Henry   0  35.0      0      0   \n",
      "5                                   Moran, Mr. James   0  28.0      0      0   \n",
      "6                            McCarthy, Mr. Timothy J   0  54.0      0      0   \n",
      "7                     Palsson, Master. Gosta Leonard   0   2.0      3      1   \n",
      "8  Johnson, Mrs. Oscar W (Elisabeth Vilhelmina Berg)   1  27.0      0      2   \n",
      "9                Nasser, Mrs. Nicholas (Adele Achem)   1  14.0      1      0   \n",
      "\n",
      "             Ticket     Fare Cabin Embarked  \n",
      "0         A/5 21171   7.2500   NaN        0  \n",
      "1          PC 17599  71.2833   C85        1  \n",
      "2  STON/O2. 3101282   7.9250   NaN        0  \n",
      "3            113803  53.1000  C123        0  \n",
      "4            373450   8.0500   NaN        0  \n",
      "5            330877   8.4583   NaN        2  \n",
      "6             17463  51.8625   E46        0  \n",
      "7            349909  21.0750   NaN        0  \n",
      "8            347742  11.1333   NaN        0  \n",
      "9            237736  30.0708   NaN        1  \n"
     ]
    }
   ],
   "source": [
    "# fill in the missing values with the median age\n",
    "data[\"Age\"] = data[\"Age\"].fillna(data[\"Age\"].median())\n",
    "\n",
    "# convert female/male to numeric values (male=0, female=1)\n",
    "data.loc[data[\"Sex\"]==\"male\",\"Sex\"]=0\n",
    "data.loc[data[\"Sex\"]==\"female\",\"Sex\"]=1\n",
    "\n",
    "# do the same for Embarked\n",
    "print (data[\"Embarked\"].unique())\n",
    "\n",
    "data[\"Embarked\"] = data[\"Embarked\"].fillna('S')\n",
    "data.loc[data[\"Embarked\"]==\"S\",\"Embarked\"]=0\n",
    "data.loc[data[\"Embarked\"]==\"C\",\"Embarked\"]=1\n",
    "data.loc[data[\"Embarked\"]==\"Q\",\"Embarked\"]=2\n",
    "\n",
    "print (data.head(10))"
   ]
  },
  {
   "cell_type": "markdown",
   "metadata": {},
   "source": [
    "## Perform linear regression"
   ]
  },
  {
   "cell_type": "code",
   "execution_count": 52,
   "metadata": {
    "collapsed": false
   },
   "outputs": [
    {
     "name": "stdout",
     "output_type": "stream",
     "text": [
      "[array([ 0.0996746 ,  0.91740616,  0.60061161,  0.89461785,  0.05397484,\n",
      "        0.16222287,  0.31941786,  0.13257808,  0.53786272,  0.8636526 ,\n",
      "        0.67566075,  0.77673555,  0.14436972, -0.13760462,  0.67289666,\n",
      "        0.60979204,  0.1696783 ,  0.27874109,  0.5425769 ,  0.62119681,\n",
      "        0.24222229,  0.24258314,  0.73283242,  0.46897145,  0.58887444,\n",
      "        0.36092505,  0.12874249,  0.46735193,  0.65442482,  0.09609192,\n",
      "        0.42620824,  1.01045835,  0.65436851,  0.04865121,  0.48995993,\n",
      "        0.35949986,  0.12874432,  0.1383434 ,  0.5886253 ,  0.67502203,\n",
      "        0.48462473,  0.74841435,  0.12903483,  0.87683684,  0.70866175,\n",
      "        0.09615912,  0.13299786,  0.65436851,  0.07045405,  0.62083197,\n",
      "        0.07826405,  0.13823445,  0.85348994,  0.73854073,  0.26141972,\n",
      "        0.46897145,  0.81229018,  0.12573115,  0.82581443, -0.00405221,\n",
      "        0.16490227,  0.92055587,  0.35513787,  0.09443942,  0.49852414,\n",
      "        0.07088378,  0.76407957,  0.15044325,  0.46755246,  0.04389104,\n",
      "        0.25354628,  0.45827048,  0.34729162,  0.11165183,  0.09316677,\n",
      "        0.11406377,  0.09609192,  0.09615912,  0.39132848,  0.57848923,\n",
      "        0.13273109,  0.09076471,  0.65438485,  0.4740268 ,  0.83639548,\n",
      "        0.46499961,  0.06047263,  0.09615912,  0.93570094,  0.12026442]), array([  9.27463677e-02,   1.43766515e-01,   3.45925156e-01,\n",
      "         5.10927554e-02,  -7.77429531e-02,   9.84215954e-02,\n",
      "         2.82165253e-01,   5.52589144e-01,   7.44512317e-01,\n",
      "         2.15865354e-01,   5.96562767e-01,   9.83767830e-02,\n",
      "         5.23821152e-01,   7.02210447e-02,  -3.60150093e-02,\n",
      "         9.83767830e-02,   6.36217929e-01,   9.83416770e-02,\n",
      "         4.16245060e-02,   6.47957705e-01,   3.79245176e-01,\n",
      "         6.77589119e-01,   1.32472962e-01,   6.00863623e-01,\n",
      "         7.05063856e-01,   1.38111863e-01,  -5.45298817e-02,\n",
      "         2.42788432e-01,   6.00433777e-01,   5.63608911e-01,\n",
      "         2.61785777e-01,   9.84215954e-02,   2.69727662e-01,\n",
      "         7.60447836e-01,   3.36538638e-01,   1.92657613e-01,\n",
      "         1.86667296e-01,   1.20858543e-01,   5.92941774e-01,\n",
      "         1.63031640e-03,   1.14167086e-01,   1.43532805e-01,\n",
      "         4.48991087e-01,   7.42427477e-01,   3.04826060e-01,\n",
      "         3.60937492e-01,   1.00820635e+00,   3.94655512e-01,\n",
      "         1.66863385e-01,   5.61846506e-01,   6.22207610e-01,\n",
      "         6.30571762e-01,   5.79913651e-01,   2.37453733e-01,\n",
      "         3.44116736e-01,   2.93789051e-01,   1.04022949e-01,\n",
      "         6.08106444e-01,   2.22681301e-01,   2.08347189e-01,\n",
      "         1.57132099e-01,   9.81893176e-01,  -5.76471664e-02,\n",
      "         8.69809936e-03,   9.82072689e-02,   3.93107617e-01,\n",
      "         7.52951159e-01,   8.70711400e-02,   9.85995953e-02,\n",
      "        -2.37656270e-01,  -3.71419064e-04,   7.18682812e-01,\n",
      "         1.09692132e-01,   1.61027100e-01,   8.38717286e-02,\n",
      "         1.89218710e-01,   9.75803524e-01,   4.22920549e-01,\n",
      "         4.79496790e-01,   1.12500534e-01,   2.94415663e-01,\n",
      "         1.52109338e-01,   6.98744358e-01,   1.38111863e-01,\n",
      "         3.66143309e-01,   1.03126557e-01,  -3.18305422e-02,\n",
      "         8.97804288e-01,   2.76449921e-01]), array([ 0.05583203,  0.22182085,  0.30954049, -0.02118019,  0.30840674,\n",
      "        0.70978138,  0.4545483 ,  0.64897661,  0.35598144,  0.04627719,\n",
      "        0.05880997,  0.76915918,  0.3192757 ,  0.61960953,  0.34035033,\n",
      "        0.91718749,  0.88810429,  0.17496099,  0.00646396,  0.69345586,\n",
      "        0.81138157,  0.10163739, -0.29667402,  0.06883755,  0.04540969,\n",
      "        0.15386851,  0.73684709,  0.03551892,  0.15268763,  0.75678945,\n",
      "        0.42104059,  0.12182456,  0.75634302,  0.13245559,  0.26121991,\n",
      "        0.12755879,  0.97066385,  0.62481604,  0.15576428,  0.99883983,\n",
      "        0.26027702,  0.16442411,  0.2770533 , -0.02029886,  0.10103236,\n",
      "        0.3694543 ,  0.13324761,  0.31833281,  0.14037229,  0.3245535 ,\n",
      "        0.4630766 ,  0.90132163,  0.095709  ,  0.10835231,  0.51842588,\n",
      "        0.29194382,  0.61939681,  0.14483153,  0.85908174,  0.31833281,\n",
      "        0.24511307,  0.61159037,  0.64897661,  0.26555482,  0.13240844,\n",
      "        0.12721558,  0.36436892,  0.63531506,  0.77020539,  0.33973828,\n",
      "        0.09205354,  0.10078879,  0.54694431,  0.26625886,  0.04616881,\n",
      "        0.51381922,  0.61227141,  1.0210479 ,  0.97625372,  1.14746004,\n",
      "        0.65819085,  0.17496099,  0.01048661,  0.2707906 ,  0.37235698,\n",
      "        0.69345586,  0.22861023, -0.03412344,  0.06941799]), array([  8.07273054e-01,   9.60593942e-01,   4.87336546e-01,\n",
      "         1.07229000e-01,   6.85811022e-01,   4.55418202e-01,\n",
      "         6.53221006e-01,   7.17975939e-01,   4.71181140e-01,\n",
      "         2.83530511e-01,   1.05406680e-01,   4.82001661e-01,\n",
      "        -7.58674624e-02,   8.99759700e-02,   1.67711497e-01,\n",
      "         1.48003598e-01,   4.86017320e-01,   9.42452176e-02,\n",
      "         7.75266581e-02,   1.28637591e-01,   1.96775660e-01,\n",
      "         6.91871651e-01,   1.00358791e+00,   1.04114074e+00,\n",
      "         2.71658177e-01,   6.06748627e-01,   1.15754043e-01,\n",
      "         5.22736197e-01,   1.55063903e-01,   1.11061252e+00,\n",
      "         4.87204623e-01,   9.19888929e-01,   6.53221006e-01,\n",
      "         7.25056718e-02,   1.45879645e-01,   8.50061528e-01,\n",
      "         9.00276309e-02,   6.26826812e-01,   1.03542105e+00,\n",
      "         1.05872622e+00,   2.66213044e-01,   1.00830197e+00,\n",
      "         1.05387303e+00,   1.02601857e+00,   7.37121573e-01,\n",
      "         8.99869460e-02,   1.36934550e-01,   5.93602342e-01,\n",
      "         7.59869351e-01,   1.19738215e-01,   9.74345671e-01,\n",
      "         9.07455622e-01,   1.28467200e-01,   9.64287202e-02,\n",
      "         8.37177979e-01,   7.63680205e-01,  -2.89722792e-01,\n",
      "         9.90417020e-01,  -1.23029136e-01,   7.26169129e-01,\n",
      "         5.07841316e-01,   1.08889961e+00,   5.63248495e-01,\n",
      "         3.73945885e-01,   4.45365714e-01,   7.58920700e-02,\n",
      "         9.58132021e-01,   8.99869460e-02,   4.43256605e-01,\n",
      "         9.57909133e-01,  -1.94825300e-02,   3.79013688e-01,\n",
      "         4.00981330e-01,   9.04236922e-01,   2.86960499e-01,\n",
      "         3.06285821e-01,   2.35426305e-01,   8.03470419e-01,\n",
      "         7.00402032e-01,   5.35863353e-01,   1.96247885e-01,\n",
      "         4.39764561e-06,   1.22546520e-01,   4.88391927e-01,\n",
      "         1.52923699e-01,   6.48943887e-02,   1.26074811e-01,\n",
      "         9.04102064e-02,   1.01319807e+00]), array([ 0.71816246,  0.68724235,  0.68724235, -0.07557267,  0.26962535,\n",
      "        0.53104812,  0.05760133,  0.14193841,  0.0875417 ,  0.78243514,\n",
      "        0.64720854,  0.68718209,  1.03541035,  0.47411923,  0.11797175,\n",
      "        0.15357842,  0.57027974,  0.62256731,  0.97668436,  0.64330409,\n",
      "        0.53971655,  0.18545659,  0.15345016,  1.00175634,  0.776253  ,\n",
      "        0.07591768,  0.88109623,  0.09978174,  0.35776074,  0.03879135,\n",
      "        0.7301013 ,  0.17916535,  0.8827845 ,  0.36273468,  0.14152103,\n",
      "        0.01809293,  1.02103832,  0.59967267,  0.13555161,  0.58986112,\n",
      "        0.16846322,  0.2985307 ,  0.7776934 ,  0.03413176,  0.11179249,\n",
      "        0.60962326,  0.06264033,  0.65590171,  0.19691305, -0.03758288,\n",
      "        0.36286561,  0.14151132,  0.47538013,  0.09978174,  0.17875917,\n",
      "        0.99021943,  0.26378645,  0.00428467,  0.6078607 ,  0.69223363,\n",
      "        0.80145079,  0.25791076,  0.68671917,  0.1395124 ,  0.22095319,\n",
      "        0.09380262,  0.55192109,  0.10631915,  0.09948054,  0.74306858,\n",
      "        0.83764455,  0.17917505,  0.07597598,  0.44385655,  0.57076397,\n",
      "        0.65949672,  0.16508584,  0.28536686,  1.00206892,  0.54412205,\n",
      "        0.66856363,  0.22618557,  0.25077536,  0.62365505,  0.14828528,\n",
      "        0.07678244,  0.77785664,  0.09988281,  0.57681813]), array([ 0.85106827,  0.41502424,  0.68218007,  0.30962396,  0.15314139,\n",
      "        0.06475745,  0.47988269,  0.35104539,  0.10294108,  0.13740601,\n",
      "        0.23040549,  0.92116273,  0.64522728,  0.18378564,  0.33164803,\n",
      "        0.06720842,  0.3430421 ,  0.15578313,  0.10294108,  0.04293153,\n",
      "        0.2689755 ,  0.28400448,  0.18377426,  0.70749071,  0.10257699,\n",
      "        0.04366541,  0.67350055,  0.84801291,  0.64198009,  0.46233958,\n",
      "        0.19919315,  0.05292151,  0.1384329 ,  0.74359754, -0.02147268,\n",
      "        0.2689755 , -0.02807867,  0.39769313,  0.49487489,  0.46393277,\n",
      "        0.89683158,  0.31401775,  0.0910302 ,  0.15745361,  0.06475745,\n",
      "        0.14426509,  0.29175763,  0.24561018,  0.14462919,  0.14634814,\n",
      "        0.8188287 ,  0.10614964,  0.94718544,  0.12664717,  0.16872972,\n",
      "        0.72796658,  0.6862235 ,  0.55253466,  1.0519992 ,  0.54467351,\n",
      "        0.7163112 ,  0.4507569 ,  0.10952887,  0.13690039,  0.1778302 ,\n",
      "        0.10294108,  0.40299388,  0.81024218,  0.12651063,  0.34100355,\n",
      "        0.74051438,  0.19124953,  0.69205068,  0.07904913,  0.9718088 ,\n",
      "        0.13860356,  0.14305616,  0.89415063,  0.14305807,  0.1093426 ,\n",
      "        0.64522728,  0.53960866,  0.03737432,  0.19816589,  0.8759293 ,\n",
      "        0.14305807,  0.1463544 ,  0.61522348,  0.59380179]), array([ 0.88652182,  0.32635497,  1.0004759 ,  0.10120525,  1.00488884,\n",
      "        0.89501575,  0.53203846,  0.52016279,  0.19684599,  0.32345081,\n",
      "        0.21328547,  0.78615722,  0.29775567,  0.01953611,  0.33567603,\n",
      "        0.55042745,  0.27268419,  0.17124509,  0.17005714,  0.64588743,\n",
      "        0.22541175,  0.81699759,  0.55541042,  0.84357071,  0.52099426,\n",
      "        0.17120901,  0.02694207,  0.26105084,  0.09826636,  0.61038571,\n",
      "        0.03705551,  0.15163663,  0.57607788,  0.13443204,  0.0744258 ,\n",
      "        0.05779747,  0.71003238,  0.37972145,  0.68332836,  0.1695204 ,\n",
      "        0.15464578,  0.73731535,  0.8413254 ,  0.60369626,  0.07445806,\n",
      "        0.74377659,  0.89434157,  0.11236261,  0.4225205 ,  0.13510789,\n",
      "        1.00583811,  0.14891541,  0.24309142,  0.13389338,  0.09826636,\n",
      "        0.05628004,  0.8108644 , -0.01491704,  0.666176  ,  0.16715681,\n",
      "        0.0033743 ,  0.7820552 , -0.03009612,  0.13443013,  0.3068363 ,\n",
      "        0.70219848,  0.0981961 ,  0.4345201 ,  0.00326098,  0.422273  ,\n",
      "        0.00803197,  0.08632043,  0.43503581,  0.79482955,  0.92599011,\n",
      "        0.46662187,  0.09781072,  0.64071057,  0.17120901,  0.05670151,\n",
      "        0.7570857 ,  0.01080747,  0.57978029,  0.82642291,  0.27155958,\n",
      "        0.09751287,  0.30986806,  0.13108818,  0.139742  ]), array([  1.36637475e-01,   2.34062126e-01,   1.79991231e-01,\n",
      "         1.00425135e+00,   1.04531379e-01,   1.87976919e-01,\n",
      "         1.14856363e-01,  -5.21038550e-02,   4.63480626e-01,\n",
      "         4.37579557e-01,   5.97778685e-01,   7.80949899e-01,\n",
      "         6.69613356e-02,   2.06444519e-01,   5.55230793e-01,\n",
      "         4.58238821e-02,   1.42100221e-01,   1.03261831e+00,\n",
      "         6.41613706e-01,   9.67186738e-02,   7.38320871e-01,\n",
      "         3.20789467e-01,   1.48366400e-01,   3.13673858e-01,\n",
      "         9.19735639e-02,   6.38563302e-01,   9.20070879e-02,\n",
      "         8.49794920e-01,   1.35894217e-01,   7.03265226e-01,\n",
      "         7.65782059e-01,   2.02627574e-01,   9.20070879e-02,\n",
      "         6.37235827e-01,   2.96981618e-01,   3.19197761e-01,\n",
      "         2.18812067e-01,   6.47890994e-02,   3.21079399e-01,\n",
      "         4.18711432e-02,   9.51285130e-02,   1.52530408e-01,\n",
      "         2.84457327e-01,   9.19953768e-02,  -1.91014971e-03,\n",
      "         9.10921198e-01,   6.66600280e-01,   3.76855751e-01,\n",
      "         2.41840102e-03,   2.46884452e-01,   2.64410589e-01,\n",
      "         1.54616835e-01,   1.13939547e-01,   6.70096203e-01,\n",
      "         5.01681255e-01,   4.90397659e-01,   7.03295114e-01,\n",
      "         4.99273101e-01,   1.42233115e-01,  -4.09262192e-02,\n",
      "         2.60783551e-02,   2.98750395e-01,   9.90270457e-05,\n",
      "         1.48586953e-01,   1.54618851e-01,   1.06000893e+00,\n",
      "         3.77340482e-01,   8.11359720e-01,   9.67186738e-02,\n",
      "         1.58721286e-01,   2.39764814e-01,   1.15427864e-01,\n",
      "        -8.17229549e-03,   7.03255928e-01,   3.23092533e-01,\n",
      "         4.31321759e-03,   1.03855193e+00,   3.96293010e-01,\n",
      "         7.23790261e-01,   2.06764171e-01,   5.75487746e-02,\n",
      "         1.98047587e-01,   6.74541894e-01,   3.52457990e-01,\n",
      "         1.00512364e+00,   9.89879642e-02,   1.03069919e+00,\n",
      "         4.40153479e-01,   2.70399273e-01]), array([ 0.09662836,  0.15240232,  0.15067677,  0.98666786,  0.78218406,\n",
      "        0.20055908,  0.07461178,  0.87941122,  0.12406957,  0.25022631,\n",
      "        0.16327165,  0.43761231,  0.14540682,  0.65544949,  0.69361803,\n",
      "        0.26387365,  0.57505572,  0.98418774,  0.24472464,  0.28071936,\n",
      "        0.31000763,  0.31000763,  0.10042215,  0.39267757,  0.55498429,\n",
      "        0.10180476,  0.10180476,  0.46579915,  0.39288953,  0.96884505,\n",
      "        0.08749855,  0.08550551,  0.18627248,  0.11108973,  0.76628678,\n",
      "        0.48108964,  0.18299425,  0.85127407,  0.20155108,  0.07489241,\n",
      "        0.12897809,  0.59842035,  0.37366685,  0.10178849,  0.33693693,\n",
      "        0.06922185,  0.9421395 ,  0.10287918,  0.0310287 ,  0.19393225,\n",
      "        0.85278334,  0.1670011 ,  0.80554628,  0.51611956,  0.6800334 ,\n",
      "        0.16458674,  0.08014202,  0.12380441, -0.00689533,  0.61914408,\n",
      "        0.15045423,  0.53841815,  0.1561277 ,  0.19929825,  0.72186887,\n",
      "        0.19929622,  0.8875411 ,  0.72629672,  0.98691527,  0.46036448,\n",
      "        0.02583303,  0.11797116,  0.11800369,  0.65040816,  0.14138933,\n",
      "        0.17210128,  0.42473802,  0.19929825,  0.35016524,  0.26599757,\n",
      "        0.51467095,  0.11810876,  0.22305298,  0.8453307 ,  0.57995069,\n",
      "        0.13958559,  0.5299607 ,  0.25022631,  0.70506682]), array([ 0.49342921,  0.2673547 ,  0.10517159,  0.08289757,  0.38238223,\n",
      "        0.67180978,  0.21247488,  0.90669303,  0.11102235,  0.04209816,\n",
      "        0.23431758,  0.55224876,  0.08577697,  0.44419395,  0.6437516 ,\n",
      "        0.23721254,  0.01513044,  0.05179238,  0.79117801,  0.10559973,\n",
      "        0.38800148,  0.60342965,  0.07999749,  0.16240946,  0.11211646,\n",
      "        0.42552948,  0.16261243,  0.78929865,  0.68305497,  0.37068215,\n",
      "        0.13104857,  0.12787164,  0.15608099,  0.89303612,  0.13931521,\n",
      "        0.09982509,  0.08963947,  0.48316098,  0.14474735,  0.34108328,\n",
      "        0.98811431,  0.09432259,  0.1617922 ,  0.02102877, -0.23248131,\n",
      "        0.09188296,  0.26036152,  0.97535576,  0.04762526, -0.15873006,\n",
      "        0.69797193,  1.01848388,  0.66480004,  0.65321002,  0.84861946,\n",
      "        0.32168737,  0.61544142,  0.13104857, -0.04916582,  0.27450187,\n",
      "        0.8542496 ,  0.28338069,  0.29676359,  0.71147913,  0.78867845,\n",
      "        0.44014769,  0.10019297,  0.17773105,  0.11102446,  0.80888573,\n",
      "        0.41736628, -0.00669958,  0.78563229,  0.71995971,  0.14523468,\n",
      "        0.15035919,  0.09978596,  0.8362478 ,  0.79130526,  0.07168973,\n",
      "        0.6500284 ,  0.27365231,  0.11642911,  0.52708903,  0.27990585,\n",
      "        1.01824059,  0.54285667,  0.49447559,  0.14013544])]\n",
      "(10,)\n"
     ]
    }
   ],
   "source": [
    "# import linear regression and kfold from sklearn\n",
    "from sklearn.linear_model import LinearRegression\n",
    "from sklearn.cross_validation import KFold\n",
    "\n",
    "# columns we'll use to predict outcome\n",
    "predictors = [\"Pclass\",\"Sex\",\"Age\",\"SibSp\",\"Parch\",\"Fare\",\"Embarked\"]\n",
    "\n",
    "# instantiate the model\n",
    "linreg = LinearRegression()\n",
    "\n",
    "# generate cross-validation folds\n",
    "kf = KFold(data.shape[0], n_folds=10)\n",
    "\n",
    "predictions = []\n",
    "for train, test in kf:\n",
    "    # load X and y\n",
    "    train_predictors = (data[predictors].iloc[train,:])\n",
    "    train_target = data[\"Survived\"].iloc[train]\n",
    "    \n",
    "    # fit the data\n",
    "    linreg.fit(train_predictors, train_target)\n",
    "    \n",
    "    # cross-validate\n",
    "    test_pred = linreg.predict(data[predictors].iloc[test,:])\n",
    "    predictions.append(test_pred)\n",
    "\n",
    "print (predictions) #(10 folds 891/10 test observations)\n",
    "print(np.shape(predictions))"
   ]
  },
  {
   "cell_type": "markdown",
   "metadata": {},
   "source": [
    "**Check accuracy**"
   ]
  },
  {
   "cell_type": "code",
   "execution_count": 53,
   "metadata": {
    "collapsed": false
   },
   "outputs": [
    {
     "name": "stdout",
     "output_type": "stream",
     "text": [
      "0.789001122334\n"
     ]
    },
    {
     "name": "stderr",
     "output_type": "stream",
     "text": [
      "/Users/hyunjoohwang/anaconda3/lib/python3.5/site-packages/ipykernel/__main__.py:8: FutureWarning: in the future, boolean array-likes will be handled as a boolean array index\n"
     ]
    }
   ],
   "source": [
    "# concatenate all 10 folds of 89 test observations\n",
    "prediction = np.concatenate(predictions, axis=0) \n",
    "\n",
    "# map the predictions to outcomes\n",
    "prediction[prediction > 0.5] = 1\n",
    "prediction[prediction <= 0.5] = 0\n",
    "\n",
    "accuracy = sum (prediction[prediction == data[\"Survived\"]]) / len(prediction)\n",
    "print (accuracy)"
   ]
  },
  {
   "cell_type": "markdown",
   "metadata": {},
   "source": [
    "## LogisticRegression for better accuracy"
   ]
  },
  {
   "cell_type": "code",
   "execution_count": 55,
   "metadata": {
    "collapsed": false
   },
   "outputs": [
    {
     "name": "stdout",
     "output_type": "stream",
     "text": [
      "0.79354102826\n"
     ]
    }
   ],
   "source": [
    "from sklearn.linear_model import LogisticRegression\n",
    "\n",
    "# instantiate the model\n",
    "logreg=LogisticRegression()\n",
    "\n",
    "from sklearn.cross_validation import cross_val_score\n",
    "print (cross_val_score(logreg, data[predictors], data[\"Survived\"], cv=10, scoring='accuracy').mean())"
   ]
  },
  {
   "cell_type": "markdown",
   "metadata": {},
   "source": [
    "## Test the data on a testing set (specifically for Kaggle)"
   ]
  },
  {
   "cell_type": "code",
   "execution_count": 61,
   "metadata": {
    "collapsed": false
   },
   "outputs": [
    {
     "name": "stdout",
     "output_type": "stream",
     "text": [
      "     PassengerId  Survived\n",
      "0            892         0\n",
      "1            893         0\n",
      "2            894         0\n",
      "3            895         0\n",
      "4            896         1\n",
      "5            897         0\n",
      "6            898         1\n",
      "7            899         0\n",
      "8            900         1\n",
      "9            901         0\n",
      "10           902         0\n",
      "11           903         0\n",
      "12           904         1\n",
      "13           905         0\n",
      "14           906         1\n",
      "15           907         1\n",
      "16           908         0\n",
      "17           909         0\n",
      "18           910         1\n",
      "19           911         1\n",
      "20           912         0\n",
      "21           913         0\n",
      "22           914         1\n",
      "23           915         1\n",
      "24           916         1\n",
      "25           917         0\n",
      "26           918         1\n",
      "27           919         0\n",
      "28           920         0\n",
      "29           921         0\n",
      "..           ...       ...\n",
      "388         1280         0\n",
      "389         1281         0\n",
      "390         1282         1\n",
      "391         1283         1\n",
      "392         1284         0\n",
      "393         1285         0\n",
      "394         1286         0\n",
      "395         1287         1\n",
      "396         1288         0\n",
      "397         1289         1\n",
      "398         1290         0\n",
      "399         1291         0\n",
      "400         1292         1\n",
      "401         1293         0\n",
      "402         1294         1\n",
      "403         1295         1\n",
      "404         1296         0\n",
      "405         1297         0\n",
      "406         1298         0\n",
      "407         1299         0\n",
      "408         1300         1\n",
      "409         1301         1\n",
      "410         1302         1\n",
      "411         1303         1\n",
      "412         1304         1\n",
      "413         1305         0\n",
      "414         1306         1\n",
      "415         1307         0\n",
      "416         1308         0\n",
      "417         1309         0\n",
      "\n",
      "[418 rows x 2 columns]\n"
     ]
    }
   ],
   "source": [
    "test = pd.read_csv('test.csv')\n",
    "\n",
    "# clean data\n",
    "test[\"Age\"] = test[\"Age\"].fillna(data[\"Age\"].median())\n",
    "\n",
    "test.loc[test[\"Sex\"]==\"male\",\"Sex\"]=0\n",
    "test.loc[test[\"Sex\"]==\"female\",\"Sex\"]=1\n",
    "\n",
    "test[\"Embarked\"] = test[\"Embarked\"].fillna('S')\n",
    "test.loc[test[\"Embarked\"]==\"S\",\"Embarked\"]=0\n",
    "test.loc[test[\"Embarked\"]==\"C\",\"Embarked\"]=1\n",
    "test.loc[test[\"Embarked\"]==\"Q\",\"Embarked\"]=2\n",
    "\n",
    "test[\"Fare\"] = test[\"Fare\"].fillna(test[\"Fare\"].median())\n",
    "\n",
    "logreg.fit(data[predictors],data[\"Survived\"])\n",
    "\n",
    "prediction = logreg.predict(test[predictors])\n",
    "\n",
    "\n",
    "# Create a new dataframe with only the columns Kaggle wants from the dataset.\n",
    "submission = pd.DataFrame({\n",
    "        \"PassengerId\": test[\"PassengerId\"],\n",
    "        \"Survived\": prediction\n",
    "    })\n",
    "\n",
    "print (submission)\n",
    "#write to a csv file\n",
    "submission.to_csv(\"submission.csv\", index=False)"
   ]
  },
  {
   "cell_type": "markdown",
   "metadata": {},
   "source": [
    "## Logistic Regression -- random forests\n",
    "Average of many decision trees"
   ]
  },
  {
   "cell_type": "code",
   "execution_count": null,
   "metadata": {
    "collapsed": false
   },
   "outputs": [],
   "source": [
    "from sklearn.ensemble import RandomForestClassifier\n",
    "\n",
    "# Initialize our algorithm with the default paramters\n",
    "# n_estimators is the number of trees we want to make\n",
    "# min_samples_split is the minimum number of rows we need to make a split\n",
    "# min_samples_leaf is the minimum number of samples we can have \n",
    "#  at the place where a tree branch ends (the bottom points of the tree)\n",
    "ranforest = RandomForestClassifier(random_state=1, n_estimators=10, min_samples_split=2, min_samples_leaf=1)\n",
    "prediction = cross_val_score(ranforest, data[predictors], data[\"Survived\"], cv=3)\n",
    "print prediction.mean()"
   ]
  },
  {
   "cell_type": "markdown",
   "metadata": {},
   "source": [
    "- Having more trees will **increase** the accuracy\n",
    "- *increasing* min_samples_spplit and min_samples_leaf will **reduce** overfitting by creating a less deep tree"
   ]
  },
  {
   "cell_type": "code",
   "execution_count": null,
   "metadata": {
    "collapsed": false,
    "scrolled": true
   },
   "outputs": [],
   "source": [
    "ranforest = RandomForestClassifier(random_state=1, n_estimators=150, min_samples_split=4, min_samples_leaf=2)\n",
    "prediction = cross_val_score(ranforest, data[predictors], data[\"Survived\"], cv=3)\n",
    "print prediction.mean()"
   ]
  },
  {
   "cell_type": "markdown",
   "metadata": {},
   "source": [
    "**Creating new features**\n",
    "- Namelength : could be correlated with their wealth, and thus their position in the Titanic\n",
    "- Total family members : sibsp+parch"
   ]
  },
  {
   "cell_type": "code",
   "execution_count": null,
   "metadata": {
    "collapsed": false
   },
   "outputs": [],
   "source": [
    "# Generating a familysize column\n",
    "data[\"FamilySize\"] = data[\"SibSp\"] + data[\"Parch\"]\n",
    "\n",
    "# The .apply method generates a new series (for pands)\n",
    "data[\"NameLength\"] = data[\"Name\"].apply(lambda x: len(x))\n",
    "\n",
    "#print map(lambda x: len(x), data[\"Name\"])"
   ]
  },
  {
   "cell_type": "markdown",
   "metadata": {},
   "source": [
    "**Using regular expression to map titles to numeric values**"
   ]
  },
  {
   "cell_type": "code",
   "execution_count": null,
   "metadata": {
    "collapsed": false
   },
   "outputs": [],
   "source": [
    "import re\n",
    "\n",
    "# A function to get the title from a name.\n",
    "def get_title(name):\n",
    "    # Use a regular expression to search for a title.\n",
    "    #  Titles always consist of capital and lowercase letters, and end with a period.\n",
    "    title_search = re.search(' ([A-Za-z]+)\\.', name)\n",
    "    # If the title exists, extract and return it.\n",
    "    if title_search:\n",
    "        return title_search.group(1)\n",
    "    return \"\"\n",
    "\n",
    "# Get all the titles and print how often each one occurs.\n",
    "titles = data[\"Name\"].apply(get_title)\n",
    "print(pd.value_counts(titles))\n",
    "\n",
    "# Map each title to an integer.  Some titles are very rare, and are compressed into the same codes as other titles.\n",
    "title_mapping = {\"Mr\": 1, \"Miss\": 2, \"Mrs\": 3, \"Master\": 4, \"Dr\": 5, \\\n",
    "                 \"Rev\": 6, \"Major\": 7, \"Col\": 7, \"Mlle\": 8, \"Mme\": 8,\\\n",
    "                 \"Don\": 9, \"Lady\": 10, \"Countess\": 10, \"Jonkheer\": 10, \"Sir\": 9, \"Capt\": 7, \"Ms\": 2}\n",
    "for k,v in title_mapping.items():\n",
    "    titles[titles == k] = v\n",
    "\n",
    "# Verify that we converted everything.\n",
    "print(pd.value_counts(titles))\n",
    "\n",
    "# Add in the title column.\n",
    "data[\"Title\"] = titles"
   ]
  },
  {
   "cell_type": "code",
   "execution_count": null,
   "metadata": {
    "collapsed": false
   },
   "outputs": [],
   "source": [
    "import operator\n",
    "\n",
    "# A dictionary mapping family name to id\n",
    "family_id_mapping = {}\n",
    "\n",
    "# A function to get the id given a row\n",
    "def get_family_id(row):\n",
    "    # Find the last name by splitting on a comma\n",
    "    last_name = row[\"Name\"].split(\",\")[0]\n",
    "    # Create the family id\n",
    "    family_id = \"{0}{1}\".format(last_name, row[\"FamilySize\"])\n",
    "    # Look up the id in the mapping\n",
    "    if family_id not in family_id_mapping:\n",
    "        if len(family_id_mapping) == 0:\n",
    "            current_id = 1\n",
    "        else:\n",
    "            # Get the maximum id from the mapping and add one to it if we don't have an id\n",
    "            current_id = (max(family_id_mapping.items(), key=operator.itemgetter(1))[1] + 1)\n",
    "        family_id_mapping[family_id] = current_id\n",
    "    return family_id_mapping[family_id]\n",
    "\n",
    "# Get the family ids with the apply method\n",
    "family_ids = data.apply(get_family_id, axis=1)\n",
    "\n",
    "# There are a lot of family ids, so we'll compress all of the families under 3 members into one code.\n",
    "family_ids[data[\"FamilySize\"] < 3] = -1\n",
    "\n",
    "# Print the count of each unique id.\n",
    "print(pd.value_counts(family_ids))\n",
    "\n",
    "data[\"FamilyId\"] = family_ids"
   ]
  },
  {
   "cell_type": "markdown",
   "metadata": {},
   "source": [
    "## Feature Engineering using SelectKBest"
   ]
  },
  {
   "cell_type": "code",
   "execution_count": null,
   "metadata": {
    "collapsed": true
   },
   "outputs": [],
   "source": [
    "%matplotlib inline\n",
    "import matplotlib.pyplot as plt"
   ]
  },
  {
   "cell_type": "code",
   "execution_count": null,
   "metadata": {
    "collapsed": false
   },
   "outputs": [],
   "source": [
    "from sklearn.feature_selection import SelectKBest, f_classif\n",
    "\n",
    "predictors = [\"Pclass\", \"Sex\", \"Age\", \"SibSp\", \"Parch\", \"Fare\", \"Embarked\", \"FamilySize\", \"Title\", \"FamilyId\"]\n",
    "\n",
    "# Perform feature selection\n",
    "selector = SelectKBest(f_classif, k=5)\n",
    "selector.fit(data[predictors], data[\"Survived\"])\n",
    "\n",
    "# Get the raw p-values for each feature, and transform from p-values into scores\n",
    "scores = -np.log10(selector.pvalues_)\n",
    "\n",
    "# Plot the scores.  See how \"Pclass\", \"Sex\", \"Title\", and \"Fare\" are the best?\n",
    "plt.bar(range(len(predictors)), scores)\n",
    "plt.xticks(range(len(predictors)), predictors, rotation='vertical')\n",
    "plt.show()\n",
    "\n",
    "# Pick only the four best features.\n",
    "predictors = [\"Pclass\", \"Sex\", \"Fare\", \"Title\"]\n",
    "\n",
    "ranforest = RandomForestClassifier(random_state=1, n_estimators=150, min_samples_split=8, min_samples_leaf=4)\n",
    "prediction = cross_val_score(ranforest, data[predictors], data[\"Survived\"], cv=10)\n",
    "print prediction.mean()"
   ]
  }
 ],
 "metadata": {
  "anaconda-cloud": {},
  "kernelspec": {
   "display_name": "Python [conda root]",
   "language": "python",
   "name": "conda-root-py"
  },
  "language_info": {
   "codemirror_mode": {
    "name": "ipython",
    "version": 3
   },
   "file_extension": ".py",
   "mimetype": "text/x-python",
   "name": "python",
   "nbconvert_exporter": "python",
   "pygments_lexer": "ipython3",
   "version": "3.5.2"
  }
 },
 "nbformat": 4,
 "nbformat_minor": 0
}
