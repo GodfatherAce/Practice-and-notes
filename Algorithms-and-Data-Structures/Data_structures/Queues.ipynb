{
 "cells": [
  {
   "cell_type": "markdown",
   "metadata": {},
   "source": [
    "# Queue\n",
    "\n",
    "A queue is an ordered collection of items where items comes in from rear and move out at the other end, called the front.\n",
    "\n",
    "item in --> (rear)~items~(front) --> item out\n",
    "![](queue.png)"
   ]
  },
  {
   "cell_type": "markdown",
   "metadata": {},
   "source": [
    "** implementing a queue using lists in python is slow (due to the insert operation), but we will practice **"
   ]
  },
  {
   "cell_type": "code",
   "execution_count": 17,
   "metadata": {
    "collapsed": false
   },
   "outputs": [
    {
     "name": "stdout",
     "output_type": "stream",
     "text": [
      "[bye,hi]\n",
      "hi\n",
      "[bye]\n"
     ]
    }
   ],
   "source": [
    "class Queue():\n",
    "    \"\"\"creates a queue\"\"\"\n",
    "    def __init__(self):\n",
    "        self.items = []\n",
    "    def enqueue(self, item):\n",
    "        self.items.insert(0, item)\n",
    "    def dequeue(self):\n",
    "        return self.items.pop()\n",
    "    def size(self):\n",
    "        return len(self.items)\n",
    "    def isEmpty(self):\n",
    "        return self.items == []\n",
    "    def __str__(self):\n",
    "        return '['+\",\".join(self.items)+']'\n",
    "    \n",
    "q = Queue()\n",
    "q.enqueue('hi')\n",
    "q.enqueue('bye')\n",
    "print(q)\n",
    "print(q.dequeue())\n",
    "print(q)"
   ]
  },
  {
   "cell_type": "markdown",
   "metadata": {},
   "source": [
    "## Deque: faster python library that implements queue\n",
    "\n",
    "stands for \"double-ended queue\":\n",
    "- .pop()\n",
    "- .popleft()\n",
    "- .append()\n",
    "- .appendleft()\n",
    "- etc.."
   ]
  },
  {
   "cell_type": "code",
   "execution_count": 19,
   "metadata": {
    "collapsed": false
   },
   "outputs": [
    {
     "name": "stdout",
     "output_type": "stream",
     "text": [
      "deque(['hi', 'bye'])\n",
      "deque(['hi', 'bye', 'dog'])\n",
      "deque(['bye', 'dog'])\n"
     ]
    }
   ],
   "source": [
    "from collections import deque\n",
    "\n",
    "q = deque(['hi','bye'])\n",
    "print(q)\n",
    "q.append('dog')\n",
    "print(q)\n",
    "q.popleft()\n",
    "print(q)"
   ]
  },
  {
   "cell_type": "code",
   "execution_count": 20,
   "metadata": {
    "collapsed": false
   },
   "outputs": [
    {
     "name": "stdout",
     "output_type": "stream",
     "text": [
      "deque(['hi', 'bye'])\n",
      "deque(['dog', 'hi', 'bye'])\n",
      "deque(['dog', 'hi'])\n"
     ]
    }
   ],
   "source": [
    "q = deque(['hi','bye'])\n",
    "print(q)\n",
    "q.appendleft('dog')\n",
    "print(q)\n",
    "q.pop()\n",
    "print(q)"
   ]
  },
  {
   "cell_type": "markdown",
   "metadata": {},
   "source": [
    "## Palindrome checker using deque"
   ]
  },
  {
   "cell_type": "code",
   "execution_count": 28,
   "metadata": {
    "collapsed": false
   },
   "outputs": [
    {
     "name": "stdout",
     "output_type": "stream",
     "text": [
      "True\n",
      "False\n"
     ]
    }
   ],
   "source": [
    "from collections import deque\n",
    "\n",
    "def isPalindrome(inpstr):\n",
    "    \"\"\"Returns true is string is a palindrome, else returns false\"\"\"\n",
    "    q1 = deque()\n",
    "    q2 = deque()\n",
    "    strlist = inpstr.split()\n",
    "    for char in inpstr:\n",
    "        q1.append(char) #appends from right\n",
    "        q2.appendleft(char) #appends from right\n",
    "    if q1 == q2:\n",
    "        return True\n",
    "    else:\n",
    "        return False\n",
    "print(isPalindrome('madam'))\n",
    "print(isPalindrome('Jennifer'))"
   ]
  }
 ],
 "metadata": {
  "anaconda-cloud": {},
  "kernelspec": {
   "display_name": "Python [conda root]",
   "language": "python",
   "name": "conda-root-py"
  },
  "language_info": {
   "codemirror_mode": {
    "name": "ipython",
    "version": 3
   },
   "file_extension": ".py",
   "mimetype": "text/x-python",
   "name": "python",
   "nbconvert_exporter": "python",
   "pygments_lexer": "ipython3",
   "version": "3.5.2"
  }
 },
 "nbformat": 4,
 "nbformat_minor": 1
}
