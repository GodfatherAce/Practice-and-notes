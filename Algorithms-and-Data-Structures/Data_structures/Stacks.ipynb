{
 "cells": [
  {
   "cell_type": "markdown",
   "metadata": {},
   "source": [
    "# Linear data structures"
   ]
  },
  {
   "cell_type": "markdown",
   "metadata": {},
   "source": [
    "## Stack"
   ]
  },
  {
   "cell_type": "code",
   "execution_count": 64,
   "metadata": {
    "collapsed": true
   },
   "outputs": [],
   "source": [
    "class Stack():\n",
    "    \"\"\"Instantiates a stack\"\"\"\n",
    "    def __init__(self):\n",
    "        self.items = []\n",
    "    \n",
    "    def isEmpty(self):\n",
    "        return self.items == []\n",
    "    \n",
    "    def push(self, item):\n",
    "        self.items.append(item)\n",
    "    \n",
    "    def pop(self):\n",
    "        return self.items.pop()\n",
    "    \n",
    "    def peek(self):\n",
    "        return self.items[len(self.items)-1]\n",
    "    \n",
    "    def size(self):\n",
    "        return len(self.items)"
   ]
  },
  {
   "cell_type": "code",
   "execution_count": 65,
   "metadata": {
    "collapsed": false
   },
   "outputs": [
    {
     "name": "stdout",
     "output_type": "stream",
     "text": [
      "True\n",
      "4\n",
      "4\n",
      "True\n"
     ]
    }
   ],
   "source": [
    "s = Stack()\n",
    "print(s.isEmpty())\n",
    "s.push(4)\n",
    "print(s.peek())\n",
    "print(s.pop())\n",
    "print(s.isEmpty())"
   ]
  },
  {
   "cell_type": "code",
   "execution_count": 66,
   "metadata": {
    "collapsed": false
   },
   "outputs": [
    {
     "name": "stdout",
     "output_type": "stream",
     "text": [
      "['o', 'l', 'l', 'e', 'h'] "
     ]
    }
   ],
   "source": [
    "def revstring(mystr):\n",
    "    \"\"\"Reverses and prints the string using stacks\"\"\"\n",
    "    s = Stack()\n",
    "    [s.push(i) for i in mystr]\n",
    "    print([s.pop() for i in mystr], end = ' ')\n",
    "    \n",
    "revstring('hello')"
   ]
  },
  {
   "cell_type": "code",
   "execution_count": 67,
   "metadata": {
    "collapsed": false
   },
   "outputs": [
    {
     "name": "stdout",
     "output_type": "stream",
     "text": [
      "False\n",
      "True\n"
     ]
    }
   ],
   "source": [
    "def parChecker(parstring):\n",
    "    \"\"\"Checks if the given string of paranthesis is balanced\"\"\"\n",
    "    if parstring is None:\n",
    "        return None\n",
    "    s = Stack()\n",
    "    \n",
    "    for i in parstring:\n",
    "        if i == '(':\n",
    "            s.push(i)\n",
    "        else:\n",
    "            s.pop()\n",
    "            \n",
    "    if s.isEmpty():\n",
    "        return True\n",
    "    else:\n",
    "        return False\n",
    "\n",
    "print(parChecker('(()'))\n",
    "print(parChecker('(())'))"
   ]
  },
  {
   "cell_type": "code",
   "execution_count": 68,
   "metadata": {
    "collapsed": false
   },
   "outputs": [
    {
     "name": "stdout",
     "output_type": "stream",
     "text": [
      "True\n",
      "False\n"
     ]
    }
   ],
   "source": [
    "def parChecker2(parstring):\n",
    "    \"\"\"Extends the function parChecker to check for various symbols (, [, {\"\"\"\n",
    "    if parstring is None:\n",
    "        return None\n",
    "    \n",
    "    def matches(opener, closer):\n",
    "        \"\"\"Custom fuction to check matching opening and closing symbols\"\"\"\n",
    "        openers = \"([{\"\n",
    "        closers = \")]}\"\n",
    "        return openers.index(opener) == closers.index(closer)\n",
    "    \n",
    "    s = Stack()\n",
    "    \n",
    "    for i in parstring:\n",
    "        if i in '([{':\n",
    "            s.push(i)\n",
    "        else:\n",
    "            p = s.pop()\n",
    "            if not matches(p, i):\n",
    "                return False\n",
    "            \n",
    "    if s.isEmpty():\n",
    "        return True\n",
    "    else:\n",
    "        return False\n",
    "\n",
    "print(parChecker2('{{([][])}()}'))\n",
    "print(parChecker2('[{()]'))"
   ]
  },
  {
   "cell_type": "markdown",
   "metadata": {},
   "source": [
    "## Binary numbers using stacks\n",
    "\n",
    "233 = 11101001 is interprested as\n",
    "- 1×2^7+1×2^6+1×2^5+0×2^4+1×2^3+0×2^2+0×2^1+1×2^0\n",
    "\n",
    "![](dectobin.png)\n",
    "\n",
    "To summarize my understanding, to binarize a number:\n",
    "- divide the number by 2 and record the remaining (will either be 0 or 1)\n",
    "- take the floor(number divided by two) == (n/2 - n%2) and repeat\n",
    "- do the above 2 steps recursively until you become <= 1 while pushing the remainders in a stack\n",
    "- final binarized number is the stack unfolding (stack.pop recursive)"
   ]
  },
  {
   "cell_type": "code",
   "execution_count": 80,
   "metadata": {
    "collapsed": false
   },
   "outputs": [
    {
     "name": "stdout",
     "output_type": "stream",
     "text": [
      "11101001\n",
      "0\n",
      "1\n",
      "10\n"
     ]
    }
   ],
   "source": [
    "def tobinary(n):\n",
    "    if (n == 0):\n",
    "        return '0'\n",
    "    conv = Stack()\n",
    "    converted = ''\n",
    "    while n >= 1:\n",
    "        mod = int(n % 2)\n",
    "        conv.push(mod)\n",
    "        n = (n-mod) / 2\n",
    "    \n",
    "    while not conv.isEmpty():\n",
    "        converted += str(conv.pop())\n",
    "\n",
    "    return converted\n",
    "\n",
    "print(tobinary(233))\n",
    "print(tobinary(0))\n",
    "print(tobinary(1))\n",
    "print(tobinary(2))"
   ]
  },
  {
   "cell_type": "markdown",
   "metadata": {},
   "source": [
    "## Operand preferences : using concepts of stacks, infix, prefix, postfix\n",
    "![](complexmove.png)"
   ]
  },
  {
   "cell_type": "markdown",
   "metadata": {},
   "source": [
    "![](infixtopostfix.png)"
   ]
  },
  {
   "cell_type": "code",
   "execution_count": 91,
   "metadata": {
    "collapsed": false
   },
   "outputs": [
    {
     "name": "stdout",
     "output_type": "stream",
     "text": [
      "A B C D * + *\n",
      "A B + C D E - F G + * - *\n"
     ]
    }
   ],
   "source": [
    "# Stacks have pop, push, peek, size, isEmpty\n",
    "class Stack2():\n",
    "    \"\"\"practicing writing my own stack class\"\"\"\n",
    "    def __init__(self):\n",
    "        self.items = []\n",
    "    \n",
    "    def pop(self):\n",
    "        # .pop() is a native python function\n",
    "        return self.items.pop()\n",
    "    \n",
    "    def push(self, item):\n",
    "        self.items.append(item)\n",
    "        \n",
    "    def peek(self):\n",
    "        return self.items[-1]\n",
    "    \n",
    "    def isEmpty(self):\n",
    "        return self.items == []\n",
    "    \n",
    "    def size(self):\n",
    "        return len(self.items)\n",
    "\n",
    "    \n",
    "# Now converting infix to postfix\n",
    "def postfix(infixstr):\n",
    "    \"\"\"this function creates a postfix method given an infix calculation\"\"\"\n",
    "    # rank operator precedence (+, -, *, /) and store in dictionary\n",
    "    operator = {'+': 1, '-': 1, '*': 2, '/': 2}\n",
    "    otpstack = Stack2()\n",
    "    otp = []\n",
    "    \n",
    "    # convert input string to list\n",
    "    infixstr = infixstr.split()\n",
    "    for char in infixstr:\n",
    "        if char in operator or char == '(':\n",
    "            otpstack.push(char)\n",
    "        elif char in \"ABCDEFGHIJKLMNOPQRSTUVWXYZ\" or char in \"0123456789\":\n",
    "            otp.append(char)\n",
    "        elif char == ')':\n",
    "            top = otpstack.pop()\n",
    "            while top != '(':\n",
    "                otp.append(top)\n",
    "                top = otpstack.pop()\n",
    "        # if char is operator\n",
    "        else:\n",
    "            while (not otpstack.isEmpty()) and (operator[otpstack.peek()] >= operator[char]):\n",
    "                otp.append(otpstack.pop())\n",
    "            otpstack.push(char)\n",
    "\n",
    "    while not otpstack.isEmpty():\n",
    "        otp.append(otpstack.pop())\n",
    "    return \" \".join(otp)\n",
    "\n",
    "print(postfix(\"A * B + C * D\"))\n",
    "print(postfix(\"( A + B ) * C - ( D - E ) * ( F + G )\"))"
   ]
  }
 ],
 "metadata": {
  "anaconda-cloud": {},
  "kernelspec": {
   "display_name": "Python [conda root]",
   "language": "python",
   "name": "conda-root-py"
  },
  "language_info": {
   "codemirror_mode": {
    "name": "ipython",
    "version": 3
   },
   "file_extension": ".py",
   "mimetype": "text/x-python",
   "name": "python",
   "nbconvert_exporter": "python",
   "pygments_lexer": "ipython3",
   "version": "3.5.2"
  }
 },
 "nbformat": 4,
 "nbformat_minor": 1
}
