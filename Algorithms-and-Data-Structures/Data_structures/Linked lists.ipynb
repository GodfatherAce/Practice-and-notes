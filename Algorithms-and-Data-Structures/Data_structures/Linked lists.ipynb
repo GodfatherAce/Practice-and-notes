{
 "cells": [
  {
   "cell_type": "markdown",
   "metadata": {},
   "source": [
    "# Linked list\n",
    "\n",
    "Linked lists are unordered lists, which is a collection of items where each item holds a relative position with respect to the others"
   ]
  },
  {
   "cell_type": "markdown",
   "metadata": {},
   "source": [
    "## Nodes\n",
    "\n",
    "The basic building block of linked lists is a node that contains these information:\n",
    "- data value\n",
    "- reference to next node"
   ]
  },
  {
   "cell_type": "code",
   "execution_count": 33,
   "metadata": {
    "collapsed": true
   },
   "outputs": [],
   "source": [
    "# the node class will create a node that has 4 methods:\n",
    "#   set/get data, set/get next node\n",
    "class Node():\n",
    "    \"\"\"creates a node\"\"\"\n",
    "    def __init__(self, data):\n",
    "        self.data = data\n",
    "        self.next = None\n",
    "        \n",
    "    def setdata(self, data):\n",
    "        self.data = data\n",
    "        \n",
    "    def setnext(self, nextnode):\n",
    "        self.next = nextnode\n",
    "        \n",
    "    def data(self):\n",
    "        return self.data\n",
    "    \n",
    "    def next(self):\n",
    "        return self.next\n",
    "    \n",
    "    def __str__(self):\n",
    "        return (str(self.data)+', '+str(self.next))"
   ]
  },
  {
   "cell_type": "code",
   "execution_count": 37,
   "metadata": {
    "collapsed": false
   },
   "outputs": [
    {
     "name": "stdout",
     "output_type": "stream",
     "text": [
      "1, None\n",
      "2, None\n",
      "1, 2, None\n"
     ]
    }
   ],
   "source": [
    "n = Node(1)\n",
    "print(n)\n",
    "n.setnext(Node(2))\n",
    "print(n.next)\n",
    "print(n)"
   ]
  },
  {
   "cell_type": "markdown",
   "metadata": {},
   "source": [
    "## Linked list using nodes"
   ]
  },
  {
   "cell_type": "code",
   "execution_count": 52,
   "metadata": {
    "collapsed": true
   },
   "outputs": [],
   "source": [
    "# Linked lists has methods of:\n",
    "#  initialize, add, get size, search, remove\n",
    "class LinkedList():\n",
    "    \"\"\"creates a linked list class\"\"\"\n",
    "    def __init__(self):\n",
    "        self.head = None\n",
    "        \n",
    "    def add(self, item):\n",
    "        node = Node(item)\n",
    "        node.next = self.head\n",
    "        self.head = node\n",
    "        \n",
    "    def size(self):\n",
    "        count = 0\n",
    "        this = self.head\n",
    "        while this:\n",
    "            count += 1\n",
    "            this = this.next\n",
    "        return count\n",
    "    \n",
    "    def isEmpty(self):\n",
    "        return self.head == None\n",
    "    \n",
    "    def search(self, item):\n",
    "        this = self.head\n",
    "        while this:\n",
    "            if this.data == item:\n",
    "                return True\n",
    "            this = this.next\n",
    "        return False\n",
    "    \n",
    "    def remove(self, item):\n",
    "        prev = None\n",
    "        this = self.head\n",
    "        if this.data == item:\n",
    "            self.head = this.next\n",
    "        else:\n",
    "            while this:\n",
    "                if this.data == item:\n",
    "                    prev.next = this.next\n",
    "                prev = this\n",
    "                this = this.next\n",
    "    \n",
    "    def __str__(self):\n",
    "        return (str(self.head))"
   ]
  },
  {
   "cell_type": "code",
   "execution_count": 54,
   "metadata": {
    "collapsed": false
   },
   "outputs": [
    {
     "name": "stdout",
     "output_type": "stream",
     "text": [
      "None\n",
      "3, None\n",
      "5, 3, None\n",
      "10, 5, 3, None\n",
      "3\n",
      "False\n",
      "True\n",
      "10, 3, None\n",
      "False\n"
     ]
    }
   ],
   "source": [
    "l = LinkedList()\n",
    "print(l)\n",
    "l.add(3)\n",
    "print(l)\n",
    "l.add(5)\n",
    "print(l)\n",
    "l.add(10)\n",
    "print(l)\n",
    "print(l.size())\n",
    "print(l.search(11))\n",
    "print(l.search(3))\n",
    "l.remove(5)\n",
    "print(l)\n",
    "print(l.isEmpty())"
   ]
  }
 ],
 "metadata": {
  "kernelspec": {
   "display_name": "Python [conda root]",
   "language": "python",
   "name": "conda-root-py"
  },
  "language_info": {
   "codemirror_mode": {
    "name": "ipython",
    "version": 3
   },
   "file_extension": ".py",
   "mimetype": "text/x-python",
   "name": "python",
   "nbconvert_exporter": "python",
   "pygments_lexer": "ipython3",
   "version": "3.5.2"
  }
 },
 "nbformat": 4,
 "nbformat_minor": 1
}
