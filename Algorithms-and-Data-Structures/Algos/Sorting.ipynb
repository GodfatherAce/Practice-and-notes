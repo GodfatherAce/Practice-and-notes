{
 "cells": [
  {
   "cell_type": "markdown",
   "metadata": {},
   "source": [
    "# Sorting\n",
    "Efficiency is determined by:\n",
    "- Total # of comparisons and \n",
    "- Total # of exchanges"
   ]
  },
  {
   "cell_type": "markdown",
   "metadata": {},
   "source": [
    "## Bubble sort\n",
    "![](bubble.png)\n",
    "\n",
    "Each pass, compares items in a bubble and swap places in order:\n",
    "- swap typically requires 3 steps with 1 temp storage, but python can do a,b = b,a\n",
    "- **order N^2** because makes (1 .. n-1) passses and (n-1 .. 1) comparisons\n",
    "- most inefficient sorting algorithm\n",
    "- can be made a little bit more efficient (**short bubble**) by terminating when no swaps occur"
   ]
  },
  {
   "cell_type": "markdown",
   "metadata": {},
   "source": [
    "## Selection sort\n",
    "![](selection.png)\n",
    "\n",
    "Makes one exchange per pass:\n",
    "- also **order N^2** but typically does less exchange so faster than bubble sort\n",
    "- **selection sort swaps two different indices while bubble exchanges adjacent indices**"
   ]
  },
  {
   "cell_type": "markdown",
   "metadata": {},
   "source": [
    "## Insertion sort\n",
    "![](insertion.png)\n",
    "\n",
    "Maintains an ordered sublist:\n",
    "\n",
    "- **order N^2**\n",
    "- starting from the left end, shifts larger item to the right until it hits a number smaller than itself\n",
    "\n",
    "![](insertion2.png)"
   ]
  },
  {
   "cell_type": "markdown",
   "metadata": {},
   "source": [
    "## Shell sort (aka 'diminishing increment sort')\n",
    "\n",
    "### Sublists ( gap size == 3 )\n",
    "![](shell.png)\n",
    "\n",
    "### Partially ordered sublists\n",
    "![](shell2.png)\n",
    "\n",
    "### Completely ordered list (final pass)\n",
    "![](shell3.png)\n",
    "\n",
    "Improved on original insertion sort by breaking the list into sublists\n",
    "\n",
    "- breaks list into sublist and sorts the sublists\n",
    "- does regular insertion sort at final pass\n",
    "- because of the pre-sortion, the final sorting is efficient and shell sort falls somewhere between **order N and order N^2**"
   ]
  },
  {
   "cell_type": "markdown",
   "metadata": {},
   "source": [
    "## Merge sort\n",
    "\n",
    "### Recursively split (binary split, O(log n))\n",
    "![](merge.png)\n",
    "\n",
    "### Merge while sorting (O(n))\n",
    "![](merge2.png)\n",
    "Recursive algorithm that continually splits a list in half.  \n",
    "If the list is empty or has one item, it is sorted by definition (the base case).  \n",
    "If the list has more than one item, we split the list and recursively invoke a merge sort on both halves. Once the two halves are sorted, the fundamental operation, called a merge, is performed\n",
    "\n",
    "*It is important to notice that the mergeSort function requires extra space to hold the two halves as they are extracted with the slicing operations. This **additional space** can be a critical factor if the list is large and can make this sort problematic when working on large data sets.*"
   ]
  },
  {
   "cell_type": "code",
   "execution_count": 8,
   "metadata": {
    "collapsed": false
   },
   "outputs": [
    {
     "name": "stdout",
     "output_type": "stream",
     "text": [
      "Splitting  [54, 26, 93, 17, 77, 31, 44, 55, 20]\n",
      "Splitting  [54, 26, 93, 17]\n",
      "Splitting  [54, 26]\n",
      "Splitting  [54]\n",
      "Merging  [54]\n",
      "Splitting  [26]\n",
      "Merging  [26]\n",
      "i,j:0 0\n",
      "i: 1\n",
      "Merging  [26, 54]\n",
      "Splitting  [93, 17]\n",
      "Splitting  [93]\n",
      "Merging  [93]\n",
      "Splitting  [17]\n",
      "Merging  [17]\n",
      "i,j:0 0\n",
      "i: 1\n",
      "Merging  [17, 93]\n",
      "i,j:0 0\n",
      "i,j:0 1\n",
      "i,j:1 1\n",
      "j: 2\n",
      "Merging  [17, 26, 54, 93]\n",
      "Splitting  [77, 31, 44, 55, 20]\n",
      "Splitting  [77, 31]\n",
      "Splitting  [77]\n",
      "Merging  [77]\n",
      "Splitting  [31]\n",
      "Merging  [31]\n",
      "i,j:0 0\n",
      "i: 1\n",
      "Merging  [31, 77]\n",
      "Splitting  [44, 55, 20]\n",
      "Splitting  [44]\n",
      "Merging  [44]\n",
      "Splitting  [55, 20]\n",
      "Splitting  [55]\n",
      "Merging  [55]\n",
      "Splitting  [20]\n",
      "Merging  [20]\n",
      "i,j:0 0\n",
      "i: 1\n",
      "Merging  [20, 55]\n",
      "i,j:0 0\n",
      "i,j:0 1\n",
      "j: 2\n",
      "Merging  [20, 44, 55]\n",
      "i,j:0 0\n",
      "i,j:0 1\n",
      "i,j:1 1\n",
      "i,j:1 2\n",
      "i: 2\n",
      "Merging  [20, 31, 44, 55, 77]\n",
      "i,j:0 0\n",
      "i,j:1 0\n",
      "i,j:1 1\n",
      "i,j:2 1\n",
      "i,j:2 2\n",
      "i,j:2 3\n",
      "i,j:3 3\n",
      "i,j:3 4\n",
      "i: 4\n",
      "Merging  [17, 20, 26, 31, 44, 54, 55, 77, 93]\n",
      "[17, 20, 26, 31, 44, 54, 55, 77, 93]\n"
     ]
    }
   ],
   "source": [
    "def mergeSort(alist):\n",
    "    print(\"Splitting \",alist)\n",
    "    if len(alist)>1:\n",
    "        mid = len(alist)//2\n",
    "        lefthalf = alist[:mid]\n",
    "        righthalf = alist[mid:]\n",
    "\n",
    "        mergeSort(lefthalf)\n",
    "        mergeSort(righthalf)\n",
    "\n",
    "        i=0\n",
    "        j=0\n",
    "        k=0\n",
    "        while i < len(lefthalf) and j < len(righthalf):\n",
    "            print('i,j:'+str(i)+' '+str(j))\n",
    "            if lefthalf[i] < righthalf[j]:\n",
    "                alist[k]=lefthalf[i]\n",
    "                i=i+1\n",
    "            else:\n",
    "                alist[k]=righthalf[j]\n",
    "                j=j+1\n",
    "            k=k+1\n",
    "\n",
    "        while i < len(lefthalf):\n",
    "            alist[k]=lefthalf[i]\n",
    "            i=i+1\n",
    "            k=k+1\n",
    "            print('i: '+str(i))\n",
    "\n",
    "        while j < len(righthalf):\n",
    "            alist[k]=righthalf[j]\n",
    "            j=j+1\n",
    "            k=k+1\n",
    "            print('j: '+str(j))\n",
    "    print(\"Merging \",alist)\n",
    "\n",
    "alist = [54,26,93,17,77,31,44,55,20]\n",
    "mergeSort(alist)\n",
    "print(alist)"
   ]
  },
  {
   "cell_type": "markdown",
   "metadata": {},
   "source": [
    "## Quick sort\n",
    "\n",
    "Similar to merge sort, but does not use the *additional space* required in merge sort  \n",
    "As a trade-off, however, it is possible that the list may not be divided in half. When this happens, we will see that performance is diminished\n",
    "\n",
    "**Merge sort guarantees O(nlogn) at the cost of requiring memory while quick sort may produce O(n^2) in worst case**\n",
    "\n",
    "![](quick.png)\n",
    "![](quick2.png)\n",
    "![](quick3.png)"
   ]
  }
 ],
 "metadata": {
  "anaconda-cloud": {},
  "kernelspec": {
   "display_name": "Python [conda root]",
   "language": "python",
   "name": "conda-root-py"
  },
  "language_info": {
   "codemirror_mode": {
    "name": "ipython",
    "version": 3
   },
   "file_extension": ".py",
   "mimetype": "text/x-python",
   "name": "python",
   "nbconvert_exporter": "python",
   "pygments_lexer": "ipython3",
   "version": "3.5.2"
  }
 },
 "nbformat": 4,
 "nbformat_minor": 1
}
