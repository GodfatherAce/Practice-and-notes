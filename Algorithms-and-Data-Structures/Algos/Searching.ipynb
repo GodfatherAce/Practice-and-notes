{
 "cells": [
  {
   "cell_type": "markdown",
   "metadata": {
    "collapsed": true
   },
   "source": [
    "# Searching"
   ]
  },
  {
   "cell_type": "markdown",
   "metadata": {},
   "source": [
    "## Sequential searching : Ordered and Unordered\n",
    "\n",
    "### Unordered\n",
    "item present:\n",
    "- best case = 1\n",
    "- worst case = n\n",
    "- average case = n/2\n",
    "\n",
    "item not present :\n",
    "- always : n"
   ]
  },
  {
   "cell_type": "code",
   "execution_count": 7,
   "metadata": {
    "collapsed": false
   },
   "outputs": [
    {
     "name": "stdout",
     "output_type": "stream",
     "text": [
      "True\n",
      "False\n"
     ]
    }
   ],
   "source": [
    "def sequential_search(lst, item):\n",
    "    idx = 0\n",
    "    found = False\n",
    "    \n",
    "    while idx < len(lst) and not found:\n",
    "        if lst[idx] == item:\n",
    "            found = True\n",
    "        else:\n",
    "            idx += 1\n",
    "    return found\n",
    "\n",
    "lst = [1,2,3,4,5,8,9,10]\n",
    "print(sequential_search(lst,5))\n",
    "print(sequential_search(lst,7))"
   ]
  },
  {
   "cell_type": "markdown",
   "metadata": {},
   "source": [
    "### Ordered\n",
    "item present:\n",
    "- best = 1\n",
    "- worst = n\n",
    "- average = n/2\n",
    "\n",
    "item not present:\n",
    "- best = 1\n",
    "- worst = n\n",
    "- average = n/2"
   ]
  },
  {
   "cell_type": "code",
   "execution_count": 8,
   "metadata": {
    "collapsed": false
   },
   "outputs": [
    {
     "name": "stdout",
     "output_type": "stream",
     "text": [
      "True\n",
      "False\n"
     ]
    }
   ],
   "source": [
    "def ordered_sequential_search(lst, item):\n",
    "    idx = 0\n",
    "    found = False\n",
    "    stop = False\n",
    "    \n",
    "    while idx < len(lst) and not found and not stop:\n",
    "        if lst[idx] == item:\n",
    "            found = True\n",
    "            stop = True\n",
    "        elif lst[idx] > item:\n",
    "            stop = True\n",
    "        else:\n",
    "            idx += 1\n",
    "    return found\n",
    "\n",
    "print(ordered_sequential_search(lst,3))\n",
    "print(ordered_sequential_search(lst,7))"
   ]
  },
  {
   "cell_type": "markdown",
   "metadata": {},
   "source": [
    "## Binary search - Only works for ordered lists\n",
    "- can use recursion\n",
    "\n",
    "When we split the list enough times, we end up with a list that has just one item.  \n",
    "Either that is the item we are looking for or it is not. Either way, we are done.  \n",
    "**The number of comparisons necessary to get to this point is 𝑖 where 𝑛 / (2^𝑖) = 1. Solving for 𝑖 gives us 𝑖 = log 𝑛.**  \n",
    "**The maximum number of comparisons is logarithmic with respect to the number of items in the list. Therefore, the binary search is 𝑂(log 𝑛).**\n",
    "\n",
    "*note that for small lists, cost of sorting will outweight binary search efficiency, thus binary search is not preferred*"
   ]
  },
  {
   "cell_type": "code",
   "execution_count": 19,
   "metadata": {
    "collapsed": false
   },
   "outputs": [
    {
     "name": "stdout",
     "output_type": "stream",
     "text": [
      "True\n"
     ]
    }
   ],
   "source": [
    "def binary_search(lst, item):\n",
    "    first = 0\n",
    "    last = len(lst) - 1\n",
    "    found = False\n",
    "    \n",
    "    while first <= last and not found:\n",
    "        midpoint = (first + last) // 2\n",
    "        \n",
    "        if lst[midpoint] == item:\n",
    "            found = True\n",
    "        \n",
    "        elif lst[midpoint] > item:\n",
    "            last = midpoint - 1\n",
    "        else:\n",
    "            first = midpoint + 1\n",
    "    return found\n",
    "\n",
    "lst = [1,2,3,4,5,8,9,10]\n",
    "print(binary_search(lst, 3))"
   ]
  },
  {
   "cell_type": "code",
   "execution_count": 26,
   "metadata": {
    "collapsed": false
   },
   "outputs": [
    {
     "name": "stdout",
     "output_type": "stream",
     "text": [
      "True\n",
      "False\n"
     ]
    }
   ],
   "source": [
    "def binary_search2(lst, item):\n",
    "    if len(lst) == 0:\n",
    "        return False\n",
    "    \n",
    "    midpoint = len(lst) // 2\n",
    "    if lst[midpoint] == item:\n",
    "        return True\n",
    "    elif lst[midpoint] > item:\n",
    "        return binary_search2(lst[:midpoint], item)\n",
    "    else:\n",
    "        return binary_search2(lst[midpoint+1:],item) # note that this is midpoint + 1 : end\n",
    "    \n",
    "print(binary_search2(lst, 3))\n",
    "print(binary_search2(lst, 7))"
   ]
  },
  {
   "cell_type": "markdown",
   "metadata": {},
   "source": [
    "## Hashing - creating a table to search in constant time"
   ]
  }
 ],
 "metadata": {
  "anaconda-cloud": {},
  "kernelspec": {
   "display_name": "Python [conda root]",
   "language": "python",
   "name": "conda-root-py"
  },
  "language_info": {
   "codemirror_mode": {
    "name": "ipython",
    "version": 3
   },
   "file_extension": ".py",
   "mimetype": "text/x-python",
   "name": "python",
   "nbconvert_exporter": "python",
   "pygments_lexer": "ipython3",
   "version": "3.5.2"
  }
 },
 "nbformat": 4,
 "nbformat_minor": 1
}
