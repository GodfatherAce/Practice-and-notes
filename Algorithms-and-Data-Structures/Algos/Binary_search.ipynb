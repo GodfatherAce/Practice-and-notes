{
 "cells": [
  {
   "cell_type": "markdown",
   "metadata": {},
   "source": [
    "# Binary search: O(logN)"
   ]
  },
  {
   "cell_type": "code",
   "execution_count": 72,
   "metadata": {
    "collapsed": false
   },
   "outputs": [
    {
     "name": "stdout",
     "output_type": "stream",
     "text": [
      "(500, 27)\n",
      "   index first name last name team pos  age    gp   mpg  min%  usg%  \\\n",
      "0     70      Aaron    Brooks  Hou  PG   29  43.0  16.5  33.9  20.6   \n",
      "1     71      Aaron    Brooks  Den  PG   29  29.0  28.8  59.3  20.7   \n",
      "2    194      Aaron      Gray  Sac   C   29  33.0  10.0  20.4  12.4   \n",
      "3    449     Adonis    Thomas  Orl  SF   20   4.0   5.9   9.5  18.4   \n",
      "4    450     Adonis    Thomas  Phi   F   20   2.0   6.4   9.7  20.0   \n",
      "\n",
      "        ...          ts%   ppg  rpg  trb%  apg  ast%   spg   bpg   vi  \\\n",
      "0       ...        0.529   7.0  1.4   4.9  1.9  18.3  0.58  0.14  6.4   \n",
      "1       ...        0.508  11.9  2.7   5.0  5.2  28.0  0.93  0.24  7.6   \n",
      "2       ...        0.455   1.8  3.1  17.7  0.6   8.4  0.30  0.24  6.0   \n",
      "3       ...        0.371   1.8  0.8   7.2  0.5  13.6  0.00  0.00  6.1   \n",
      "4       ...        0.700   3.5  0.0   0.0  0.5  14.4  0.00  0.00  0.0   \n",
      "\n",
      "             name  \n",
      "0   Aaron, Brooks  \n",
      "1   Aaron, Brooks  \n",
      "2     Aaron, Gray  \n",
      "3  Adonis, Thomas  \n",
      "4  Adonis, Thomas  \n",
      "\n",
      "[5 rows x 27 columns]\n"
     ]
    }
   ],
   "source": [
    "import pandas as pd\n",
    "import math\n",
    "column_name= ['first name','last name','team','pos','age','gp','mpg','min%','usg%','tor','fta',\n",
    "              'ft','2pa','2p%','3pa','3p%','ts%','ppg','rpg','trb%','apg','ast%','spg','bpg','vi']\n",
    "nba = pd.read_table('nba.txt', names=column_name, delim_whitespace=True)\n",
    "nba['name'] = nba['first name']+', '+nba['last name']\n",
    "nba = nba.sort_values(by='name')\n",
    "nba = nba.reset_index()\n",
    "nba.head(5)\n",
    "print(nba.shape)\n",
    "print nba.head(5)"
   ]
  },
  {
   "cell_type": "code",
   "execution_count": 71,
   "metadata": {
    "collapsed": false
   },
   "outputs": [
    {
     "name": "stdout",
     "output_type": "stream",
     "text": [
      "-1\n"
     ]
    },
    {
     "name": "stderr",
     "output_type": "stream",
     "text": [
      "/Users/HyunJooHwang/anaconda2/lib/python2.7/site-packages/ipykernel/__main__.py:24: DeprecationWarning: unorderable dtypes; returning scalar but in the future this will be an error\n"
     ]
    }
   ],
   "source": [
    "# A function to extract a player's last name\n",
    "def format_name(name):\n",
    "    return name.split(\" \")[1] + \", \" + name.split(\" \")[0]\n",
    "\n",
    "# The length of the dataset\n",
    "length = len(nba)\n",
    "\n",
    "def player_age(name):\n",
    "    name = format_name(name)\n",
    "    upper_bound = length - 1\n",
    "    lower_bound = 0\n",
    "    index = int(math.floor((upper_bound + lower_bound) / 2))\n",
    "    guess = nba.iloc[index,25]\n",
    "\n",
    "    while name != guess and upper_bound >= lower_bound:\n",
    "        if name < guess:\n",
    "            upper_bound = index - 1\n",
    "\n",
    "        else:\n",
    "            lower_bound = index + 1\n",
    "            #print 'else'\n",
    "            #print lower_bound\n",
    "        index = int(math.floor((lower_bound + upper_bound) / 2))\n",
    "        #print index\n",
    "        guess = nba.iloc[index,25]\n",
    "        #print index\n",
    "        #print guess\n",
    "    if name == guess:\n",
    "        #print guess\n",
    "        #print nba.iloc[index,4]\n",
    "        return nba.iloc[index,4]\n",
    "    else:\n",
    "        return -1\n",
    "    #\"\"\"\n",
    "    \n",
    "curry_age = player_age(\"Stephen Curry\")\n",
    "print curry_age\n",
    "#griffin_age = player_age(\"Blake Griffin\")\n",
    "#jordan_age = player_age(\"Michael Jordan\")\n",
    "\n",
    "#print curry_age, griffin_age, jordan_age"
   ]
  }
 ],
 "metadata": {
  "kernelspec": {
   "display_name": "Python 2",
   "language": "python",
   "name": "python2"
  },
  "language_info": {
   "codemirror_mode": {
    "name": "ipython",
    "version": 2
   },
   "file_extension": ".py",
   "mimetype": "text/x-python",
   "name": "python",
   "nbconvert_exporter": "python",
   "pygments_lexer": "ipython2",
   "version": "2.7.11"
  }
 },
 "nbformat": 4,
 "nbformat_minor": 0
}
