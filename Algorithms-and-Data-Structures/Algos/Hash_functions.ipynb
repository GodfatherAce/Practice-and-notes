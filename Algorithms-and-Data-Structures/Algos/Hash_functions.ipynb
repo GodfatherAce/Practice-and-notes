{
 "cells": [
  {
   "cell_type": "markdown",
   "metadata": {},
   "source": [
    "# Hash functions : folding, mid-square\n",
    "Our goal is to create a hash function that *minimizes the number of collisions*, *is easy to compute*, *and evenly distributes* the items in the hash table.\n",
    "\n",
    "The important thing to remember is that hash functions have to be efficient so that it does not become the dominant part of the storage and search process. If the hash function is too complex, then it becomes more work to compute the slot name than it would be to simply do a basic sequential or binary search as described earlier. This would quickly defeat the purpose of hashing."
   ]
  },
  {
   "cell_type": "markdown",
   "metadata": {},
   "source": [
    "### Folding method\n",
    "Dividing the item into equal-size pieces (the last piece may not be of equal size).  \n",
    "These pieces are then added together to give the resulting hash value.\n",
    "\n",
    "ex:  \n",
    "phone number 436-555-4601  \n",
    "take the digits and divide them into groups of 2 (43,65,55,46,01).  \n",
    "addition: 43+65+55+46+0143+65+55+46+01, we get 210.  \n",
    "If we assume our hash table has 11 slots, 210 % 11 is 1, so the phone number 436-555-4601 hashes to slot 1"
   ]
  },
  {
   "cell_type": "markdown",
   "metadata": {},
   "source": [
    "### Mid-square method\n",
    "Square the number and extract some portion of the resulting number and compute remainder\n",
    "\n",
    "ex:\n",
    "item is 44  \n",
    "44^2 is 1936  \n",
    "take 93 % 11 = 5  \n",
    "hash value at slot 5"
   ]
  },
  {
   "cell_type": "markdown",
   "metadata": {},
   "source": [
    "# Collision resolution : open addressing, chaining\n",
    "When two items hash to a same slot, this is called a **collision**"
   ]
  },
  {
   "cell_type": "markdown",
   "metadata": {},
   "source": [
    "### Open addressing\n",
    "Openly looking for empty slots if collision occurs  \n",
    "search can be :\n",
    "- **linear probing** : look for empty slots skipping every n slots. (n increased to prevent **clustering**)\n",
    "- **Quadratic probing** : n increase quadratically every step"
   ]
  },
  {
   "cell_type": "markdown",
   "metadata": {},
   "source": [
    "### Chaining\n",
    "Allows many item to exist at the same location in the hash table"
   ]
  },
  {
   "cell_type": "markdown",
   "metadata": {},
   "source": [
    "# Implementing Map data type"
   ]
  },
  {
   "cell_type": "code",
   "execution_count": 7,
   "metadata": {
    "collapsed": true
   },
   "outputs": [],
   "source": [
    "class HashTable:\n",
    "    def __init__(self):\n",
    "        self.size = 11 # size should be prime number to reduce collision as much as possible\n",
    "        self.slots = [None] * self.size\n",
    "        self.data = [None] * self.size\n",
    "    \n",
    "    def hashfunction(self,key,size):\n",
    "        return key%size\n",
    "\n",
    "    def rehash(self,oldhash,size):\n",
    "        return (oldhash+1)%size\n",
    "    \n",
    "    def put(self,key,data):\n",
    "        hashvalue = self.hashfunction(key,len(self.slots))\n",
    "\n",
    "        if self.slots[hashvalue] == None:\n",
    "            self.slots[hashvalue] = key\n",
    "            self.data[hashvalue] = data\n",
    "        else:\n",
    "            if self.slots[hashvalue] == key:\n",
    "                self.data[hashvalue] = data  #replace\n",
    "            else:\n",
    "                nextslot = self.rehash(hashvalue,len(self.slots))\n",
    "                while self.slots[nextslot] != None and \\\n",
    "                    self.slots[nextslot] != key:\n",
    "                    nextslot = self.rehash(nextslot,len(self.slots))\n",
    "\n",
    "                    if self.slots[nextslot] == None:\n",
    "                        self.slots[nextslot]=key\n",
    "                        self.data[nextslot]=data\n",
    "                    else:\n",
    "                        self.data[nextslot] = data #replace\n",
    "    \n",
    "    def get(self,key):\n",
    "        startslot = self.hashfunction(key,len(self.slots))\n",
    "\n",
    "        data = None\n",
    "        stop = False\n",
    "        found = False\n",
    "        position = startslot\n",
    "        while self.slots[position] != None and  \\\n",
    "                           not found and not stop:\n",
    "            if self.slots[position] == key:\n",
    "                found = True\n",
    "                data = self.data[position]\n",
    "            else:\n",
    "                position=self.rehash(position,len(self.slots))\n",
    "                if position == startslot:\n",
    "                    stop = True\n",
    "        return data\n",
    "\n",
    "    def __getitem__(self,key):\n",
    "        return self.get(key)\n",
    "\n",
    "    def __setitem__(self,key,data):\n",
    "        self.put(key,data)"
   ]
  }
 ],
 "metadata": {
  "anaconda-cloud": {},
  "kernelspec": {
   "display_name": "Python [conda root]",
   "language": "python",
   "name": "conda-root-py"
  },
  "language_info": {
   "codemirror_mode": {
    "name": "ipython",
    "version": 3
   },
   "file_extension": ".py",
   "mimetype": "text/x-python",
   "name": "python",
   "nbconvert_exporter": "python",
   "pygments_lexer": "ipython3",
   "version": "3.5.2"
  }
 },
 "nbformat": 4,
 "nbformat_minor": 1
}
