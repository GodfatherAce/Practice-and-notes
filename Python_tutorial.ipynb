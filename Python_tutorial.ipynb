{
 "cells": [
  {
   "cell_type": "markdown",
   "metadata": {},
   "source": [
    "## Python Tutorial"
   ]
  },
  {
   "cell_type": "markdown",
   "metadata": {},
   "source": [
    "## **Classes**"
   ]
  },
  {
   "cell_type": "code",
   "execution_count": 17,
   "metadata": {
    "collapsed": false
   },
   "outputs": [
    {
     "name": "stdout",
     "output_type": "stream",
     "text": [
      "2/5\n",
      "2/5\n"
     ]
    }
   ],
   "source": [
    "class Fraction:\n",
    "    def __init__(self,arg1,arg2):\n",
    "        self.num=arg1 #numerator\n",
    "        self.den=arg2 #denominator\n",
    "    def show(self):\n",
    "        print '%d/%d' %(self.num, self.den)\n",
    "        \n",
    "    # Only with this method written, class Fraction(a,b) will return the string. \n",
    "    def __str__(self):\n",
    "        return str(self.num)+\"/\"+str(self.den)\n",
    "\n",
    "f = Fraction(2,5) #str is returned from __str__ method\n",
    "print f\n",
    "f.show() #also prints the string"
   ]
  }
 ],
 "metadata": {
  "kernelspec": {
   "display_name": "Python 2",
   "language": "python",
   "name": "python2"
  },
  "language_info": {
   "codemirror_mode": {
    "name": "ipython",
    "version": 2
   },
   "file_extension": ".py",
   "mimetype": "text/x-python",
   "name": "python",
   "nbconvert_exporter": "python",
   "pygments_lexer": "ipython2",
   "version": "2.7.11"
  }
 },
 "nbformat": 4,
 "nbformat_minor": 0
}
